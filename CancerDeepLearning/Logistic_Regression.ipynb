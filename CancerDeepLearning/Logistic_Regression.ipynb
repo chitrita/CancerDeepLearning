{
 "cells": [
  {
   "cell_type": "markdown",
   "metadata": {},
   "source": [
    "## Logistic Regression on Copy Number Variation and RNAseq"
   ]
  },
  {
   "cell_type": "code",
   "execution_count": 1,
   "metadata": {},
   "outputs": [],
   "source": [
    "import pandas as pd"
   ]
  },
  {
   "cell_type": "code",
   "execution_count": 2,
   "metadata": {},
   "outputs": [],
   "source": [
    "#Import Data\n",
    "y = pd.read_table('/Users/a.su/Documents/Cancer_RNAseq_CNV/CancerTypes_y.txt', sep = '\\t', header = None)\n",
    "x_cnv = pd.read_table('/Users/a.su/Documents/Cancer_RNAseq_CNV/CNV_processed.txt', sep = '\\t', header = 0)\n",
    "x_rna = pd.read_table('/Users/a.su/Documents/Cancer_RNAseq_CNV/RNAseq_processed.txt', sep = '\\t', header = 0)"
   ]
  },
  {
   "cell_type": "code",
   "execution_count": 3,
   "metadata": {},
   "outputs": [
    {
     "name": "stdout",
     "output_type": "stream",
     "text": [
      "x_cnv shape is: (668, 26094)\n",
      "x_rna shape is: (668, 26094)\n",
      "y shape is: (668, 1)\n"
     ]
    }
   ],
   "source": [
    "# Remove GeneID Column\n",
    "x_cnv = x_cnv.drop('GeneID', axis = 1)\n",
    "x_rna = x_rna.drop('GeneID', axis = 1)\n",
    "# Transpose\n",
    "x_cnv = x_cnv.transpose()\n",
    "x_rna = x_rna.transpose()\n",
    "print('x_cnv shape is:', x_cnv.shape)\n",
    "print('x_rna shape is:', x_rna.shape)\n",
    "print('y shape is:', y.shape)"
   ]
  },
  {
   "cell_type": "markdown",
   "metadata": {},
   "source": [
    "#### DropNa from CNV data"
   ]
  },
  {
   "cell_type": "code",
   "execution_count": 4,
   "metadata": {},
   "outputs": [
    {
     "name": "stdout",
     "output_type": "stream",
     "text": [
      "(542, 26095)\n"
     ]
    }
   ],
   "source": [
    "#Merge CNV x and y data\n",
    "cnv = x_cnv.reset_index(drop = True)\n",
    "cnv['y'] = y[0]\n",
    "\n",
    "#Drop NaN\n",
    "cnv_clean = cnv.dropna('index')\n",
    "print(cnv_clean.shape)\n",
    "\n",
    "#Unmerge CNV x and y data\n",
    "y_cnv_clean = cnv_clean['y']\n",
    "x_cnv_clean = cnv_clean.drop(['y'], axis = 1)"
   ]
  },
  {
   "cell_type": "markdown",
   "metadata": {},
   "source": [
    "#### Impute CNV data"
   ]
  },
  {
   "cell_type": "code",
   "execution_count": 5,
   "metadata": {},
   "outputs": [
    {
     "data": {
      "text/plain": [
       "False"
      ]
     },
     "execution_count": 5,
     "metadata": {},
     "output_type": "execute_result"
    }
   ],
   "source": [
    "import numpy as np\n",
    "from sklearn.impute import SimpleImputer\n",
    "impute_median = SimpleImputer(strategy = 'median')\n",
    "\n",
    "#Impute \n",
    "y_cnv_imputed = cnv['y']\n",
    "x_cnv_imputed = cnv.drop(['y'], axis = 1)\n",
    "x_cnv_imputed = impute_median.fit_transform(x_cnv_imputed)\n",
    "\n",
    "#Check for NaN values\n",
    "np.isnan(x_cnv_imputed).all()"
   ]
  },
  {
   "cell_type": "code",
   "execution_count": 6,
   "metadata": {},
   "outputs": [
    {
     "data": {
      "text/plain": [
       "0.0"
      ]
     },
     "execution_count": 6,
     "metadata": {},
     "output_type": "execute_result"
    }
   ],
   "source": [
    "x_rna[798].sum()"
   ]
  },
  {
   "cell_type": "code",
   "execution_count": 7,
   "metadata": {},
   "outputs": [
    {
     "data": {
      "text/plain": [
       "111"
      ]
     },
     "execution_count": 7,
     "metadata": {},
     "output_type": "execute_result"
    }
   ],
   "source": [
    "x_rna.std().value_counts()[0]"
   ]
  },
  {
   "cell_type": "code",
   "execution_count": 8,
   "metadata": {},
   "outputs": [
    {
     "data": {
      "text/plain": [
       "111"
      ]
     },
     "execution_count": 8,
     "metadata": {},
     "output_type": "execute_result"
    }
   ],
   "source": [
    "x_rna.sum().value_counts()[0]"
   ]
  },
  {
   "cell_type": "markdown",
   "metadata": {},
   "source": [
    "#### Scale RNASeq and CNV data"
   ]
  },
  {
   "cell_type": "code",
   "execution_count": 9,
   "metadata": {},
   "outputs": [],
   "source": [
    "def zscore(x):\n",
    "    if x.std()==0:\n",
    "        return x\n",
    "    else:\n",
    "        return (x-x.mean())/ x.std()\n",
    "    \n",
    "x_cnv_imputed = pd.DataFrame(x_cnv_imputed)"
   ]
  },
  {
   "cell_type": "code",
   "execution_count": 10,
   "metadata": {},
   "outputs": [],
   "source": [
    "x_rna_processed = x_rna.transform(zscore)\n",
    "y_rna_processed = y\n",
    "x_cnv_processed = x_cnv_imputed.transform(zscore)\n",
    "y_cnv_processed = y"
   ]
  },
  {
   "cell_type": "code",
   "execution_count": 11,
   "metadata": {},
   "outputs": [
    {
     "data": {
      "text/html": [
       "<div>\n",
       "<style scoped>\n",
       "    .dataframe tbody tr th:only-of-type {\n",
       "        vertical-align: middle;\n",
       "    }\n",
       "\n",
       "    .dataframe tbody tr th {\n",
       "        vertical-align: top;\n",
       "    }\n",
       "\n",
       "    .dataframe thead th {\n",
       "        text-align: right;\n",
       "    }\n",
       "</style>\n",
       "<table border=\"1\" class=\"dataframe\">\n",
       "  <thead>\n",
       "    <tr style=\"text-align: right;\">\n",
       "      <th></th>\n",
       "      <th>20167</th>\n",
       "      <th>13722</th>\n",
       "      <th>1851</th>\n",
       "      <th>20881</th>\n",
       "      <th>22115</th>\n",
       "      <th>2616</th>\n",
       "      <th>24483</th>\n",
       "      <th>17158</th>\n",
       "      <th>9159</th>\n",
       "      <th>12455</th>\n",
       "    </tr>\n",
       "  </thead>\n",
       "  <tbody>\n",
       "    <tr>\n",
       "      <th>count</th>\n",
       "      <td>6.680000e+02</td>\n",
       "      <td>6.680000e+02</td>\n",
       "      <td>6.680000e+02</td>\n",
       "      <td>6.680000e+02</td>\n",
       "      <td>6.680000e+02</td>\n",
       "      <td>6.680000e+02</td>\n",
       "      <td>6.680000e+02</td>\n",
       "      <td>6.680000e+02</td>\n",
       "      <td>6.680000e+02</td>\n",
       "      <td>6.680000e+02</td>\n",
       "    </tr>\n",
       "    <tr>\n",
       "      <th>mean</th>\n",
       "      <td>-2.629301e-16</td>\n",
       "      <td>2.869461e-16</td>\n",
       "      <td>3.154600e-16</td>\n",
       "      <td>-9.938823e-17</td>\n",
       "      <td>2.197178e-16</td>\n",
       "      <td>5.168853e-17</td>\n",
       "      <td>3.488145e-17</td>\n",
       "      <td>6.305668e-16</td>\n",
       "      <td>5.308046e-17</td>\n",
       "      <td>4.613949e-16</td>\n",
       "    </tr>\n",
       "    <tr>\n",
       "      <th>std</th>\n",
       "      <td>1.000000e+00</td>\n",
       "      <td>1.000000e+00</td>\n",
       "      <td>1.000000e+00</td>\n",
       "      <td>1.000000e+00</td>\n",
       "      <td>1.000000e+00</td>\n",
       "      <td>1.000000e+00</td>\n",
       "      <td>1.000000e+00</td>\n",
       "      <td>1.000000e+00</td>\n",
       "      <td>1.000000e+00</td>\n",
       "      <td>1.000000e+00</td>\n",
       "    </tr>\n",
       "    <tr>\n",
       "      <th>min</th>\n",
       "      <td>-1.951823e+00</td>\n",
       "      <td>-5.383599e-01</td>\n",
       "      <td>-2.905367e-01</td>\n",
       "      <td>-8.464251e-01</td>\n",
       "      <td>-1.674765e-01</td>\n",
       "      <td>-2.783002e-01</td>\n",
       "      <td>-2.635522e-01</td>\n",
       "      <td>-3.203946e-01</td>\n",
       "      <td>-1.222212e-01</td>\n",
       "      <td>-2.633668e-01</td>\n",
       "    </tr>\n",
       "    <tr>\n",
       "      <th>25%</th>\n",
       "      <td>-7.284997e-01</td>\n",
       "      <td>-3.261010e-01</td>\n",
       "      <td>-2.843474e-01</td>\n",
       "      <td>-4.757437e-01</td>\n",
       "      <td>-1.674765e-01</td>\n",
       "      <td>-2.783002e-01</td>\n",
       "      <td>-2.635522e-01</td>\n",
       "      <td>-3.191388e-01</td>\n",
       "      <td>-9.936017e-02</td>\n",
       "      <td>-2.542393e-01</td>\n",
       "    </tr>\n",
       "    <tr>\n",
       "      <th>50%</th>\n",
       "      <td>-1.629567e-01</td>\n",
       "      <td>-1.201987e-01</td>\n",
       "      <td>-2.644411e-01</td>\n",
       "      <td>-2.406168e-01</td>\n",
       "      <td>-1.674765e-01</td>\n",
       "      <td>-2.783002e-01</td>\n",
       "      <td>-2.258160e-01</td>\n",
       "      <td>-2.704277e-01</td>\n",
       "      <td>-8.409800e-02</td>\n",
       "      <td>-2.370407e-01</td>\n",
       "    </tr>\n",
       "    <tr>\n",
       "      <th>75%</th>\n",
       "      <td>6.530044e-01</td>\n",
       "      <td>9.866376e-02</td>\n",
       "      <td>-1.833225e-01</td>\n",
       "      <td>1.549925e-01</td>\n",
       "      <td>-1.674765e-01</td>\n",
       "      <td>-2.783002e-01</td>\n",
       "      <td>-9.827778e-02</td>\n",
       "      <td>-8.017529e-03</td>\n",
       "      <td>-5.816563e-02</td>\n",
       "      <td>-1.294160e-01</td>\n",
       "    </tr>\n",
       "    <tr>\n",
       "      <th>max</th>\n",
       "      <td>4.601089e+00</td>\n",
       "      <td>2.045431e+01</td>\n",
       "      <td>1.014046e+01</td>\n",
       "      <td>1.709777e+01</td>\n",
       "      <td>1.036064e+01</td>\n",
       "      <td>9.988732e+00</td>\n",
       "      <td>1.314159e+01</td>\n",
       "      <td>1.417645e+01</td>\n",
       "      <td>2.401772e+01</td>\n",
       "      <td>1.993918e+01</td>\n",
       "    </tr>\n",
       "  </tbody>\n",
       "</table>\n",
       "</div>"
      ],
      "text/plain": [
       "              20167         13722         1851          20881         22115  \\\n",
       "count  6.680000e+02  6.680000e+02  6.680000e+02  6.680000e+02  6.680000e+02   \n",
       "mean  -2.629301e-16  2.869461e-16  3.154600e-16 -9.938823e-17  2.197178e-16   \n",
       "std    1.000000e+00  1.000000e+00  1.000000e+00  1.000000e+00  1.000000e+00   \n",
       "min   -1.951823e+00 -5.383599e-01 -2.905367e-01 -8.464251e-01 -1.674765e-01   \n",
       "25%   -7.284997e-01 -3.261010e-01 -2.843474e-01 -4.757437e-01 -1.674765e-01   \n",
       "50%   -1.629567e-01 -1.201987e-01 -2.644411e-01 -2.406168e-01 -1.674765e-01   \n",
       "75%    6.530044e-01  9.866376e-02 -1.833225e-01  1.549925e-01 -1.674765e-01   \n",
       "max    4.601089e+00  2.045431e+01  1.014046e+01  1.709777e+01  1.036064e+01   \n",
       "\n",
       "              2616          24483         17158         9159          12455  \n",
       "count  6.680000e+02  6.680000e+02  6.680000e+02  6.680000e+02  6.680000e+02  \n",
       "mean   5.168853e-17  3.488145e-17  6.305668e-16  5.308046e-17  4.613949e-16  \n",
       "std    1.000000e+00  1.000000e+00  1.000000e+00  1.000000e+00  1.000000e+00  \n",
       "min   -2.783002e-01 -2.635522e-01 -3.203946e-01 -1.222212e-01 -2.633668e-01  \n",
       "25%   -2.783002e-01 -2.635522e-01 -3.191388e-01 -9.936017e-02 -2.542393e-01  \n",
       "50%   -2.783002e-01 -2.258160e-01 -2.704277e-01 -8.409800e-02 -2.370407e-01  \n",
       "75%   -2.783002e-01 -9.827778e-02 -8.017529e-03 -5.816563e-02 -1.294160e-01  \n",
       "max    9.988732e+00  1.314159e+01  1.417645e+01  2.401772e+01  1.993918e+01  "
      ]
     },
     "execution_count": 11,
     "metadata": {},
     "output_type": "execute_result"
    }
   ],
   "source": [
    "#Visualise\n",
    "x_rna_processed[np.random.choice(x_rna_processed.columns.values, size = 10, replace = False)].describe()"
   ]
  },
  {
   "cell_type": "code",
   "execution_count": 12,
   "metadata": {},
   "outputs": [
    {
     "data": {
      "text/html": [
       "<div>\n",
       "<style scoped>\n",
       "    .dataframe tbody tr th:only-of-type {\n",
       "        vertical-align: middle;\n",
       "    }\n",
       "\n",
       "    .dataframe tbody tr th {\n",
       "        vertical-align: top;\n",
       "    }\n",
       "\n",
       "    .dataframe thead th {\n",
       "        text-align: right;\n",
       "    }\n",
       "</style>\n",
       "<table border=\"1\" class=\"dataframe\">\n",
       "  <thead>\n",
       "    <tr style=\"text-align: right;\">\n",
       "      <th></th>\n",
       "      <th>17514</th>\n",
       "      <th>2218</th>\n",
       "      <th>6406</th>\n",
       "      <th>19231</th>\n",
       "      <th>17600</th>\n",
       "      <th>9845</th>\n",
       "      <th>9865</th>\n",
       "      <th>2760</th>\n",
       "      <th>25251</th>\n",
       "      <th>25653</th>\n",
       "    </tr>\n",
       "  </thead>\n",
       "  <tbody>\n",
       "    <tr>\n",
       "      <th>count</th>\n",
       "      <td>668.000000</td>\n",
       "      <td>6.680000e+02</td>\n",
       "      <td>6.680000e+02</td>\n",
       "      <td>6.680000e+02</td>\n",
       "      <td>6.680000e+02</td>\n",
       "      <td>6.680000e+02</td>\n",
       "      <td>6.680000e+02</td>\n",
       "      <td>6.680000e+02</td>\n",
       "      <td>6.680000e+02</td>\n",
       "      <td>6.680000e+02</td>\n",
       "    </tr>\n",
       "    <tr>\n",
       "      <th>mean</th>\n",
       "      <td>0.000000</td>\n",
       "      <td>-2.601877e-16</td>\n",
       "      <td>-4.028713e-16</td>\n",
       "      <td>3.294845e-16</td>\n",
       "      <td>-7.977650e-18</td>\n",
       "      <td>-4.296297e-16</td>\n",
       "      <td>2.720711e-16</td>\n",
       "      <td>-1.030447e-17</td>\n",
       "      <td>-2.394292e-15</td>\n",
       "      <td>-2.037230e-15</td>\n",
       "    </tr>\n",
       "    <tr>\n",
       "      <th>std</th>\n",
       "      <td>1.000000</td>\n",
       "      <td>1.000000e+00</td>\n",
       "      <td>1.000000e+00</td>\n",
       "      <td>1.000000e+00</td>\n",
       "      <td>1.000000e+00</td>\n",
       "      <td>1.000000e+00</td>\n",
       "      <td>1.000000e+00</td>\n",
       "      <td>1.000000e+00</td>\n",
       "      <td>1.000000e+00</td>\n",
       "      <td>1.000000e+00</td>\n",
       "    </tr>\n",
       "    <tr>\n",
       "      <th>min</th>\n",
       "      <td>-3.350723</td>\n",
       "      <td>-2.730845e+00</td>\n",
       "      <td>-3.371695e+00</td>\n",
       "      <td>-3.540759e+00</td>\n",
       "      <td>-3.229626e+00</td>\n",
       "      <td>-2.640640e+00</td>\n",
       "      <td>-2.424162e+00</td>\n",
       "      <td>-3.227621e+00</td>\n",
       "      <td>-1.607544e+00</td>\n",
       "      <td>-1.393965e+00</td>\n",
       "    </tr>\n",
       "    <tr>\n",
       "      <th>25%</th>\n",
       "      <td>-0.646967</td>\n",
       "      <td>-5.951384e-01</td>\n",
       "      <td>-6.712804e-01</td>\n",
       "      <td>-6.471260e-01</td>\n",
       "      <td>-6.690610e-01</td>\n",
       "      <td>-5.516521e-01</td>\n",
       "      <td>-5.678252e-01</td>\n",
       "      <td>-5.805555e-01</td>\n",
       "      <td>-7.253051e-01</td>\n",
       "      <td>-7.654442e-01</td>\n",
       "    </tr>\n",
       "    <tr>\n",
       "      <th>50%</th>\n",
       "      <td>-0.088708</td>\n",
       "      <td>-1.115878e-01</td>\n",
       "      <td>1.587067e-02</td>\n",
       "      <td>-9.453480e-02</td>\n",
       "      <td>-9.478632e-02</td>\n",
       "      <td>-1.534077e-01</td>\n",
       "      <td>-1.355019e-01</td>\n",
       "      <td>-1.323432e-01</td>\n",
       "      <td>-2.843400e-01</td>\n",
       "      <td>-3.247902e-01</td>\n",
       "    </tr>\n",
       "    <tr>\n",
       "      <th>75%</th>\n",
       "      <td>0.580878</td>\n",
       "      <td>5.241901e-01</td>\n",
       "      <td>5.776923e-01</td>\n",
       "      <td>6.451988e-01</td>\n",
       "      <td>5.932435e-01</td>\n",
       "      <td>5.616168e-01</td>\n",
       "      <td>5.438505e-01</td>\n",
       "      <td>5.491761e-01</td>\n",
       "      <td>3.970244e-01</td>\n",
       "      <td>4.908609e-01</td>\n",
       "    </tr>\n",
       "    <tr>\n",
       "      <th>max</th>\n",
       "      <td>3.776404</td>\n",
       "      <td>4.603302e+00</td>\n",
       "      <td>4.614150e+00</td>\n",
       "      <td>3.399421e+00</td>\n",
       "      <td>3.330405e+00</td>\n",
       "      <td>5.611250e+00</td>\n",
       "      <td>8.916026e+00</td>\n",
       "      <td>4.207141e+00</td>\n",
       "      <td>5.193424e+00</td>\n",
       "      <td>3.727471e+00</td>\n",
       "    </tr>\n",
       "  </tbody>\n",
       "</table>\n",
       "</div>"
      ],
      "text/plain": [
       "            17514         2218          6406          19231         17600  \\\n",
       "count  668.000000  6.680000e+02  6.680000e+02  6.680000e+02  6.680000e+02   \n",
       "mean     0.000000 -2.601877e-16 -4.028713e-16  3.294845e-16 -7.977650e-18   \n",
       "std      1.000000  1.000000e+00  1.000000e+00  1.000000e+00  1.000000e+00   \n",
       "min     -3.350723 -2.730845e+00 -3.371695e+00 -3.540759e+00 -3.229626e+00   \n",
       "25%     -0.646967 -5.951384e-01 -6.712804e-01 -6.471260e-01 -6.690610e-01   \n",
       "50%     -0.088708 -1.115878e-01  1.587067e-02 -9.453480e-02 -9.478632e-02   \n",
       "75%      0.580878  5.241901e-01  5.776923e-01  6.451988e-01  5.932435e-01   \n",
       "max      3.776404  4.603302e+00  4.614150e+00  3.399421e+00  3.330405e+00   \n",
       "\n",
       "              9845          9865          2760          25251         25653  \n",
       "count  6.680000e+02  6.680000e+02  6.680000e+02  6.680000e+02  6.680000e+02  \n",
       "mean  -4.296297e-16  2.720711e-16 -1.030447e-17 -2.394292e-15 -2.037230e-15  \n",
       "std    1.000000e+00  1.000000e+00  1.000000e+00  1.000000e+00  1.000000e+00  \n",
       "min   -2.640640e+00 -2.424162e+00 -3.227621e+00 -1.607544e+00 -1.393965e+00  \n",
       "25%   -5.516521e-01 -5.678252e-01 -5.805555e-01 -7.253051e-01 -7.654442e-01  \n",
       "50%   -1.534077e-01 -1.355019e-01 -1.323432e-01 -2.843400e-01 -3.247902e-01  \n",
       "75%    5.616168e-01  5.438505e-01  5.491761e-01  3.970244e-01  4.908609e-01  \n",
       "max    5.611250e+00  8.916026e+00  4.207141e+00  5.193424e+00  3.727471e+00  "
      ]
     },
     "execution_count": 12,
     "metadata": {},
     "output_type": "execute_result"
    }
   ],
   "source": [
    "x_cnv_processed[np.random.choice(x_cnv_processed.columns.values, size = 10, replace = False)].describe()"
   ]
  },
  {
   "cell_type": "code",
   "execution_count": 13,
   "metadata": {},
   "outputs": [
    {
     "name": "stdout",
     "output_type": "stream",
     "text": [
      "False\n",
      "False\n"
     ]
    }
   ],
   "source": [
    "#Check for NaN values\n",
    "print(x_rna_processed.isnull().any().any())\n",
    "print(x_cnv_processed.isnull().any().any())"
   ]
  },
  {
   "cell_type": "markdown",
   "metadata": {},
   "source": [
    "### Logistic Regression on CNV and RNAseq Individually (Unprocessed Data)"
   ]
  },
  {
   "cell_type": "code",
   "execution_count": 14,
   "metadata": {},
   "outputs": [],
   "source": [
    "from sklearn.model_selection import train_test_split\n",
    "from sklearn.linear_model import LogisticRegression"
   ]
  },
  {
   "cell_type": "code",
   "execution_count": 15,
   "metadata": {},
   "outputs": [
    {
     "data": {
      "text/plain": [
       "LogisticRegression(C=1.0, class_weight=None, dual=False, fit_intercept=True,\n",
       "          intercept_scaling=1, max_iter=100, multi_class='warn',\n",
       "          n_jobs=None, penalty='l1', random_state=None, solver='liblinear',\n",
       "          tol=0.0001, verbose=0, warm_start=False)"
      ]
     },
     "execution_count": 15,
     "metadata": {},
     "output_type": "execute_result"
    }
   ],
   "source": [
    "#Split data into training and test sets\n",
    "x_cnv_train, x_cnv_test, y_cnv_train, y_cnv_test = train_test_split(x_cnv_clean, y_cnv_clean.values.flatten(), test_size = 0.25, random_state = 0)\n",
    "x_rna_train, x_rna_test, y_rna_train, y_rna_test = train_test_split(x_rna, y.values.flatten(), test_size = 0.25, random_state = 0)\n",
    "\n",
    "CNV_regression = LogisticRegression(penalty = 'l1', solver = 'liblinear')\n",
    "RNA_regression = LogisticRegression(penalty = 'l1', solver = 'liblinear')\n",
    "\n",
    "#Fit train set\n",
    "CNV_regression.fit(x_cnv_train, y_cnv_train)\n",
    "RNA_regression.fit(x_rna_train, y_rna_train)"
   ]
  },
  {
   "cell_type": "code",
   "execution_count": 16,
   "metadata": {},
   "outputs": [
    {
     "name": "stdout",
     "output_type": "stream",
     "text": [
      "CNV accuracy: 0.7132352941176471\n",
      "RNA accurary: 0.7844311377245509\n"
     ]
    }
   ],
   "source": [
    "print('CNV accuracy:', CNV_regression.score(x_cnv_test, y_cnv_test))\n",
    "print('RNA accurary:', RNA_regression.score(x_rna_test, y_rna_test))"
   ]
  },
  {
   "cell_type": "markdown",
   "metadata": {},
   "source": [
    "### Logistic Regression on CNV and RNAseq Individually (Processed Data)\n",
    "Processing include imputation and scaling"
   ]
  },
  {
   "cell_type": "code",
   "execution_count": 17,
   "metadata": {},
   "outputs": [
    {
     "data": {
      "text/plain": [
       "LogisticRegression(C=1.0, class_weight=None, dual=False, fit_intercept=True,\n",
       "          intercept_scaling=1, max_iter=100, multi_class='warn',\n",
       "          n_jobs=None, penalty='l1', random_state=None, solver='liblinear',\n",
       "          tol=0.0001, verbose=0, warm_start=False)"
      ]
     },
     "execution_count": 17,
     "metadata": {},
     "output_type": "execute_result"
    }
   ],
   "source": [
    "#Split data into training and test sets\n",
    "x_cnv_processed_train, x_cnv_processed_test, y_cnv_processed_train, y_cnv_processed_test = train_test_split(\n",
    "    x_cnv_processed, y_cnv_processed.values.flatten(), test_size = 0.25, random_state = 0)\n",
    "x_rna_processed_train, x_rna_processed_test, y_rna_processed_train, y_rna_processed_test = train_test_split(\n",
    "    x_rna_processed, y_rna_processed.values.flatten(), test_size = 0.25, random_state = 0)\n",
    "\n",
    "CNV_processed_regression = LogisticRegression(penalty = 'l1', solver = 'liblinear')\n",
    "RNA_processed_regression = LogisticRegression(penalty = 'l1', solver = 'liblinear')\n",
    "\n",
    "#Fit train set\n",
    "CNV_processed_regression.fit(x_cnv_processed_train, y_cnv_processed_train)\n",
    "RNA_processed_regression.fit(x_rna_processed_train, y_rna_processed_train)"
   ]
  },
  {
   "cell_type": "code",
   "execution_count": 18,
   "metadata": {},
   "outputs": [
    {
     "name": "stdout",
     "output_type": "stream",
     "text": [
      "CNV processed accuracy: 0.7305389221556886\n",
      "RNA processed accurary: 0.8143712574850299\n"
     ]
    }
   ],
   "source": [
    "print('CNV processed accuracy:', CNV_processed_regression.score(x_cnv_processed_test, y_cnv_processed_test))\n",
    "print('RNA processed accurary:', RNA_processed_regression.score(x_rna_processed_test, y_rna_processed_test))"
   ]
  },
  {
   "cell_type": "markdown",
   "metadata": {},
   "source": [
    "### Logistic Regression on combined CNV and RNAseq data (processed)"
   ]
  },
  {
   "cell_type": "code",
   "execution_count": 20,
   "metadata": {},
   "outputs": [
    {
     "data": {
      "text/plain": [
       "(668, 52188)"
      ]
     },
     "execution_count": 20,
     "metadata": {},
     "output_type": "execute_result"
    }
   ],
   "source": [
    "x_combined = pd.concat([x_cnv_processed.reset_index(drop = True), x_rna_processed.reset_index(drop = True)] , axis = 1)\n",
    "y_combined = y[0]\n",
    "x_combined.shape"
   ]
  },
  {
   "cell_type": "code",
   "execution_count": 26,
   "metadata": {},
   "outputs": [
    {
     "data": {
      "text/html": [
       "<div>\n",
       "<style scoped>\n",
       "    .dataframe tbody tr th:only-of-type {\n",
       "        vertical-align: middle;\n",
       "    }\n",
       "\n",
       "    .dataframe tbody tr th {\n",
       "        vertical-align: top;\n",
       "    }\n",
       "\n",
       "    .dataframe thead th {\n",
       "        text-align: right;\n",
       "    }\n",
       "</style>\n",
       "<table border=\"1\" class=\"dataframe\">\n",
       "  <thead>\n",
       "    <tr style=\"text-align: right;\">\n",
       "      <th></th>\n",
       "      <th>1615</th>\n",
       "      <th>1615</th>\n",
       "      <th>10777</th>\n",
       "      <th>10777</th>\n",
       "      <th>24346</th>\n",
       "      <th>24346</th>\n",
       "      <th>5087</th>\n",
       "      <th>5087</th>\n",
       "      <th>14471</th>\n",
       "      <th>14471</th>\n",
       "    </tr>\n",
       "  </thead>\n",
       "  <tbody>\n",
       "    <tr>\n",
       "      <th>count</th>\n",
       "      <td>6.680000e+02</td>\n",
       "      <td>6.680000e+02</td>\n",
       "      <td>6.680000e+02</td>\n",
       "      <td>6.680000e+02</td>\n",
       "      <td>6.680000e+02</td>\n",
       "      <td>6.680000e+02</td>\n",
       "      <td>6.680000e+02</td>\n",
       "      <td>6.680000e+02</td>\n",
       "      <td>6.680000e+02</td>\n",
       "      <td>6.680000e+02</td>\n",
       "    </tr>\n",
       "    <tr>\n",
       "      <th>mean</th>\n",
       "      <td>-6.156087e-16</td>\n",
       "      <td>-1.906326e-16</td>\n",
       "      <td>-4.720110e-16</td>\n",
       "      <td>1.014242e-16</td>\n",
       "      <td>-1.998568e-17</td>\n",
       "      <td>1.804112e-16</td>\n",
       "      <td>1.525726e-16</td>\n",
       "      <td>6.982937e-16</td>\n",
       "      <td>-1.223240e-16</td>\n",
       "      <td>5.630061e-17</td>\n",
       "    </tr>\n",
       "    <tr>\n",
       "      <th>std</th>\n",
       "      <td>1.000000e+00</td>\n",
       "      <td>1.000000e+00</td>\n",
       "      <td>1.000000e+00</td>\n",
       "      <td>1.000000e+00</td>\n",
       "      <td>1.000000e+00</td>\n",
       "      <td>1.000000e+00</td>\n",
       "      <td>1.000000e+00</td>\n",
       "      <td>1.000000e+00</td>\n",
       "      <td>1.000000e+00</td>\n",
       "      <td>1.000000e+00</td>\n",
       "    </tr>\n",
       "    <tr>\n",
       "      <th>min</th>\n",
       "      <td>-2.188317e+00</td>\n",
       "      <td>-3.089328e-01</td>\n",
       "      <td>-2.680577e+00</td>\n",
       "      <td>-2.013275e-01</td>\n",
       "      <td>-3.562418e+00</td>\n",
       "      <td>-1.250397e+00</td>\n",
       "      <td>-3.455665e+00</td>\n",
       "      <td>-1.328679e+00</td>\n",
       "      <td>-3.850974e+00</td>\n",
       "      <td>-5.081912e-01</td>\n",
       "    </tr>\n",
       "    <tr>\n",
       "      <th>25%</th>\n",
       "      <td>-6.721086e-01</td>\n",
       "      <td>-3.089328e-01</td>\n",
       "      <td>-6.638914e-01</td>\n",
       "      <td>-2.013275e-01</td>\n",
       "      <td>-6.024707e-01</td>\n",
       "      <td>-6.205395e-01</td>\n",
       "      <td>-5.975352e-01</td>\n",
       "      <td>-6.223773e-01</td>\n",
       "      <td>-6.424703e-01</td>\n",
       "      <td>-5.081912e-01</td>\n",
       "    </tr>\n",
       "    <tr>\n",
       "      <th>50%</th>\n",
       "      <td>-1.958949e-01</td>\n",
       "      <td>-3.089328e-01</td>\n",
       "      <td>5.822450e-02</td>\n",
       "      <td>-1.999130e-01</td>\n",
       "      <td>-1.206120e-02</td>\n",
       "      <td>-1.727304e-01</td>\n",
       "      <td>-1.517362e-01</td>\n",
       "      <td>-1.597236e-01</td>\n",
       "      <td>-1.103181e-01</td>\n",
       "      <td>-5.081912e-01</td>\n",
       "    </tr>\n",
       "    <tr>\n",
       "      <th>75%</th>\n",
       "      <td>5.824420e-01</td>\n",
       "      <td>-3.089328e-01</td>\n",
       "      <td>5.747847e-01</td>\n",
       "      <td>-1.708022e-01</td>\n",
       "      <td>5.530157e-01</td>\n",
       "      <td>4.176557e-01</td>\n",
       "      <td>5.355811e-01</td>\n",
       "      <td>3.796574e-01</td>\n",
       "      <td>6.139116e-01</td>\n",
       "      <td>1.526267e-01</td>\n",
       "    </tr>\n",
       "    <tr>\n",
       "      <th>max</th>\n",
       "      <td>4.406788e+00</td>\n",
       "      <td>8.497962e+00</td>\n",
       "      <td>3.444999e+00</td>\n",
       "      <td>1.509500e+01</td>\n",
       "      <td>3.086978e+00</td>\n",
       "      <td>7.751441e+00</td>\n",
       "      <td>2.850147e+00</td>\n",
       "      <td>6.157041e+00</td>\n",
       "      <td>4.228769e+00</td>\n",
       "      <td>9.630502e+00</td>\n",
       "    </tr>\n",
       "  </tbody>\n",
       "</table>\n",
       "</div>"
      ],
      "text/plain": [
       "              1615          1615          10777         10777         24346  \\\n",
       "count  6.680000e+02  6.680000e+02  6.680000e+02  6.680000e+02  6.680000e+02   \n",
       "mean  -6.156087e-16 -1.906326e-16 -4.720110e-16  1.014242e-16 -1.998568e-17   \n",
       "std    1.000000e+00  1.000000e+00  1.000000e+00  1.000000e+00  1.000000e+00   \n",
       "min   -2.188317e+00 -3.089328e-01 -2.680577e+00 -2.013275e-01 -3.562418e+00   \n",
       "25%   -6.721086e-01 -3.089328e-01 -6.638914e-01 -2.013275e-01 -6.024707e-01   \n",
       "50%   -1.958949e-01 -3.089328e-01  5.822450e-02 -1.999130e-01 -1.206120e-02   \n",
       "75%    5.824420e-01 -3.089328e-01  5.747847e-01 -1.708022e-01  5.530157e-01   \n",
       "max    4.406788e+00  8.497962e+00  3.444999e+00  1.509500e+01  3.086978e+00   \n",
       "\n",
       "              24346         5087          5087          14471         14471  \n",
       "count  6.680000e+02  6.680000e+02  6.680000e+02  6.680000e+02  6.680000e+02  \n",
       "mean   1.804112e-16  1.525726e-16  6.982937e-16 -1.223240e-16  5.630061e-17  \n",
       "std    1.000000e+00  1.000000e+00  1.000000e+00  1.000000e+00  1.000000e+00  \n",
       "min   -1.250397e+00 -3.455665e+00 -1.328679e+00 -3.850974e+00 -5.081912e-01  \n",
       "25%   -6.205395e-01 -5.975352e-01 -6.223773e-01 -6.424703e-01 -5.081912e-01  \n",
       "50%   -1.727304e-01 -1.517362e-01 -1.597236e-01 -1.103181e-01 -5.081912e-01  \n",
       "75%    4.176557e-01  5.355811e-01  3.796574e-01  6.139116e-01  1.526267e-01  \n",
       "max    7.751441e+00  2.850147e+00  6.157041e+00  4.228769e+00  9.630502e+00  "
      ]
     },
     "execution_count": 26,
     "metadata": {},
     "output_type": "execute_result"
    }
   ],
   "source": [
    "#Visualise\n",
    "x_combined[np.random.choice(x_combined.columns.values, size = 5, replace = False)].describe()"
   ]
  },
  {
   "cell_type": "code",
   "execution_count": 32,
   "metadata": {},
   "outputs": [
    {
     "data": {
      "text/plain": [
       "0.8562874251497006"
      ]
     },
     "execution_count": 32,
     "metadata": {},
     "output_type": "execute_result"
    }
   ],
   "source": [
    "#Split data into training and test sets\n",
    "x_combined_train, x_combined_test, y_combined_train, y_combined_test = train_test_split(\n",
    "    x_combined, y_combined.values.flatten(), test_size = 0.25, random_state = 0)\n",
    "\n",
    "Combined_regression = LogisticRegression(penalty = 'l1',solver = 'liblinear', random_state = 0)\n",
    "Combined_regression.fit(x_combined_train, y_combined_train)\n",
    "Combined_regression.score(x_combined_test, y_combined_test)"
   ]
  },
  {
   "cell_type": "code",
   "execution_count": 33,
   "metadata": {},
   "outputs": [],
   "source": [
    "combined_prediction = Combined_regression.predict(x_combined_test)"
   ]
  },
  {
   "cell_type": "markdown",
   "metadata": {},
   "source": [
    "#### Precision Recall Curve"
   ]
  },
  {
   "cell_type": "code",
   "execution_count": 34,
   "metadata": {},
   "outputs": [],
   "source": [
    "from sklearn.metrics import precision_recall_curve, confusion_matrix, roc_curve\n",
    "import matplotlib.pyplot as plt\n",
    "from sklearn.utils.fixes import signature"
   ]
  },
  {
   "cell_type": "code",
   "execution_count": 35,
   "metadata": {},
   "outputs": [],
   "source": [
    "precision, recall, _ = precision_recall_curve(y_combined_test, combined_prediction)"
   ]
  },
  {
   "cell_type": "code",
   "execution_count": 36,
   "metadata": {},
   "outputs": [],
   "source": [
    "precision_recall = list(zip(precision,recall))"
   ]
  },
  {
   "cell_type": "code",
   "execution_count": 37,
   "metadata": {},
   "outputs": [
    {
     "data": {
      "text/plain": [
       "[(0.31736526946107785, 1.0),\n",
       " (0.7735849056603774, 0.7735849056603774),\n",
       " (1.0, 0.0)]"
      ]
     },
     "execution_count": 37,
     "metadata": {},
     "output_type": "execute_result"
    }
   ],
   "source": [
    "precision_recall"
   ]
  },
  {
   "cell_type": "code",
   "execution_count": 38,
   "metadata": {},
   "outputs": [
    {
     "data": {
      "image/png": "[encoded data removed]",
      "text/plain": [
       "<Figure size 432x288 with 1 Axes>"
      ]
     },
     "metadata": {
      "needs_background": "light"
     },
     "output_type": "display_data"
    }
   ],
   "source": [
    "step_kwargs = ({'step': 'post'}\n",
    "               if 'step' in signature(plt.fill_between).parameters\n",
    "               else {})\n",
    "plt.step(recall, precision, color='b', alpha=0.2,\n",
    "         where='post')\n",
    "plt.fill_between(recall, precision, alpha=0.2, color='b', **step_kwargs)\n",
    "\n",
    "plt.xlabel('Recall')\n",
    "plt.ylabel('Precision')\n",
    "plt.ylim([0.0, 1.05])\n",
    "plt.xlim([0.0, 1.0])\n",
    "plt.show()"
   ]
  },
  {
   "cell_type": "markdown",
   "metadata": {},
   "source": [
    "#### ROC Curve"
   ]
  },
  {
   "cell_type": "code",
   "execution_count": 40,
   "metadata": {},
   "outputs": [],
   "source": [
    "fpr, tpr, thresholds = roc_curve(y_combined_test, combined_prediction)"
   ]
  },
  {
   "cell_type": "code",
   "execution_count": 42,
   "metadata": {},
   "outputs": [
    {
     "data": {
      "image/png": "[encoded data removed]",
      "text/plain": [
       "<Figure size 432x288 with 1 Axes>"
      ]
     },
     "metadata": {
      "needs_background": "light"
     },
     "output_type": "display_data"
    }
   ],
   "source": [
    "plt.plot(fpr, tpr)\n",
    "plt.xlabel('False Positive Rate')\n",
    "plt.ylabel('True Positive Rate')\n",
    "plt.show()"
   ]
  },
  {
   "cell_type": "markdown",
   "metadata": {},
   "source": [
    "#### Confusion Matrix"
   ]
  },
  {
   "cell_type": "code",
   "execution_count": 45,
   "metadata": {},
   "outputs": [
    {
     "data": {
      "text/plain": [
       "array([[102,  12],\n",
       "       [ 12,  41]])"
      ]
     },
     "execution_count": 45,
     "metadata": {},
     "output_type": "execute_result"
    }
   ],
   "source": [
    "confusion_matrix(y_combined_test, combined_prediction)"
   ]
  },
  {
   "cell_type": "code",
   "execution_count": 47,
   "metadata": {},
   "outputs": [],
   "source": [
    "import seaborn as sns"
   ]
  },
  {
   "cell_type": "code",
   "execution_count": 49,
   "metadata": {},
   "outputs": [
    {
     "data": {
      "text/plain": [
       "<matplotlib.axes._subplots.AxesSubplot at 0x1a4ac77b00>"
      ]
     },
     "execution_count": 49,
     "metadata": {},
     "output_type": "execute_result"
    },
    {
     "data": {
      "image/png": "[encoded data removed]",
      "text/plain": [
       "<Figure size 432x288 with 2 Axes>"
      ]
     },
     "metadata": {
      "needs_background": "light"
     },
     "output_type": "display_data"
    }
   ],
   "source": [
    "sns.heatmap(confusion_matrix(y_combined_test, combined_prediction), annot = True)"
   ]
  },
  {
   "cell_type": "markdown",
   "metadata": {},
   "source": [
    "#### Grid Search"
   ]
  },
  {
   "cell_type": "code",
   "execution_count": 113,
   "metadata": {},
   "outputs": [],
   "source": [
    "from sklearn.model_selection import GridSearchCV"
   ]
  },
  {
   "cell_type": "code",
   "execution_count": 164,
   "metadata": {},
   "outputs": [],
   "source": [
    "#c_values = [0.001, 0.01, 1, 10, 100, 1000]\n",
    "c_values = [1,5,6,7,8,9,10,11,12,13,14,15,20,50]\n",
    "parameters = {'C': c_values, 'penalty': ['l1','l2'], 'solver': ['liblinear']}\n",
    "clf = GridSearchCV(cv = 3, estimator = Combined_regression, param_grid = parameters)"
   ]
  },
  {
   "cell_type": "code",
   "execution_count": 165,
   "metadata": {},
   "outputs": [
    {
     "name": "stderr",
     "output_type": "stream",
     "text": [
      "/Users/a.su/anaconda3/lib/python3.6/site-packages/sklearn/model_selection/_search.py:841: DeprecationWarning: The default of the `iid` parameter will change from True to False in version 0.22 and will be removed in 0.24. This will change numeric results when test-set sizes are unequal.\n",
      "  DeprecationWarning)\n"
     ]
    },
    {
     "data": {
      "text/plain": [
       "GridSearchCV(cv=3, error_score='raise-deprecating',\n",
       "       estimator=LogisticRegression(C=1.0, class_weight=None, dual=False, fit_intercept=True,\n",
       "          intercept_scaling=1, max_iter=100, multi_class='warn',\n",
       "          n_jobs=None, penalty='l1', random_state=None, solver='liblinear',\n",
       "          tol=0.0001, verbose=0, warm_start=False),\n",
       "       fit_params=None, iid='warn', n_jobs=None,\n",
       "       param_grid={'C': [1, 5, 6, 7, 8, 9, 10, 11, 12, 13, 14, 15, 20, 50], 'penalty': ['l1', 'l2'], 'solver': ['liblinear']},\n",
       "       pre_dispatch='2*n_jobs', refit=True, return_train_score='warn',\n",
       "       scoring=None, verbose=0)"
      ]
     },
     "execution_count": 165,
     "metadata": {},
     "output_type": "execute_result"
    }
   ],
   "source": [
    "clf.fit(x_combined_train, y_combined_train)"
   ]
  },
  {
   "cell_type": "code",
   "execution_count": 166,
   "metadata": {},
   "outputs": [
    {
     "data": {
      "text/plain": [
       "0.812375249500998"
      ]
     },
     "execution_count": 166,
     "metadata": {},
     "output_type": "execute_result"
    }
   ],
   "source": [
    "clf.best_score_"
   ]
  },
  {
   "cell_type": "code",
   "execution_count": 167,
   "metadata": {},
   "outputs": [
    {
     "data": {
      "text/plain": [
       "0.8203592814371258"
      ]
     },
     "execution_count": 167,
     "metadata": {},
     "output_type": "execute_result"
    }
   ],
   "source": [
    "clf.score(x_combined_test, y_combined_test)"
   ]
  },
  {
   "cell_type": "code",
   "execution_count": 168,
   "metadata": {},
   "outputs": [
    {
     "data": {
      "text/plain": [
       "{'C': 12, 'penalty': 'l1', 'solver': 'liblinear'}"
      ]
     },
     "execution_count": 168,
     "metadata": {},
     "output_type": "execute_result"
    }
   ],
   "source": [
    "clf.best_params_"
   ]
  },
  {
   "cell_type": "markdown",
   "metadata": {},
   "source": [
    "#### Elastic Net"
   ]
  },
  {
   "cell_type": "code",
   "execution_count": 119,
   "metadata": {},
   "outputs": [],
   "source": [
    "from sklearn.linear_model import SGDClassifier"
   ]
  },
  {
   "cell_type": "code",
   "execution_count": 137,
   "metadata": {},
   "outputs": [],
   "source": [
    "SGD = SGDClassifier(alpha = 0.1, epsilon = 0.01, loss = 'log', max_iter = 100, penalty = 'elasticnet')"
   ]
  },
  {
   "cell_type": "code",
   "execution_count": 138,
   "metadata": {},
   "outputs": [
    {
     "data": {
      "text/plain": [
       "SGDClassifier(alpha=0.1, average=False, class_weight=None,\n",
       "       early_stopping=True, epsilon=0.01, eta0=0.0, fit_intercept=True,\n",
       "       l1_ratio=0.15, learning_rate='optimal', loss='log', max_iter=100,\n",
       "       n_iter=None, n_iter_no_change=5, n_jobs=None, penalty='elasticnet',\n",
       "       power_t=0.5, random_state=None, shuffle=True, tol=None,\n",
       "       validation_fraction=0.25, verbose=0, warm_start=False)"
      ]
     },
     "execution_count": 138,
     "metadata": {},
     "output_type": "execute_result"
    }
   ],
   "source": [
    "SGD.fit(x_combined_train, y_combined_train)"
   ]
  },
  {
   "cell_type": "code",
   "execution_count": 139,
   "metadata": {},
   "outputs": [
    {
     "data": {
      "text/plain": [
       "0.7664670658682635"
      ]
     },
     "execution_count": 139,
     "metadata": {},
     "output_type": "execute_result"
    }
   ],
   "source": [
    "SGD.score(x_combined_test, y_combined_test)"
   ]
  },
  {
   "cell_type": "code",
   "execution_count": 143,
   "metadata": {},
   "outputs": [],
   "source": [
    "SGD_parameters = {'alpha': [0.001, 0.001, 0.01, 0.1, 1, 10, 100, 1000, 10000], 'penalty':['elasticnet'], \n",
    "                  'epsilon': [0.001, 0.01, 0.1, 1, 10]}"
   ]
  },
  {
   "cell_type": "code",
   "execution_count": 144,
   "metadata": {},
   "outputs": [],
   "source": [
    "SGD_search = GridSearchCV(estimator = SGD, param_grid= SGD_parameters)"
   ]
  },
  {
   "cell_type": "code",
   "execution_count": 145,
   "metadata": {},
   "outputs": [
    {
     "name": "stderr",
     "output_type": "stream",
     "text": [
      "/Users/a.su/anaconda3/lib/python3.6/site-packages/sklearn/model_selection/_split.py:1943: FutureWarning: You should specify a value for 'cv' instead of relying on the default value. The default value will change from 3 to 5 in version 0.22.\n",
      "  warnings.warn(CV_WARNING, FutureWarning)\n",
      "/Users/a.su/anaconda3/lib/python3.6/site-packages/sklearn/model_selection/_search.py:841: DeprecationWarning: The default of the `iid` parameter will change from True to False in version 0.22 and will be removed in 0.24. This will change numeric results when test-set sizes are unequal.\n",
      "  DeprecationWarning)\n"
     ]
    },
    {
     "data": {
      "text/plain": [
       "GridSearchCV(cv='warn', error_score='raise-deprecating',\n",
       "       estimator=SGDClassifier(alpha=0.0001, average=False, class_weight=None,\n",
       "       early_stopping=False, epsilon=0.1, eta0=0.0, fit_intercept=True,\n",
       "       l1_ratio=0.15, learning_rate='optimal', loss='log', max_iter=1000,\n",
       "       n_iter=None, n_iter_no_change=5, n_jobs=None, penalty='l2',\n",
       "       power_t=0.5, random_state=None, shuffle=True, tol=0.001,\n",
       "       validation_fraction=0.1, verbose=0, warm_start=False),\n",
       "       fit_params=None, iid='warn', n_jobs=None,\n",
       "       param_grid={'alpha': [0.001, 0.001, 0.01, 0.1, 1, 10, 100, 1000, 10000], 'penalty': ['elasticnet'], 'epsilon': [0.001, 0.01, 0.1, 1, 10]},\n",
       "       pre_dispatch='2*n_jobs', refit=True, return_train_score='warn',\n",
       "       scoring=None, verbose=0)"
      ]
     },
     "execution_count": 145,
     "metadata": {},
     "output_type": "execute_result"
    }
   ],
   "source": [
    "SGD_search.fit(x_combined_train, y_combined_train)"
   ]
  },
  {
   "cell_type": "code",
   "execution_count": 146,
   "metadata": {},
   "outputs": [
    {
     "data": {
      "text/plain": [
       "0.7941176470588235"
      ]
     },
     "execution_count": 146,
     "metadata": {},
     "output_type": "execute_result"
    }
   ],
   "source": [
    "SGD_search.score(x_combined_test, y_combined_test)"
   ]
  },
  {
   "cell_type": "code",
   "execution_count": 147,
   "metadata": {},
   "outputs": [
    {
     "data": {
      "text/plain": [
       "{'alpha': 0.1, 'epsilon': 0.01, 'penalty': 'elasticnet'}"
      ]
     },
     "execution_count": 147,
     "metadata": {},
     "output_type": "execute_result"
    }
   ],
   "source": [
    "SGD_search.best_params_"
   ]
  }
 ],
 "metadata": {
  "kernelspec": {
   "display_name": "Python 3",
   "language": "python",
   "name": "python3"
  },
  "language_info": {
   "codemirror_mode": {
    "name": "ipython",
    "version": 3
   },
   "file_extension": ".py",
   "mimetype": "text/x-python",
   "name": "python",
   "nbconvert_exporter": "python",
   "pygments_lexer": "ipython3",
   "version": "3.6.6"
  }
 },
 "nbformat": 4,
 "nbformat_minor": 2
}

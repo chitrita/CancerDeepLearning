{
 "cells": [
  {
   "cell_type": "markdown",
   "metadata": {},
   "source": [
    "## Logistic Regression on Copy Number Variation and RNAseq"
   ]
  },
  {
   "cell_type": "code",
   "execution_count": 1,
   "metadata": {},
   "outputs": [],
   "source": [
    "import pandas as pd"
   ]
  },
  {
   "cell_type": "code",
   "execution_count": 2,
   "metadata": {},
   "outputs": [],
   "source": [
    "y = pd.read_table('CancerTypes_y.txt', sep = '\\t', header = None)\n",
    "x_cnv = pd.read_table('CNV_processed.txt', sep = '\\t', header = 0)\n",
    "x_rna = pd.read_table('RNAseq_processed.txt', sep = '\\t', header = 0)"
   ]
  },
  {
   "cell_type": "code",
   "execution_count": 3,
   "metadata": {},
   "outputs": [
    {
     "data": {
      "text/html": [
       "<div>\n",
       "<style scoped>\n",
       "    .dataframe tbody tr th:only-of-type {\n",
       "        vertical-align: middle;\n",
       "    }\n",
       "\n",
       "    .dataframe tbody tr th {\n",
       "        vertical-align: top;\n",
       "    }\n",
       "\n",
       "    .dataframe thead th {\n",
       "        text-align: right;\n",
       "    }\n",
       "</style>\n",
       "<table border=\"1\" class=\"dataframe\">\n",
       "  <thead>\n",
       "    <tr style=\"text-align: right;\">\n",
       "      <th></th>\n",
       "      <th>NCI-H358</th>\n",
       "      <th>NCI-H292</th>\n",
       "      <th>NCI-H522</th>\n",
       "      <th>NCI-H650</th>\n",
       "      <th>NCI-H520</th>\n",
       "      <th>NCI-H2126</th>\n",
       "      <th>NCI-H1437</th>\n",
       "      <th>HCC827</th>\n",
       "      <th>ABC-1</th>\n",
       "      <th>NCI-H1781</th>\n",
       "      <th>...</th>\n",
       "      <th>RPMI-7951</th>\n",
       "      <th>SK-MEL-28</th>\n",
       "      <th>SK-MEL-2</th>\n",
       "      <th>SK-MEL-5</th>\n",
       "      <th>UACC-257</th>\n",
       "      <th>CHL-1</th>\n",
       "      <th>NCI-H1770</th>\n",
       "      <th>OVCAR433</th>\n",
       "      <th>PL-21</th>\n",
       "      <th>U-2 OS</th>\n",
       "    </tr>\n",
       "  </thead>\n",
       "  <tbody>\n",
       "    <tr>\n",
       "      <th>0</th>\n",
       "      <td>-0.103358</td>\n",
       "      <td>-0.056543</td>\n",
       "      <td>-0.126789</td>\n",
       "      <td>-0.330441</td>\n",
       "      <td>0.15392</td>\n",
       "      <td>-0.117591</td>\n",
       "      <td>0.070041</td>\n",
       "      <td>-0.275316</td>\n",
       "      <td>-0.160353</td>\n",
       "      <td>-0.180275</td>\n",
       "      <td>...</td>\n",
       "      <td>0.050463</td>\n",
       "      <td>-0.025554</td>\n",
       "      <td>-0.056543</td>\n",
       "      <td>0.123667</td>\n",
       "      <td>0.0</td>\n",
       "      <td>0.141791</td>\n",
       "      <td>0.172532</td>\n",
       "      <td>0.027463</td>\n",
       "      <td>0.030994</td>\n",
       "      <td>-0.009943</td>\n",
       "    </tr>\n",
       "    <tr>\n",
       "      <th>1</th>\n",
       "      <td>-0.103358</td>\n",
       "      <td>-0.056543</td>\n",
       "      <td>-0.126789</td>\n",
       "      <td>-0.330441</td>\n",
       "      <td>0.15392</td>\n",
       "      <td>-0.117591</td>\n",
       "      <td>0.070041</td>\n",
       "      <td>-0.275316</td>\n",
       "      <td>-0.160353</td>\n",
       "      <td>-0.180275</td>\n",
       "      <td>...</td>\n",
       "      <td>0.050463</td>\n",
       "      <td>-0.025554</td>\n",
       "      <td>-0.056543</td>\n",
       "      <td>0.123667</td>\n",
       "      <td>0.0</td>\n",
       "      <td>0.141791</td>\n",
       "      <td>0.172532</td>\n",
       "      <td>0.027463</td>\n",
       "      <td>0.030994</td>\n",
       "      <td>-0.009943</td>\n",
       "    </tr>\n",
       "    <tr>\n",
       "      <th>2</th>\n",
       "      <td>-0.103358</td>\n",
       "      <td>-0.056543</td>\n",
       "      <td>-0.126789</td>\n",
       "      <td>-0.330441</td>\n",
       "      <td>0.15392</td>\n",
       "      <td>-0.117591</td>\n",
       "      <td>0.070041</td>\n",
       "      <td>-0.275316</td>\n",
       "      <td>-0.160353</td>\n",
       "      <td>-0.180275</td>\n",
       "      <td>...</td>\n",
       "      <td>0.050463</td>\n",
       "      <td>-0.025554</td>\n",
       "      <td>-0.056543</td>\n",
       "      <td>0.123667</td>\n",
       "      <td>0.0</td>\n",
       "      <td>0.141791</td>\n",
       "      <td>0.172532</td>\n",
       "      <td>0.027463</td>\n",
       "      <td>0.030994</td>\n",
       "      <td>-0.009943</td>\n",
       "    </tr>\n",
       "    <tr>\n",
       "      <th>3</th>\n",
       "      <td>-0.103358</td>\n",
       "      <td>-0.056543</td>\n",
       "      <td>-0.126789</td>\n",
       "      <td>-0.330441</td>\n",
       "      <td>0.15392</td>\n",
       "      <td>-0.117591</td>\n",
       "      <td>0.070041</td>\n",
       "      <td>-0.275316</td>\n",
       "      <td>-0.160353</td>\n",
       "      <td>-0.180275</td>\n",
       "      <td>...</td>\n",
       "      <td>0.050463</td>\n",
       "      <td>-0.025554</td>\n",
       "      <td>-0.056543</td>\n",
       "      <td>0.123667</td>\n",
       "      <td>0.0</td>\n",
       "      <td>0.141791</td>\n",
       "      <td>0.172532</td>\n",
       "      <td>0.027463</td>\n",
       "      <td>0.030994</td>\n",
       "      <td>-0.009943</td>\n",
       "    </tr>\n",
       "    <tr>\n",
       "      <th>4</th>\n",
       "      <td>-0.103358</td>\n",
       "      <td>-0.056543</td>\n",
       "      <td>-0.126789</td>\n",
       "      <td>-0.330441</td>\n",
       "      <td>0.15392</td>\n",
       "      <td>-0.117591</td>\n",
       "      <td>0.070041</td>\n",
       "      <td>-0.275316</td>\n",
       "      <td>-0.160353</td>\n",
       "      <td>-0.180275</td>\n",
       "      <td>...</td>\n",
       "      <td>0.050463</td>\n",
       "      <td>-0.025554</td>\n",
       "      <td>-0.056543</td>\n",
       "      <td>0.123667</td>\n",
       "      <td>0.0</td>\n",
       "      <td>0.141791</td>\n",
       "      <td>0.172532</td>\n",
       "      <td>0.027463</td>\n",
       "      <td>0.030994</td>\n",
       "      <td>-0.009943</td>\n",
       "    </tr>\n",
       "  </tbody>\n",
       "</table>\n",
       "<p>5 rows × 668 columns</p>\n",
       "</div>"
      ],
      "text/plain": [
       "   NCI-H358  NCI-H292  NCI-H522  NCI-H650  NCI-H520  NCI-H2126  NCI-H1437  \\\n",
       "0 -0.103358 -0.056543 -0.126789 -0.330441   0.15392  -0.117591   0.070041   \n",
       "1 -0.103358 -0.056543 -0.126789 -0.330441   0.15392  -0.117591   0.070041   \n",
       "2 -0.103358 -0.056543 -0.126789 -0.330441   0.15392  -0.117591   0.070041   \n",
       "3 -0.103358 -0.056543 -0.126789 -0.330441   0.15392  -0.117591   0.070041   \n",
       "4 -0.103358 -0.056543 -0.126789 -0.330441   0.15392  -0.117591   0.070041   \n",
       "\n",
       "     HCC827     ABC-1  NCI-H1781    ...     RPMI-7951  SK-MEL-28  SK-MEL-2  \\\n",
       "0 -0.275316 -0.160353  -0.180275    ...      0.050463  -0.025554 -0.056543   \n",
       "1 -0.275316 -0.160353  -0.180275    ...      0.050463  -0.025554 -0.056543   \n",
       "2 -0.275316 -0.160353  -0.180275    ...      0.050463  -0.025554 -0.056543   \n",
       "3 -0.275316 -0.160353  -0.180275    ...      0.050463  -0.025554 -0.056543   \n",
       "4 -0.275316 -0.160353  -0.180275    ...      0.050463  -0.025554 -0.056543   \n",
       "\n",
       "   SK-MEL-5  UACC-257     CHL-1  NCI-H1770  OVCAR433     PL-21    U-2 OS  \n",
       "0  0.123667       0.0  0.141791   0.172532  0.027463  0.030994 -0.009943  \n",
       "1  0.123667       0.0  0.141791   0.172532  0.027463  0.030994 -0.009943  \n",
       "2  0.123667       0.0  0.141791   0.172532  0.027463  0.030994 -0.009943  \n",
       "3  0.123667       0.0  0.141791   0.172532  0.027463  0.030994 -0.009943  \n",
       "4  0.123667       0.0  0.141791   0.172532  0.027463  0.030994 -0.009943  \n",
       "\n",
       "[5 rows x 668 columns]"
      ]
     },
     "execution_count": 3,
     "metadata": {},
     "output_type": "execute_result"
    }
   ],
   "source": [
    "# Remove GeneID Column\n",
    "x_cnv = x_cnv.drop('GeneID', axis = 1)\n",
    "x_cnv.head()"
   ]
  },
  {
   "cell_type": "code",
   "execution_count": 4,
   "metadata": {},
   "outputs": [
    {
     "data": {
      "text/html": [
       "<div>\n",
       "<style scoped>\n",
       "    .dataframe tbody tr th:only-of-type {\n",
       "        vertical-align: middle;\n",
       "    }\n",
       "\n",
       "    .dataframe tbody tr th {\n",
       "        vertical-align: top;\n",
       "    }\n",
       "\n",
       "    .dataframe thead th {\n",
       "        text-align: right;\n",
       "    }\n",
       "</style>\n",
       "<table border=\"1\" class=\"dataframe\">\n",
       "  <thead>\n",
       "    <tr style=\"text-align: right;\">\n",
       "      <th></th>\n",
       "      <th>NCI-H358</th>\n",
       "      <th>NCI-H292</th>\n",
       "      <th>NCI-H522</th>\n",
       "      <th>NCI-H650</th>\n",
       "      <th>NCI-H520</th>\n",
       "      <th>NCI-H2126</th>\n",
       "      <th>NCI-H1437</th>\n",
       "      <th>HCC827</th>\n",
       "      <th>ABC-1</th>\n",
       "      <th>NCI-H1781</th>\n",
       "      <th>...</th>\n",
       "      <th>RPMI-7951</th>\n",
       "      <th>SK-MEL-28</th>\n",
       "      <th>SK-MEL-2</th>\n",
       "      <th>SK-MEL-5</th>\n",
       "      <th>UACC-257</th>\n",
       "      <th>CHL-1</th>\n",
       "      <th>NCI-H1770</th>\n",
       "      <th>OVCAR433</th>\n",
       "      <th>PL-21</th>\n",
       "      <th>U-2 OS</th>\n",
       "    </tr>\n",
       "  </thead>\n",
       "  <tbody>\n",
       "    <tr>\n",
       "      <th>0</th>\n",
       "      <td>0.401850</td>\n",
       "      <td>3.355970</td>\n",
       "      <td>3.242982</td>\n",
       "      <td>6.887080</td>\n",
       "      <td>1.178694</td>\n",
       "      <td>0.079627</td>\n",
       "      <td>0.116279</td>\n",
       "      <td>1.494851</td>\n",
       "      <td>0.079956</td>\n",
       "      <td>3.193580</td>\n",
       "      <td>...</td>\n",
       "      <td>4.142441</td>\n",
       "      <td>4.898040</td>\n",
       "      <td>6.627574</td>\n",
       "      <td>3.160265</td>\n",
       "      <td>4.033093</td>\n",
       "      <td>4.956168</td>\n",
       "      <td>6.054004</td>\n",
       "      <td>1.721480</td>\n",
       "      <td>8.272631</td>\n",
       "      <td>5.344663</td>\n",
       "    </tr>\n",
       "    <tr>\n",
       "      <th>1</th>\n",
       "      <td>0.269426</td>\n",
       "      <td>0.152546</td>\n",
       "      <td>0.000000</td>\n",
       "      <td>0.073999</td>\n",
       "      <td>0.000000</td>\n",
       "      <td>0.350827</td>\n",
       "      <td>0.155921</td>\n",
       "      <td>0.338106</td>\n",
       "      <td>0.000000</td>\n",
       "      <td>0.139946</td>\n",
       "      <td>...</td>\n",
       "      <td>0.000000</td>\n",
       "      <td>0.033171</td>\n",
       "      <td>0.153226</td>\n",
       "      <td>0.000000</td>\n",
       "      <td>0.058151</td>\n",
       "      <td>0.016698</td>\n",
       "      <td>0.000000</td>\n",
       "      <td>0.123663</td>\n",
       "      <td>0.000000</td>\n",
       "      <td>0.108314</td>\n",
       "    </tr>\n",
       "    <tr>\n",
       "      <th>2</th>\n",
       "      <td>1.444185</td>\n",
       "      <td>6.688029</td>\n",
       "      <td>14.097641</td>\n",
       "      <td>12.760962</td>\n",
       "      <td>12.561318</td>\n",
       "      <td>16.102408</td>\n",
       "      <td>6.746634</td>\n",
       "      <td>9.851174</td>\n",
       "      <td>0.529970</td>\n",
       "      <td>0.348888</td>\n",
       "      <td>...</td>\n",
       "      <td>4.831014</td>\n",
       "      <td>4.077793</td>\n",
       "      <td>13.260020</td>\n",
       "      <td>11.005599</td>\n",
       "      <td>12.872546</td>\n",
       "      <td>4.464320</td>\n",
       "      <td>6.968689</td>\n",
       "      <td>7.317553</td>\n",
       "      <td>14.783940</td>\n",
       "      <td>18.529603</td>\n",
       "    </tr>\n",
       "    <tr>\n",
       "      <th>3</th>\n",
       "      <td>13.765275</td>\n",
       "      <td>9.689769</td>\n",
       "      <td>0.160805</td>\n",
       "      <td>0.035707</td>\n",
       "      <td>19.115036</td>\n",
       "      <td>0.000000</td>\n",
       "      <td>0.031348</td>\n",
       "      <td>0.149307</td>\n",
       "      <td>0.533510</td>\n",
       "      <td>1.439191</td>\n",
       "      <td>...</td>\n",
       "      <td>23.109774</td>\n",
       "      <td>5.892234</td>\n",
       "      <td>0.423590</td>\n",
       "      <td>0.134526</td>\n",
       "      <td>6.155593</td>\n",
       "      <td>10.378832</td>\n",
       "      <td>45.873366</td>\n",
       "      <td>4.717731</td>\n",
       "      <td>0.026394</td>\n",
       "      <td>35.964657</td>\n",
       "    </tr>\n",
       "    <tr>\n",
       "      <th>4</th>\n",
       "      <td>2.155210</td>\n",
       "      <td>0.256568</td>\n",
       "      <td>0.276349</td>\n",
       "      <td>15.317454</td>\n",
       "      <td>7.673333</td>\n",
       "      <td>0.175136</td>\n",
       "      <td>0.674454</td>\n",
       "      <td>0.565413</td>\n",
       "      <td>18.340339</td>\n",
       "      <td>0.190812</td>\n",
       "      <td>...</td>\n",
       "      <td>10.991005</td>\n",
       "      <td>12.449569</td>\n",
       "      <td>17.286123</td>\n",
       "      <td>12.036027</td>\n",
       "      <td>16.801633</td>\n",
       "      <td>13.058260</td>\n",
       "      <td>3.418446</td>\n",
       "      <td>17.138353</td>\n",
       "      <td>3.159854</td>\n",
       "      <td>15.992502</td>\n",
       "    </tr>\n",
       "  </tbody>\n",
       "</table>\n",
       "<p>5 rows × 668 columns</p>\n",
       "</div>"
      ],
      "text/plain": [
       "    NCI-H358  NCI-H292   NCI-H522   NCI-H650   NCI-H520  NCI-H2126  NCI-H1437  \\\n",
       "0   0.401850  3.355970   3.242982   6.887080   1.178694   0.079627   0.116279   \n",
       "1   0.269426  0.152546   0.000000   0.073999   0.000000   0.350827   0.155921   \n",
       "2   1.444185  6.688029  14.097641  12.760962  12.561318  16.102408   6.746634   \n",
       "3  13.765275  9.689769   0.160805   0.035707  19.115036   0.000000   0.031348   \n",
       "4   2.155210  0.256568   0.276349  15.317454   7.673333   0.175136   0.674454   \n",
       "\n",
       "     HCC827      ABC-1  NCI-H1781    ...      RPMI-7951  SK-MEL-28   SK-MEL-2  \\\n",
       "0  1.494851   0.079956   3.193580    ...       4.142441   4.898040   6.627574   \n",
       "1  0.338106   0.000000   0.139946    ...       0.000000   0.033171   0.153226   \n",
       "2  9.851174   0.529970   0.348888    ...       4.831014   4.077793  13.260020   \n",
       "3  0.149307   0.533510   1.439191    ...      23.109774   5.892234   0.423590   \n",
       "4  0.565413  18.340339   0.190812    ...      10.991005  12.449569  17.286123   \n",
       "\n",
       "    SK-MEL-5   UACC-257      CHL-1  NCI-H1770   OVCAR433      PL-21     U-2 OS  \n",
       "0   3.160265   4.033093   4.956168   6.054004   1.721480   8.272631   5.344663  \n",
       "1   0.000000   0.058151   0.016698   0.000000   0.123663   0.000000   0.108314  \n",
       "2  11.005599  12.872546   4.464320   6.968689   7.317553  14.783940  18.529603  \n",
       "3   0.134526   6.155593  10.378832  45.873366   4.717731   0.026394  35.964657  \n",
       "4  12.036027  16.801633  13.058260   3.418446  17.138353   3.159854  15.992502  \n",
       "\n",
       "[5 rows x 668 columns]"
      ]
     },
     "execution_count": 4,
     "metadata": {},
     "output_type": "execute_result"
    }
   ],
   "source": [
    "x_rna = x_rna.drop('GeneID', axis = 1)\n",
    "x_rna.head()"
   ]
  },
  {
   "cell_type": "code",
   "execution_count": 5,
   "metadata": {},
   "outputs": [],
   "source": [
    "# Transpose\n",
    "x_cnv = x_cnv.transpose()\n",
    "x_rna = x_rna.transpose()"
   ]
  },
  {
   "cell_type": "markdown",
   "metadata": {},
   "source": [
    "#### DropNa from CNV data"
   ]
  },
  {
   "cell_type": "code",
   "execution_count": 6,
   "metadata": {},
   "outputs": [],
   "source": [
    "#Merge CNV x and y data\n",
    "cnv = x_cnv.reset_index(drop = True)\n",
    "cnv['y'] = y[0]"
   ]
  },
  {
   "cell_type": "code",
   "execution_count": 7,
   "metadata": {},
   "outputs": [
    {
     "data": {
      "text/html": [
       "<div>\n",
       "<style scoped>\n",
       "    .dataframe tbody tr th:only-of-type {\n",
       "        vertical-align: middle;\n",
       "    }\n",
       "\n",
       "    .dataframe tbody tr th {\n",
       "        vertical-align: top;\n",
       "    }\n",
       "\n",
       "    .dataframe thead th {\n",
       "        text-align: right;\n",
       "    }\n",
       "</style>\n",
       "<table border=\"1\" class=\"dataframe\">\n",
       "  <thead>\n",
       "    <tr style=\"text-align: right;\">\n",
       "      <th></th>\n",
       "      <th>0</th>\n",
       "      <th>1</th>\n",
       "      <th>2</th>\n",
       "      <th>3</th>\n",
       "      <th>4</th>\n",
       "      <th>5</th>\n",
       "      <th>6</th>\n",
       "      <th>7</th>\n",
       "      <th>8</th>\n",
       "      <th>9</th>\n",
       "      <th>...</th>\n",
       "      <th>26085</th>\n",
       "      <th>26086</th>\n",
       "      <th>26087</th>\n",
       "      <th>26088</th>\n",
       "      <th>26089</th>\n",
       "      <th>26090</th>\n",
       "      <th>26091</th>\n",
       "      <th>26092</th>\n",
       "      <th>26093</th>\n",
       "      <th>y</th>\n",
       "    </tr>\n",
       "  </thead>\n",
       "  <tbody>\n",
       "    <tr>\n",
       "      <th>0</th>\n",
       "      <td>-0.103358</td>\n",
       "      <td>-0.103358</td>\n",
       "      <td>-0.103358</td>\n",
       "      <td>-0.103358</td>\n",
       "      <td>-0.103358</td>\n",
       "      <td>-0.103358</td>\n",
       "      <td>-0.103358</td>\n",
       "      <td>-0.103358</td>\n",
       "      <td>-0.103358</td>\n",
       "      <td>-0.103358</td>\n",
       "      <td>...</td>\n",
       "      <td>-0.402239</td>\n",
       "      <td>-0.402239</td>\n",
       "      <td>-0.402239</td>\n",
       "      <td>-0.402239</td>\n",
       "      <td>-0.402239</td>\n",
       "      <td>-0.402239</td>\n",
       "      <td>-0.402239</td>\n",
       "      <td>-0.402239</td>\n",
       "      <td>-0.402239</td>\n",
       "      <td>0</td>\n",
       "    </tr>\n",
       "    <tr>\n",
       "      <th>1</th>\n",
       "      <td>-0.056543</td>\n",
       "      <td>-0.056543</td>\n",
       "      <td>-0.056543</td>\n",
       "      <td>-0.056543</td>\n",
       "      <td>-0.056543</td>\n",
       "      <td>-0.056543</td>\n",
       "      <td>-0.056543</td>\n",
       "      <td>-0.056543</td>\n",
       "      <td>-0.056543</td>\n",
       "      <td>-0.056543</td>\n",
       "      <td>...</td>\n",
       "      <td>-0.056543</td>\n",
       "      <td>-0.056543</td>\n",
       "      <td>-0.056543</td>\n",
       "      <td>-0.056543</td>\n",
       "      <td>-0.056543</td>\n",
       "      <td>-0.056543</td>\n",
       "      <td>-0.056543</td>\n",
       "      <td>-0.056543</td>\n",
       "      <td>-0.056543</td>\n",
       "      <td>0</td>\n",
       "    </tr>\n",
       "    <tr>\n",
       "      <th>2</th>\n",
       "      <td>-0.126789</td>\n",
       "      <td>-0.126789</td>\n",
       "      <td>-0.126789</td>\n",
       "      <td>-0.126789</td>\n",
       "      <td>-0.126789</td>\n",
       "      <td>-0.126789</td>\n",
       "      <td>-0.126789</td>\n",
       "      <td>-0.126789</td>\n",
       "      <td>-0.126789</td>\n",
       "      <td>-0.126789</td>\n",
       "      <td>...</td>\n",
       "      <td>-0.563395</td>\n",
       "      <td>-0.563395</td>\n",
       "      <td>-0.563395</td>\n",
       "      <td>-0.563395</td>\n",
       "      <td>-0.563395</td>\n",
       "      <td>-0.563395</td>\n",
       "      <td>-0.563395</td>\n",
       "      <td>-0.563395</td>\n",
       "      <td>-0.563395</td>\n",
       "      <td>0</td>\n",
       "    </tr>\n",
       "    <tr>\n",
       "      <th>3</th>\n",
       "      <td>-0.330441</td>\n",
       "      <td>-0.330441</td>\n",
       "      <td>-0.330441</td>\n",
       "      <td>-0.330441</td>\n",
       "      <td>-0.330441</td>\n",
       "      <td>-0.330441</td>\n",
       "      <td>-0.330441</td>\n",
       "      <td>-0.330441</td>\n",
       "      <td>-0.330441</td>\n",
       "      <td>-0.330441</td>\n",
       "      <td>...</td>\n",
       "      <td>-0.553628</td>\n",
       "      <td>-0.553628</td>\n",
       "      <td>-0.553628</td>\n",
       "      <td>-0.553628</td>\n",
       "      <td>-0.553628</td>\n",
       "      <td>-0.553628</td>\n",
       "      <td>-0.553628</td>\n",
       "      <td>-0.553628</td>\n",
       "      <td>-0.553628</td>\n",
       "      <td>0</td>\n",
       "    </tr>\n",
       "    <tr>\n",
       "      <th>4</th>\n",
       "      <td>0.153920</td>\n",
       "      <td>0.153920</td>\n",
       "      <td>0.153920</td>\n",
       "      <td>0.153920</td>\n",
       "      <td>0.153920</td>\n",
       "      <td>0.153920</td>\n",
       "      <td>0.153920</td>\n",
       "      <td>0.153920</td>\n",
       "      <td>0.153920</td>\n",
       "      <td>0.153920</td>\n",
       "      <td>...</td>\n",
       "      <td>-0.615360</td>\n",
       "      <td>-0.615360</td>\n",
       "      <td>-0.615360</td>\n",
       "      <td>-0.615360</td>\n",
       "      <td>-0.615360</td>\n",
       "      <td>-0.615360</td>\n",
       "      <td>-0.615360</td>\n",
       "      <td>-0.615360</td>\n",
       "      <td>-0.615360</td>\n",
       "      <td>0</td>\n",
       "    </tr>\n",
       "  </tbody>\n",
       "</table>\n",
       "<p>5 rows × 26095 columns</p>\n",
       "</div>"
      ],
      "text/plain": [
       "          0         1         2         3         4         5         6  \\\n",
       "0 -0.103358 -0.103358 -0.103358 -0.103358 -0.103358 -0.103358 -0.103358   \n",
       "1 -0.056543 -0.056543 -0.056543 -0.056543 -0.056543 -0.056543 -0.056543   \n",
       "2 -0.126789 -0.126789 -0.126789 -0.126789 -0.126789 -0.126789 -0.126789   \n",
       "3 -0.330441 -0.330441 -0.330441 -0.330441 -0.330441 -0.330441 -0.330441   \n",
       "4  0.153920  0.153920  0.153920  0.153920  0.153920  0.153920  0.153920   \n",
       "\n",
       "          7         8         9 ...     26085     26086     26087     26088  \\\n",
       "0 -0.103358 -0.103358 -0.103358 ... -0.402239 -0.402239 -0.402239 -0.402239   \n",
       "1 -0.056543 -0.056543 -0.056543 ... -0.056543 -0.056543 -0.056543 -0.056543   \n",
       "2 -0.126789 -0.126789 -0.126789 ... -0.563395 -0.563395 -0.563395 -0.563395   \n",
       "3 -0.330441 -0.330441 -0.330441 ... -0.553628 -0.553628 -0.553628 -0.553628   \n",
       "4  0.153920  0.153920  0.153920 ... -0.615360 -0.615360 -0.615360 -0.615360   \n",
       "\n",
       "      26089     26090     26091     26092     26093  y  \n",
       "0 -0.402239 -0.402239 -0.402239 -0.402239 -0.402239  0  \n",
       "1 -0.056543 -0.056543 -0.056543 -0.056543 -0.056543  0  \n",
       "2 -0.563395 -0.563395 -0.563395 -0.563395 -0.563395  0  \n",
       "3 -0.553628 -0.553628 -0.553628 -0.553628 -0.553628  0  \n",
       "4 -0.615360 -0.615360 -0.615360 -0.615360 -0.615360  0  \n",
       "\n",
       "[5 rows x 26095 columns]"
      ]
     },
     "execution_count": 7,
     "metadata": {},
     "output_type": "execute_result"
    }
   ],
   "source": [
    "cnv.head()"
   ]
  },
  {
   "cell_type": "code",
   "execution_count": 8,
   "metadata": {},
   "outputs": [
    {
     "data": {
      "text/plain": [
       "(542, 26095)"
      ]
     },
     "execution_count": 8,
     "metadata": {},
     "output_type": "execute_result"
    }
   ],
   "source": [
    "cnv = cnv.dropna('index')\n",
    "cnv.shape"
   ]
  },
  {
   "cell_type": "code",
   "execution_count": 9,
   "metadata": {},
   "outputs": [],
   "source": [
    "y_cnv_clean = cnv['y']\n",
    "x_cnv_clean = cnv.drop(['y'], axis = 1)"
   ]
  },
  {
   "cell_type": "markdown",
   "metadata": {},
   "source": [
    "### Logistic Regression on CNV and RNAseq Individually"
   ]
  },
  {
   "cell_type": "code",
   "execution_count": 10,
   "metadata": {},
   "outputs": [],
   "source": [
    "#Split data into training and test sets\n",
    "from sklearn.model_selection import train_test_split\n",
    "x_cnv_train, x_cnv_test, y_cnv_train, y_cnv_test = train_test_split(x_cnv_clean, y_cnv_clean.values.flatten(), test_size = 0.25, random_state = 0)\n",
    "x_rna_train, x_rna_test, y_rna_train, y_rna_test = train_test_split(x_rna, y.values.flatten(), test_size = 0.25, random_state = 0)"
   ]
  },
  {
   "cell_type": "code",
   "execution_count": 11,
   "metadata": {},
   "outputs": [],
   "source": [
    "from sklearn.linear_model import LogisticRegression\n",
    "CNV_regression = LogisticRegression()\n",
    "RNA_regression = LogisticRegression()"
   ]
  },
  {
   "cell_type": "code",
   "execution_count": 12,
   "metadata": {},
   "outputs": [
    {
     "name": "stderr",
     "output_type": "stream",
     "text": [
      "/Users/a.su/anaconda3/lib/python3.6/site-packages/sklearn/linear_model/logistic.py:432: FutureWarning: Default solver will be changed to 'lbfgs' in 0.22. Specify a solver to silence this warning.\n",
      "  FutureWarning)\n",
      "/Users/a.su/anaconda3/lib/python3.6/site-packages/sklearn/linear_model/logistic.py:432: FutureWarning: Default solver will be changed to 'lbfgs' in 0.22. Specify a solver to silence this warning.\n",
      "  FutureWarning)\n"
     ]
    },
    {
     "data": {
      "text/plain": [
       "LogisticRegression(C=1.0, class_weight=None, dual=False, fit_intercept=True,\n",
       "          intercept_scaling=1, max_iter=100, multi_class='warn',\n",
       "          n_jobs=None, penalty='l2', random_state=None, solver='warn',\n",
       "          tol=0.0001, verbose=0, warm_start=False)"
      ]
     },
     "execution_count": 12,
     "metadata": {},
     "output_type": "execute_result"
    }
   ],
   "source": [
    "CNV_regression.fit(x_cnv_train, y_cnv_train)\n",
    "RNA_regression.fit(x_rna_train, y_rna_train)"
   ]
  },
  {
   "cell_type": "code",
   "execution_count": 13,
   "metadata": {},
   "outputs": [
    {
     "data": {
      "text/plain": [
       "0.7058823529411765"
      ]
     },
     "execution_count": 13,
     "metadata": {},
     "output_type": "execute_result"
    }
   ],
   "source": [
    "CNV_regression.score(x_cnv_test, y_cnv_test)"
   ]
  },
  {
   "cell_type": "code",
   "execution_count": 14,
   "metadata": {},
   "outputs": [
    {
     "data": {
      "text/plain": [
       "0.7664670658682635"
      ]
     },
     "execution_count": 14,
     "metadata": {},
     "output_type": "execute_result"
    }
   ],
   "source": [
    "RNA_regression.score(x_rna_test, y_rna_test)"
   ]
  },
  {
   "cell_type": "markdown",
   "metadata": {},
   "source": [
    "### Logistic Regression on combined CNV and RNAseq data"
   ]
  },
  {
   "cell_type": "code",
   "execution_count": 15,
   "metadata": {},
   "outputs": [],
   "source": [
    "combined = pd.concat([x_cnv.reset_index(drop = True), x_rna.reset_index(drop = True)] , axis = 1)\n",
    "combined['y'] = y[0]"
   ]
  },
  {
   "cell_type": "code",
   "execution_count": 16,
   "metadata": {},
   "outputs": [
    {
     "data": {
      "text/html": [
       "<div>\n",
       "<style scoped>\n",
       "    .dataframe tbody tr th:only-of-type {\n",
       "        vertical-align: middle;\n",
       "    }\n",
       "\n",
       "    .dataframe tbody tr th {\n",
       "        vertical-align: top;\n",
       "    }\n",
       "\n",
       "    .dataframe thead th {\n",
       "        text-align: right;\n",
       "    }\n",
       "</style>\n",
       "<table border=\"1\" class=\"dataframe\">\n",
       "  <thead>\n",
       "    <tr style=\"text-align: right;\">\n",
       "      <th></th>\n",
       "      <th>0</th>\n",
       "      <th>1</th>\n",
       "      <th>2</th>\n",
       "      <th>3</th>\n",
       "      <th>4</th>\n",
       "      <th>5</th>\n",
       "      <th>6</th>\n",
       "      <th>7</th>\n",
       "      <th>8</th>\n",
       "      <th>9</th>\n",
       "      <th>...</th>\n",
       "      <th>26085</th>\n",
       "      <th>26086</th>\n",
       "      <th>26087</th>\n",
       "      <th>26088</th>\n",
       "      <th>26089</th>\n",
       "      <th>26090</th>\n",
       "      <th>26091</th>\n",
       "      <th>26092</th>\n",
       "      <th>26093</th>\n",
       "      <th>y</th>\n",
       "    </tr>\n",
       "  </thead>\n",
       "  <tbody>\n",
       "    <tr>\n",
       "      <th>0</th>\n",
       "      <td>-0.103358</td>\n",
       "      <td>-0.103358</td>\n",
       "      <td>-0.103358</td>\n",
       "      <td>-0.103358</td>\n",
       "      <td>-0.103358</td>\n",
       "      <td>-0.103358</td>\n",
       "      <td>-0.103358</td>\n",
       "      <td>-0.103358</td>\n",
       "      <td>-0.103358</td>\n",
       "      <td>-0.103358</td>\n",
       "      <td>...</td>\n",
       "      <td>12.546088</td>\n",
       "      <td>40.624117</td>\n",
       "      <td>137.329705</td>\n",
       "      <td>4.569567</td>\n",
       "      <td>36.578936</td>\n",
       "      <td>0.181953</td>\n",
       "      <td>28.065501</td>\n",
       "      <td>5.475072</td>\n",
       "      <td>10.850659</td>\n",
       "      <td>0</td>\n",
       "    </tr>\n",
       "    <tr>\n",
       "      <th>1</th>\n",
       "      <td>-0.056543</td>\n",
       "      <td>-0.056543</td>\n",
       "      <td>-0.056543</td>\n",
       "      <td>-0.056543</td>\n",
       "      <td>-0.056543</td>\n",
       "      <td>-0.056543</td>\n",
       "      <td>-0.056543</td>\n",
       "      <td>-0.056543</td>\n",
       "      <td>-0.056543</td>\n",
       "      <td>-0.056543</td>\n",
       "      <td>...</td>\n",
       "      <td>11.329634</td>\n",
       "      <td>31.039686</td>\n",
       "      <td>102.303089</td>\n",
       "      <td>11.925218</td>\n",
       "      <td>15.804591</td>\n",
       "      <td>0.375286</td>\n",
       "      <td>17.649466</td>\n",
       "      <td>6.821290</td>\n",
       "      <td>10.303672</td>\n",
       "      <td>0</td>\n",
       "    </tr>\n",
       "    <tr>\n",
       "      <th>2</th>\n",
       "      <td>-0.126789</td>\n",
       "      <td>-0.126789</td>\n",
       "      <td>-0.126789</td>\n",
       "      <td>-0.126789</td>\n",
       "      <td>-0.126789</td>\n",
       "      <td>-0.126789</td>\n",
       "      <td>-0.126789</td>\n",
       "      <td>-0.126789</td>\n",
       "      <td>-0.126789</td>\n",
       "      <td>-0.126789</td>\n",
       "      <td>...</td>\n",
       "      <td>18.222452</td>\n",
       "      <td>38.678528</td>\n",
       "      <td>0.385673</td>\n",
       "      <td>7.350149</td>\n",
       "      <td>11.198820</td>\n",
       "      <td>0.174903</td>\n",
       "      <td>27.420255</td>\n",
       "      <td>6.539275</td>\n",
       "      <td>16.029745</td>\n",
       "      <td>0</td>\n",
       "    </tr>\n",
       "    <tr>\n",
       "      <th>3</th>\n",
       "      <td>-0.330441</td>\n",
       "      <td>-0.330441</td>\n",
       "      <td>-0.330441</td>\n",
       "      <td>-0.330441</td>\n",
       "      <td>-0.330441</td>\n",
       "      <td>-0.330441</td>\n",
       "      <td>-0.330441</td>\n",
       "      <td>-0.330441</td>\n",
       "      <td>-0.330441</td>\n",
       "      <td>-0.330441</td>\n",
       "      <td>...</td>\n",
       "      <td>20.640966</td>\n",
       "      <td>37.434541</td>\n",
       "      <td>0.056673</td>\n",
       "      <td>8.954964</td>\n",
       "      <td>24.912152</td>\n",
       "      <td>0.315551</td>\n",
       "      <td>20.328770</td>\n",
       "      <td>6.620074</td>\n",
       "      <td>15.105773</td>\n",
       "      <td>0</td>\n",
       "    </tr>\n",
       "    <tr>\n",
       "      <th>4</th>\n",
       "      <td>0.153920</td>\n",
       "      <td>0.153920</td>\n",
       "      <td>0.153920</td>\n",
       "      <td>0.153920</td>\n",
       "      <td>0.153920</td>\n",
       "      <td>0.153920</td>\n",
       "      <td>0.153920</td>\n",
       "      <td>0.153920</td>\n",
       "      <td>0.153920</td>\n",
       "      <td>0.153920</td>\n",
       "      <td>...</td>\n",
       "      <td>11.437955</td>\n",
       "      <td>12.687560</td>\n",
       "      <td>39.560801</td>\n",
       "      <td>5.518190</td>\n",
       "      <td>16.917116</td>\n",
       "      <td>0.211612</td>\n",
       "      <td>18.710788</td>\n",
       "      <td>10.163303</td>\n",
       "      <td>12.057136</td>\n",
       "      <td>0</td>\n",
       "    </tr>\n",
       "  </tbody>\n",
       "</table>\n",
       "<p>5 rows × 52189 columns</p>\n",
       "</div>"
      ],
      "text/plain": [
       "          0         1         2         3         4         5         6  \\\n",
       "0 -0.103358 -0.103358 -0.103358 -0.103358 -0.103358 -0.103358 -0.103358   \n",
       "1 -0.056543 -0.056543 -0.056543 -0.056543 -0.056543 -0.056543 -0.056543   \n",
       "2 -0.126789 -0.126789 -0.126789 -0.126789 -0.126789 -0.126789 -0.126789   \n",
       "3 -0.330441 -0.330441 -0.330441 -0.330441 -0.330441 -0.330441 -0.330441   \n",
       "4  0.153920  0.153920  0.153920  0.153920  0.153920  0.153920  0.153920   \n",
       "\n",
       "          7         8         9 ...      26085      26086       26087  \\\n",
       "0 -0.103358 -0.103358 -0.103358 ...  12.546088  40.624117  137.329705   \n",
       "1 -0.056543 -0.056543 -0.056543 ...  11.329634  31.039686  102.303089   \n",
       "2 -0.126789 -0.126789 -0.126789 ...  18.222452  38.678528    0.385673   \n",
       "3 -0.330441 -0.330441 -0.330441 ...  20.640966  37.434541    0.056673   \n",
       "4  0.153920  0.153920  0.153920 ...  11.437955  12.687560   39.560801   \n",
       "\n",
       "       26088      26089     26090      26091      26092      26093  y  \n",
       "0   4.569567  36.578936  0.181953  28.065501   5.475072  10.850659  0  \n",
       "1  11.925218  15.804591  0.375286  17.649466   6.821290  10.303672  0  \n",
       "2   7.350149  11.198820  0.174903  27.420255   6.539275  16.029745  0  \n",
       "3   8.954964  24.912152  0.315551  20.328770   6.620074  15.105773  0  \n",
       "4   5.518190  16.917116  0.211612  18.710788  10.163303  12.057136  0  \n",
       "\n",
       "[5 rows x 52189 columns]"
      ]
     },
     "execution_count": 16,
     "metadata": {},
     "output_type": "execute_result"
    }
   ],
   "source": [
    "combined.head()"
   ]
  },
  {
   "cell_type": "code",
   "execution_count": 17,
   "metadata": {},
   "outputs": [
    {
     "data": {
      "text/plain": [
       "(542, 52189)"
      ]
     },
     "execution_count": 17,
     "metadata": {},
     "output_type": "execute_result"
    }
   ],
   "source": [
    "combined = combined.dropna('index')\n",
    "combined.shape"
   ]
  },
  {
   "cell_type": "markdown",
   "metadata": {},
   "source": [
    "#### Normalise data with Z-scores"
   ]
  },
  {
   "cell_type": "code",
   "execution_count": 18,
   "metadata": {},
   "outputs": [
    {
     "data": {
      "text/html": [
       "<div>\n",
       "<style scoped>\n",
       "    .dataframe tbody tr th:only-of-type {\n",
       "        vertical-align: middle;\n",
       "    }\n",
       "\n",
       "    .dataframe tbody tr th {\n",
       "        vertical-align: top;\n",
       "    }\n",
       "\n",
       "    .dataframe thead th {\n",
       "        text-align: right;\n",
       "    }\n",
       "</style>\n",
       "<table border=\"1\" class=\"dataframe\">\n",
       "  <thead>\n",
       "    <tr style=\"text-align: right;\">\n",
       "      <th></th>\n",
       "      <th>0</th>\n",
       "      <th>1</th>\n",
       "      <th>2</th>\n",
       "      <th>3</th>\n",
       "      <th>4</th>\n",
       "      <th>5</th>\n",
       "      <th>6</th>\n",
       "      <th>7</th>\n",
       "      <th>8</th>\n",
       "      <th>9</th>\n",
       "      <th>...</th>\n",
       "      <th>26085</th>\n",
       "      <th>26086</th>\n",
       "      <th>26087</th>\n",
       "      <th>26088</th>\n",
       "      <th>26089</th>\n",
       "      <th>26090</th>\n",
       "      <th>26091</th>\n",
       "      <th>26092</th>\n",
       "      <th>26093</th>\n",
       "      <th>y</th>\n",
       "    </tr>\n",
       "  </thead>\n",
       "  <tbody>\n",
       "    <tr>\n",
       "      <th>0</th>\n",
       "      <td>-0.537778</td>\n",
       "      <td>-0.537778</td>\n",
       "      <td>-0.537778</td>\n",
       "      <td>-0.537778</td>\n",
       "      <td>-0.537778</td>\n",
       "      <td>-0.537778</td>\n",
       "      <td>-0.537778</td>\n",
       "      <td>-0.537778</td>\n",
       "      <td>-0.537778</td>\n",
       "      <td>-0.537778</td>\n",
       "      <td>...</td>\n",
       "      <td>0.119394</td>\n",
       "      <td>1.082568</td>\n",
       "      <td>1.266660</td>\n",
       "      <td>-0.223519</td>\n",
       "      <td>0.725874</td>\n",
       "      <td>-0.374117</td>\n",
       "      <td>0.243681</td>\n",
       "      <td>-0.312687</td>\n",
       "      <td>-0.811497</td>\n",
       "      <td>0</td>\n",
       "    </tr>\n",
       "    <tr>\n",
       "      <th>1</th>\n",
       "      <td>-0.240349</td>\n",
       "      <td>-0.240349</td>\n",
       "      <td>-0.240349</td>\n",
       "      <td>-0.240349</td>\n",
       "      <td>-0.240349</td>\n",
       "      <td>-0.240349</td>\n",
       "      <td>-0.240349</td>\n",
       "      <td>-0.240349</td>\n",
       "      <td>-0.240349</td>\n",
       "      <td>-0.240349</td>\n",
       "      <td>...</td>\n",
       "      <td>-0.088297</td>\n",
       "      <td>0.400850</td>\n",
       "      <td>0.772961</td>\n",
       "      <td>1.629813</td>\n",
       "      <td>-0.693953</td>\n",
       "      <td>0.064393</td>\n",
       "      <td>-0.565696</td>\n",
       "      <td>0.096968</td>\n",
       "      <td>-0.863276</td>\n",
       "      <td>0</td>\n",
       "    </tr>\n",
       "    <tr>\n",
       "      <th>2</th>\n",
       "      <td>-0.686642</td>\n",
       "      <td>-0.686642</td>\n",
       "      <td>-0.686642</td>\n",
       "      <td>-0.686642</td>\n",
       "      <td>-0.686642</td>\n",
       "      <td>-0.686642</td>\n",
       "      <td>-0.686642</td>\n",
       "      <td>-0.686642</td>\n",
       "      <td>-0.686642</td>\n",
       "      <td>-0.686642</td>\n",
       "      <td>...</td>\n",
       "      <td>1.088549</td>\n",
       "      <td>0.944183</td>\n",
       "      <td>-0.663562</td>\n",
       "      <td>0.477078</td>\n",
       "      <td>-1.008735</td>\n",
       "      <td>-0.390107</td>\n",
       "      <td>0.193542</td>\n",
       "      <td>0.011150</td>\n",
       "      <td>-0.321237</td>\n",
       "      <td>0</td>\n",
       "    </tr>\n",
       "    <tr>\n",
       "      <th>3</th>\n",
       "      <td>-1.980507</td>\n",
       "      <td>-1.980507</td>\n",
       "      <td>-1.980507</td>\n",
       "      <td>-1.980507</td>\n",
       "      <td>-1.980507</td>\n",
       "      <td>-1.980507</td>\n",
       "      <td>-1.980507</td>\n",
       "      <td>-1.980507</td>\n",
       "      <td>-1.980507</td>\n",
       "      <td>-1.980507</td>\n",
       "      <td>...</td>\n",
       "      <td>1.501474</td>\n",
       "      <td>0.855701</td>\n",
       "      <td>-0.668199</td>\n",
       "      <td>0.881427</td>\n",
       "      <td>-0.071495</td>\n",
       "      <td>-0.071096</td>\n",
       "      <td>-0.357501</td>\n",
       "      <td>0.035738</td>\n",
       "      <td>-0.408702</td>\n",
       "      <td>0</td>\n",
       "    </tr>\n",
       "    <tr>\n",
       "      <th>4</th>\n",
       "      <td>1.096789</td>\n",
       "      <td>1.096789</td>\n",
       "      <td>1.096789</td>\n",
       "      <td>1.096789</td>\n",
       "      <td>1.096789</td>\n",
       "      <td>1.096789</td>\n",
       "      <td>1.096789</td>\n",
       "      <td>1.096789</td>\n",
       "      <td>1.096789</td>\n",
       "      <td>1.096789</td>\n",
       "      <td>...</td>\n",
       "      <td>-0.069803</td>\n",
       "      <td>-0.904493</td>\n",
       "      <td>-0.111390</td>\n",
       "      <td>0.015497</td>\n",
       "      <td>-0.617917</td>\n",
       "      <td>-0.306845</td>\n",
       "      <td>-0.483226</td>\n",
       "      <td>1.113944</td>\n",
       "      <td>-0.697290</td>\n",
       "      <td>0</td>\n",
       "    </tr>\n",
       "  </tbody>\n",
       "</table>\n",
       "<p>5 rows × 52189 columns</p>\n",
       "</div>"
      ],
      "text/plain": [
       "          0         1         2         3         4         5         6  \\\n",
       "0 -0.537778 -0.537778 -0.537778 -0.537778 -0.537778 -0.537778 -0.537778   \n",
       "1 -0.240349 -0.240349 -0.240349 -0.240349 -0.240349 -0.240349 -0.240349   \n",
       "2 -0.686642 -0.686642 -0.686642 -0.686642 -0.686642 -0.686642 -0.686642   \n",
       "3 -1.980507 -1.980507 -1.980507 -1.980507 -1.980507 -1.980507 -1.980507   \n",
       "4  1.096789  1.096789  1.096789  1.096789  1.096789  1.096789  1.096789   \n",
       "\n",
       "          7         8         9 ...     26085     26086     26087     26088  \\\n",
       "0 -0.537778 -0.537778 -0.537778 ...  0.119394  1.082568  1.266660 -0.223519   \n",
       "1 -0.240349 -0.240349 -0.240349 ... -0.088297  0.400850  0.772961  1.629813   \n",
       "2 -0.686642 -0.686642 -0.686642 ...  1.088549  0.944183 -0.663562  0.477078   \n",
       "3 -1.980507 -1.980507 -1.980507 ...  1.501474  0.855701 -0.668199  0.881427   \n",
       "4  1.096789  1.096789  1.096789 ... -0.069803 -0.904493 -0.111390  0.015497   \n",
       "\n",
       "      26089     26090     26091     26092     26093  y  \n",
       "0  0.725874 -0.374117  0.243681 -0.312687 -0.811497  0  \n",
       "1 -0.693953  0.064393 -0.565696  0.096968 -0.863276  0  \n",
       "2 -1.008735 -0.390107  0.193542  0.011150 -0.321237  0  \n",
       "3 -0.071495 -0.071096 -0.357501  0.035738 -0.408702  0  \n",
       "4 -0.617917 -0.306845 -0.483226  1.113944 -0.697290  0  \n",
       "\n",
       "[5 rows x 52189 columns]"
      ]
     },
     "execution_count": 18,
     "metadata": {},
     "output_type": "execute_result"
    }
   ],
   "source": [
    "zscore = lambda x: (x - x.mean()) / x.std()\n",
    "combined_z = combined.iloc[:, :-1].transform(zscore)\n",
    "combined_z['y'] = combined['y']\n",
    "combined_z.head()"
   ]
  },
  {
   "cell_type": "code",
   "execution_count": 19,
   "metadata": {},
   "outputs": [],
   "source": [
    "import numpy as np"
   ]
  },
  {
   "cell_type": "code",
   "execution_count": 20,
   "metadata": {},
   "outputs": [
    {
     "data": {
      "text/html": [
       "<div>\n",
       "<style scoped>\n",
       "    .dataframe tbody tr th:only-of-type {\n",
       "        vertical-align: middle;\n",
       "    }\n",
       "\n",
       "    .dataframe tbody tr th {\n",
       "        vertical-align: top;\n",
       "    }\n",
       "\n",
       "    .dataframe thead th {\n",
       "        text-align: right;\n",
       "    }\n",
       "</style>\n",
       "<table border=\"1\" class=\"dataframe\">\n",
       "  <thead>\n",
       "    <tr style=\"text-align: right;\">\n",
       "      <th></th>\n",
       "      <th>9719</th>\n",
       "      <th>9719</th>\n",
       "      <th>21833</th>\n",
       "      <th>21833</th>\n",
       "      <th>9496</th>\n",
       "      <th>9496</th>\n",
       "      <th>8526</th>\n",
       "      <th>8526</th>\n",
       "      <th>22994</th>\n",
       "      <th>22994</th>\n",
       "    </tr>\n",
       "  </thead>\n",
       "  <tbody>\n",
       "    <tr>\n",
       "      <th>count</th>\n",
       "      <td>5.420000e+02</td>\n",
       "      <td>5.420000e+02</td>\n",
       "      <td>5.420000e+02</td>\n",
       "      <td>5.420000e+02</td>\n",
       "      <td>5.420000e+02</td>\n",
       "      <td>5.420000e+02</td>\n",
       "      <td>5.420000e+02</td>\n",
       "      <td>5.420000e+02</td>\n",
       "      <td>5.420000e+02</td>\n",
       "      <td>5.420000e+02</td>\n",
       "    </tr>\n",
       "    <tr>\n",
       "      <th>mean</th>\n",
       "      <td>-5.075891e-16</td>\n",
       "      <td>-1.024191e-18</td>\n",
       "      <td>-2.599397e-16</td>\n",
       "      <td>-2.445256e-16</td>\n",
       "      <td>-2.382268e-16</td>\n",
       "      <td>1.954156e-16</td>\n",
       "      <td>8.849010e-17</td>\n",
       "      <td>9.827112e-17</td>\n",
       "      <td>1.377537e-17</td>\n",
       "      <td>-3.757962e-15</td>\n",
       "    </tr>\n",
       "    <tr>\n",
       "      <th>std</th>\n",
       "      <td>1.000000e+00</td>\n",
       "      <td>1.000000e+00</td>\n",
       "      <td>1.000000e+00</td>\n",
       "      <td>1.000000e+00</td>\n",
       "      <td>1.000000e+00</td>\n",
       "      <td>1.000000e+00</td>\n",
       "      <td>1.000000e+00</td>\n",
       "      <td>1.000000e+00</td>\n",
       "      <td>1.000000e+00</td>\n",
       "      <td>1.000000e+00</td>\n",
       "    </tr>\n",
       "    <tr>\n",
       "      <th>min</th>\n",
       "      <td>-3.488120e+00</td>\n",
       "      <td>-7.958635e-01</td>\n",
       "      <td>-2.909106e+00</td>\n",
       "      <td>-8.083580e-01</td>\n",
       "      <td>-2.864348e+00</td>\n",
       "      <td>-1.532393e+00</td>\n",
       "      <td>-3.220099e+00</td>\n",
       "      <td>-1.061716e-01</td>\n",
       "      <td>-3.262072e+00</td>\n",
       "      <td>-1.703016e+00</td>\n",
       "    </tr>\n",
       "    <tr>\n",
       "      <th>25%</th>\n",
       "      <td>-6.092887e-01</td>\n",
       "      <td>-7.763795e-01</td>\n",
       "      <td>-6.428019e-01</td>\n",
       "      <td>-6.134401e-01</td>\n",
       "      <td>-7.539305e-01</td>\n",
       "      <td>-6.625553e-01</td>\n",
       "      <td>-5.526646e-01</td>\n",
       "      <td>-1.061716e-01</td>\n",
       "      <td>-5.973503e-01</td>\n",
       "      <td>-6.756322e-01</td>\n",
       "    </tr>\n",
       "    <tr>\n",
       "      <th>50%</th>\n",
       "      <td>-9.108880e-02</td>\n",
       "      <td>-2.753624e-01</td>\n",
       "      <td>1.468619e-01</td>\n",
       "      <td>-3.400603e-01</td>\n",
       "      <td>-1.290557e-01</td>\n",
       "      <td>-2.095450e-01</td>\n",
       "      <td>-1.287405e-01</td>\n",
       "      <td>-1.061716e-01</td>\n",
       "      <td>-1.166544e-01</td>\n",
       "      <td>-1.478391e-01</td>\n",
       "    </tr>\n",
       "    <tr>\n",
       "      <th>75%</th>\n",
       "      <td>6.649041e-01</td>\n",
       "      <td>3.754619e-01</td>\n",
       "      <td>5.413798e-01</td>\n",
       "      <td>2.465225e-01</td>\n",
       "      <td>8.159503e-01</td>\n",
       "      <td>3.340647e-01</td>\n",
       "      <td>5.129396e-01</td>\n",
       "      <td>-1.009284e-01</td>\n",
       "      <td>5.157418e-01</td>\n",
       "      <td>5.006333e-01</td>\n",
       "    </tr>\n",
       "    <tr>\n",
       "      <th>max</th>\n",
       "      <td>2.581900e+00</td>\n",
       "      <td>9.059090e+00</td>\n",
       "      <td>5.443945e+00</td>\n",
       "      <td>6.070170e+00</td>\n",
       "      <td>3.223611e+00</td>\n",
       "      <td>6.684713e+00</td>\n",
       "      <td>6.299216e+00</td>\n",
       "      <td>1.832379e+01</td>\n",
       "      <td>3.947660e+00</td>\n",
       "      <td>6.669419e+00</td>\n",
       "    </tr>\n",
       "  </tbody>\n",
       "</table>\n",
       "</div>"
      ],
      "text/plain": [
       "              9719          9719          21833         21833         9496   \\\n",
       "count  5.420000e+02  5.420000e+02  5.420000e+02  5.420000e+02  5.420000e+02   \n",
       "mean  -5.075891e-16 -1.024191e-18 -2.599397e-16 -2.445256e-16 -2.382268e-16   \n",
       "std    1.000000e+00  1.000000e+00  1.000000e+00  1.000000e+00  1.000000e+00   \n",
       "min   -3.488120e+00 -7.958635e-01 -2.909106e+00 -8.083580e-01 -2.864348e+00   \n",
       "25%   -6.092887e-01 -7.763795e-01 -6.428019e-01 -6.134401e-01 -7.539305e-01   \n",
       "50%   -9.108880e-02 -2.753624e-01  1.468619e-01 -3.400603e-01 -1.290557e-01   \n",
       "75%    6.649041e-01  3.754619e-01  5.413798e-01  2.465225e-01  8.159503e-01   \n",
       "max    2.581900e+00  9.059090e+00  5.443945e+00  6.070170e+00  3.223611e+00   \n",
       "\n",
       "              9496          8526          8526          22994         22994  \n",
       "count  5.420000e+02  5.420000e+02  5.420000e+02  5.420000e+02  5.420000e+02  \n",
       "mean   1.954156e-16  8.849010e-17  9.827112e-17  1.377537e-17 -3.757962e-15  \n",
       "std    1.000000e+00  1.000000e+00  1.000000e+00  1.000000e+00  1.000000e+00  \n",
       "min   -1.532393e+00 -3.220099e+00 -1.061716e-01 -3.262072e+00 -1.703016e+00  \n",
       "25%   -6.625553e-01 -5.526646e-01 -1.061716e-01 -5.973503e-01 -6.756322e-01  \n",
       "50%   -2.095450e-01 -1.287405e-01 -1.061716e-01 -1.166544e-01 -1.478391e-01  \n",
       "75%    3.340647e-01  5.129396e-01 -1.009284e-01  5.157418e-01  5.006333e-01  \n",
       "max    6.684713e+00  6.299216e+00  1.832379e+01  3.947660e+00  6.669419e+00  "
      ]
     },
     "execution_count": 20,
     "metadata": {},
     "output_type": "execute_result"
    }
   ],
   "source": [
    "combined_z[np.random.choice(combined_z.columns.values, size = 5, replace = False)].describe()"
   ]
  },
  {
   "cell_type": "code",
   "execution_count": 21,
   "metadata": {},
   "outputs": [
    {
     "name": "stdout",
     "output_type": "stream",
     "text": [
      "(542, 52052)\n"
     ]
    }
   ],
   "source": [
    "combined_z_clean = combined_z.dropna('columns')\n",
    "print(combined_z_clean.shape)\n",
    "y_combined_clean = combined_z_clean['y']\n",
    "x_combined_clean = combined_z_clean.drop(['y'], axis = 1)"
   ]
  },
  {
   "cell_type": "code",
   "execution_count": 22,
   "metadata": {},
   "outputs": [
    {
     "data": {
      "text/plain": [
       "52051"
      ]
     },
     "execution_count": 22,
     "metadata": {},
     "output_type": "execute_result"
    }
   ],
   "source": [
    "x_combined_clean.isnull().sum().count()"
   ]
  },
  {
   "cell_type": "code",
   "execution_count": 23,
   "metadata": {},
   "outputs": [],
   "source": [
    "x_combined_train, x_combined_test, y_combined_train, y_combined_test = train_test_split(x_combined_clean, y_combined_clean.values.flatten(), test_size = 0.25, random_state = 0)"
   ]
  },
  {
   "cell_type": "code",
   "execution_count": 38,
   "metadata": {},
   "outputs": [],
   "source": [
    "#Combined_regression = LogisticRegression(C = 100, max_iter = 1000 , penalty = 'l1', solver = 'liblinear')\n",
    "Combined_regression = LogisticRegression(penalty = 'l1', solver = 'liblinear')"
   ]
  },
  {
   "cell_type": "code",
   "execution_count": 39,
   "metadata": {},
   "outputs": [
    {
     "data": {
      "text/plain": [
       "LogisticRegression(C=1.0, class_weight=None, dual=False, fit_intercept=True,\n",
       "          intercept_scaling=1, max_iter=100, multi_class='warn',\n",
       "          n_jobs=None, penalty='l1', random_state=None, solver='liblinear',\n",
       "          tol=0.0001, verbose=0, warm_start=False)"
      ]
     },
     "execution_count": 39,
     "metadata": {},
     "output_type": "execute_result"
    }
   ],
   "source": [
    "Combined_regression.fit(x_combined_train, y_combined_train)"
   ]
  },
  {
   "cell_type": "code",
   "execution_count": 40,
   "metadata": {},
   "outputs": [
    {
     "data": {
      "text/plain": [
       "0.8602941176470589"
      ]
     },
     "execution_count": 40,
     "metadata": {},
     "output_type": "execute_result"
    }
   ],
   "source": [
    "Combined_regression.score(x_combined_test, y_combined_test)"
   ]
  },
  {
   "cell_type": "code",
   "execution_count": 27,
   "metadata": {},
   "outputs": [],
   "source": [
    "from sklearn.model_selection import GridSearchCV"
   ]
  },
  {
   "cell_type": "code",
   "execution_count": 28,
   "metadata": {},
   "outputs": [],
   "source": [
    "parameters = {'solver': ['liblinear'], 'C': [0.001, 0.01, 1, 10, 100, 1000]}\n",
    "clf = GridSearchCV( estimator = Combined_regression, param_grid = parameters)"
   ]
  },
  {
   "cell_type": "code",
   "execution_count": 29,
   "metadata": {},
   "outputs": [
    {
     "name": "stderr",
     "output_type": "stream",
     "text": [
      "/Users/a.su/anaconda3/lib/python3.6/site-packages/sklearn/model_selection/_split.py:1943: FutureWarning: You should specify a value for 'cv' instead of relying on the default value. The default value will change from 3 to 5 in version 0.22.\n",
      "  warnings.warn(CV_WARNING, FutureWarning)\n"
     ]
    },
    {
     "data": {
      "text/plain": [
       "GridSearchCV(cv='warn', error_score='raise-deprecating',\n",
       "       estimator=LogisticRegression(C=100, class_weight=None, dual=False, fit_intercept=True,\n",
       "          intercept_scaling=1, max_iter=1000, multi_class='warn',\n",
       "          n_jobs=None, penalty='l1', random_state=None, solver='liblinear',\n",
       "          tol=0.0001, verbose=0, warm_start=False),\n",
       "       fit_params=None, iid='warn', n_jobs=None,\n",
       "       param_grid={'solver': ['liblinear'], 'C': [0.001, 0.01, 1, 10, 100, 1000]},\n",
       "       pre_dispatch='2*n_jobs', refit=True, return_train_score='warn',\n",
       "       scoring=None, verbose=0)"
      ]
     },
     "execution_count": 29,
     "metadata": {},
     "output_type": "execute_result"
    }
   ],
   "source": [
    "clf.fit(x_combined_train, y_combined_train)"
   ]
  },
  {
   "cell_type": "code",
   "execution_count": 30,
   "metadata": {},
   "outputs": [
    {
     "data": {
      "text/plain": [
       "0.8152709359605911"
      ]
     },
     "execution_count": 30,
     "metadata": {},
     "output_type": "execute_result"
    }
   ],
   "source": [
    "clf.best_score_"
   ]
  },
  {
   "cell_type": "code",
   "execution_count": 31,
   "metadata": {},
   "outputs": [
    {
     "data": {
      "text/plain": [
       "0.8382352941176471"
      ]
     },
     "execution_count": 31,
     "metadata": {},
     "output_type": "execute_result"
    }
   ],
   "source": [
    "clf.score(x_combined_test, y_combined_test)"
   ]
  },
  {
   "cell_type": "code",
   "execution_count": 32,
   "metadata": {},
   "outputs": [
    {
     "data": {
      "text/plain": [
       "{'C': 1, 'solver': 'liblinear'}"
      ]
     },
     "execution_count": 32,
     "metadata": {},
     "output_type": "execute_result"
    }
   ],
   "source": [
    "clf.best_params_"
   ]
  },
  {
   "cell_type": "markdown",
   "metadata": {},
   "source": [
    "#### Elastic Net"
   ]
  },
  {
   "cell_type": "code",
   "execution_count": 33,
   "metadata": {},
   "outputs": [],
   "source": [
    "from sklearn.linear_model import SGDClassifier"
   ]
  },
  {
   "cell_type": "code",
   "execution_count": 140,
   "metadata": {},
   "outputs": [],
   "source": [
    "SGD = SGDClassifier(loss = 'log', max_iter = 1000, tol=0.001)"
   ]
  },
  {
   "cell_type": "code",
   "execution_count": 141,
   "metadata": {},
   "outputs": [
    {
     "data": {
      "text/plain": [
       "SGDClassifier(alpha=0.0001, average=False, class_weight=None,\n",
       "       early_stopping=False, epsilon=0.1, eta0=0.0, fit_intercept=True,\n",
       "       l1_ratio=0.15, learning_rate='optimal', loss='log', max_iter=1000,\n",
       "       n_iter=None, n_iter_no_change=5, n_jobs=None, penalty='l2',\n",
       "       power_t=0.5, random_state=None, shuffle=True, tol=0.001,\n",
       "       validation_fraction=0.1, verbose=0, warm_start=False)"
      ]
     },
     "execution_count": 141,
     "metadata": {},
     "output_type": "execute_result"
    }
   ],
   "source": [
    "SGD.fit(x_combined_train, y_combined_train)"
   ]
  },
  {
   "cell_type": "code",
   "execution_count": 142,
   "metadata": {},
   "outputs": [
    {
     "data": {
      "text/plain": [
       "0.6102941176470589"
      ]
     },
     "execution_count": 142,
     "metadata": {},
     "output_type": "execute_result"
    }
   ],
   "source": [
    "SGD.score(x_combined_test, y_combined_test)"
   ]
  },
  {
   "cell_type": "code",
   "execution_count": 143,
   "metadata": {},
   "outputs": [],
   "source": [
    "SGD_parameters = {'alpha': [0.001, 0.001, 0.01, 0.1, 1, 10, 100, 1000, 10000], 'penalty':['elasticnet'], \n",
    "                  'epsilon': [0.001, 0.01, 0.1, 1, 10]}"
   ]
  },
  {
   "cell_type": "code",
   "execution_count": 144,
   "metadata": {},
   "outputs": [],
   "source": [
    "SGD_search = GridSearchCV(estimator = SGD, param_grid= SGD_parameters)"
   ]
  },
  {
   "cell_type": "code",
   "execution_count": 145,
   "metadata": {},
   "outputs": [
    {
     "name": "stderr",
     "output_type": "stream",
     "text": [
      "/Users/a.su/anaconda3/lib/python3.6/site-packages/sklearn/model_selection/_split.py:1943: FutureWarning: You should specify a value for 'cv' instead of relying on the default value. The default value will change from 3 to 5 in version 0.22.\n",
      "  warnings.warn(CV_WARNING, FutureWarning)\n",
      "/Users/a.su/anaconda3/lib/python3.6/site-packages/sklearn/model_selection/_search.py:841: DeprecationWarning: The default of the `iid` parameter will change from True to False in version 0.22 and will be removed in 0.24. This will change numeric results when test-set sizes are unequal.\n",
      "  DeprecationWarning)\n"
     ]
    },
    {
     "data": {
      "text/plain": [
       "GridSearchCV(cv='warn', error_score='raise-deprecating',\n",
       "       estimator=SGDClassifier(alpha=0.0001, average=False, class_weight=None,\n",
       "       early_stopping=False, epsilon=0.1, eta0=0.0, fit_intercept=True,\n",
       "       l1_ratio=0.15, learning_rate='optimal', loss='log', max_iter=1000,\n",
       "       n_iter=None, n_iter_no_change=5, n_jobs=None, penalty='l2',\n",
       "       power_t=0.5, random_state=None, shuffle=True, tol=0.001,\n",
       "       validation_fraction=0.1, verbose=0, warm_start=False),\n",
       "       fit_params=None, iid='warn', n_jobs=None,\n",
       "       param_grid={'alpha': [0.001, 0.001, 0.01, 0.1, 1, 10, 100, 1000, 10000], 'penalty': ['elasticnet'], 'epsilon': [0.001, 0.01, 0.1, 1, 10]},\n",
       "       pre_dispatch='2*n_jobs', refit=True, return_train_score='warn',\n",
       "       scoring=None, verbose=0)"
      ]
     },
     "execution_count": 145,
     "metadata": {},
     "output_type": "execute_result"
    }
   ],
   "source": [
    "SGD_search.fit(x_combined_train, y_combined_train)"
   ]
  },
  {
   "cell_type": "code",
   "execution_count": 146,
   "metadata": {},
   "outputs": [
    {
     "data": {
      "text/plain": [
       "0.7941176470588235"
      ]
     },
     "execution_count": 146,
     "metadata": {},
     "output_type": "execute_result"
    }
   ],
   "source": [
    "SGD_search.score(x_combined_test, y_combined_test)"
   ]
  },
  {
   "cell_type": "code",
   "execution_count": 147,
   "metadata": {},
   "outputs": [
    {
     "data": {
      "text/plain": [
       "{'alpha': 0.1, 'epsilon': 0.01, 'penalty': 'elasticnet'}"
      ]
     },
     "execution_count": 147,
     "metadata": {},
     "output_type": "execute_result"
    }
   ],
   "source": [
    "SGD_search.best_params_"
   ]
  }
 ],
 "metadata": {
  "kernelspec": {
   "display_name": "Python 3",
   "language": "python",
   "name": "python3"
  },
  "language_info": {
   "codemirror_mode": {
    "name": "ipython",
    "version": 3
   },
   "file_extension": ".py",
   "mimetype": "text/x-python",
   "name": "python",
   "nbconvert_exporter": "python",
   "pygments_lexer": "ipython3",
   "version": "3.6.6"
  }
 },
 "nbformat": 4,
 "nbformat_minor": 2
}

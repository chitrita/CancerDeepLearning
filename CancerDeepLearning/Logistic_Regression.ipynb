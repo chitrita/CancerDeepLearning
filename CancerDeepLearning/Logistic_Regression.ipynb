{
 "cells": [
  {
   "cell_type": "markdown",
   "metadata": {},
   "source": [
    "## Logistic Regression on Copy Number Variation and RNAseq"
   ]
  },
  {
   "cell_type": "code",
   "execution_count": 1,
   "metadata": {},
   "outputs": [],
   "source": [
    "import pandas as pd"
   ]
  },
  {
   "cell_type": "code",
   "execution_count": 83,
   "metadata": {},
   "outputs": [],
   "source": [
    "#Import Data\n",
    "y = pd.read_table('/Users/a.su/Documents/Cancer_RNAseq_CNV/CancerTypes_y.txt', sep = '\\t', header = None)\n",
    "x_cnv = pd.read_table('/Users/a.su/Documents/Cancer_RNAseq_CNV/CNV_processed.txt', sep = '\\t', header = 0)\n",
    "x_rna = pd.read_table('/Users/a.su/Documents/Cancer_RNAseq_CNV/RNAseq_processed.txt', sep = '\\t', header = 0)"
   ]
  },
  {
   "cell_type": "code",
   "execution_count": 84,
   "metadata": {},
   "outputs": [
    {
     "name": "stdout",
     "output_type": "stream",
     "text": [
      "x_cnv shape is: (668, 26094)\n",
      "x_rna shape is: (668, 26094)\n",
      "y shape is: (668, 1)\n"
     ]
    }
   ],
   "source": [
    "# Remove GeneID Column\n",
    "x_cnv = x_cnv.drop('GeneID', axis = 1)\n",
    "x_rna = x_rna.drop('GeneID', axis = 1)\n",
    "# Transpose\n",
    "x_cnv = x_cnv.transpose()\n",
    "x_rna = x_rna.transpose()\n",
    "print('x_cnv shape is:', x_cnv.shape)\n",
    "print('x_rna shape is:', x_rna.shape)\n",
    "print('y shape is:', y.shape)"
   ]
  },
  {
   "cell_type": "markdown",
   "metadata": {},
   "source": [
    "#### DropNa from CNV data"
   ]
  },
  {
   "cell_type": "code",
   "execution_count": 41,
   "metadata": {},
   "outputs": [
    {
     "name": "stdout",
     "output_type": "stream",
     "text": [
      "(542, 26095)\n"
     ]
    }
   ],
   "source": [
    "#Merge CNV x and y data\n",
    "cnv = x_cnv.reset_index(drop = True)\n",
    "cnv['y'] = y[0]\n",
    "\n",
    "#Drop NaN\n",
    "cnv_clean = cnv.dropna('index')\n",
    "print(cnv_clean.shape)\n",
    "\n",
    "#Unmerge CNV x and y data\n",
    "y_cnv_clean = cnv_clean['y']\n",
    "x_cnv_clean = cnv_clean.drop(['y'], axis = 1)"
   ]
  },
  {
   "cell_type": "markdown",
   "metadata": {},
   "source": [
    "#### Impute CNV data"
   ]
  },
  {
   "cell_type": "code",
   "execution_count": 37,
   "metadata": {},
   "outputs": [
    {
     "data": {
      "text/plain": [
       "False"
      ]
     },
     "execution_count": 37,
     "metadata": {},
     "output_type": "execute_result"
    }
   ],
   "source": [
    "import numpy as np\n",
    "from sklearn.impute import SimpleImputer\n",
    "impute_median = SimpleImputer(strategy = 'median')\n",
    "\n",
    "#Impute \n",
    "y_cnv_imputed = cnv['y']\n",
    "x_cnv_imputed = cnv.drop(['y'], axis = 1)\n",
    "x_cnv_imputed = impute_median.fit_transform(x_cnv_imputed)\n",
    "\n",
    "#Check for NaN values\n",
    "np.isnan(x_cnv_imputed).all()"
   ]
  },
  {
   "cell_type": "code",
   "execution_count": 54,
   "metadata": {},
   "outputs": [
    {
     "data": {
      "text/plain": [
       "0.0"
      ]
     },
     "execution_count": 54,
     "metadata": {},
     "output_type": "execute_result"
    }
   ],
   "source": [
    "x_rna[798].sum()"
   ]
  },
  {
   "cell_type": "code",
   "execution_count": 67,
   "metadata": {},
   "outputs": [
    {
     "data": {
      "text/plain": [
       "111"
      ]
     },
     "execution_count": 67,
     "metadata": {},
     "output_type": "execute_result"
    }
   ],
   "source": [
    "x_rna.std().value_counts()[0]"
   ]
  },
  {
   "cell_type": "code",
   "execution_count": 68,
   "metadata": {},
   "outputs": [
    {
     "data": {
      "text/plain": [
       "111"
      ]
     },
     "execution_count": 68,
     "metadata": {},
     "output_type": "execute_result"
    }
   ],
   "source": [
    "x_rna.sum().value_counts()[0]"
   ]
  },
  {
   "cell_type": "markdown",
   "metadata": {},
   "source": [
    "#### Scale RNASeq and CNV data"
   ]
  },
  {
   "cell_type": "code",
   "execution_count": 71,
   "metadata": {},
   "outputs": [],
   "source": [
    "def zscore(x):\n",
    "    if x.std()==0:\n",
    "        return x\n",
    "    else:\n",
    "        return (x-x.mean())/ x.std()\n",
    "    \n",
    "x_cnv_imputed = pd.DataFrame(x_cnv_imputed)"
   ]
  },
  {
   "cell_type": "code",
   "execution_count": 85,
   "metadata": {},
   "outputs": [],
   "source": [
    "x_rna_processed = x_rna.transform(zscore)\n",
    "y_rna_processed = y\n",
    "x_cnv_processed = x_cnv_imputed.transform(zscore)\n",
    "y_cnv_processed = y"
   ]
  },
  {
   "cell_type": "code",
   "execution_count": 73,
   "metadata": {},
   "outputs": [
    {
     "data": {
      "text/html": [
       "<div>\n",
       "<style scoped>\n",
       "    .dataframe tbody tr th:only-of-type {\n",
       "        vertical-align: middle;\n",
       "    }\n",
       "\n",
       "    .dataframe tbody tr th {\n",
       "        vertical-align: top;\n",
       "    }\n",
       "\n",
       "    .dataframe thead th {\n",
       "        text-align: right;\n",
       "    }\n",
       "</style>\n",
       "<table border=\"1\" class=\"dataframe\">\n",
       "  <thead>\n",
       "    <tr style=\"text-align: right;\">\n",
       "      <th></th>\n",
       "      <th>25031</th>\n",
       "      <th>24711</th>\n",
       "      <th>20339</th>\n",
       "      <th>2042</th>\n",
       "      <th>25556</th>\n",
       "      <th>10202</th>\n",
       "      <th>23390</th>\n",
       "      <th>22091</th>\n",
       "      <th>23313</th>\n",
       "      <th>6263</th>\n",
       "    </tr>\n",
       "  </thead>\n",
       "  <tbody>\n",
       "    <tr>\n",
       "      <th>count</th>\n",
       "      <td>6.680000e+02</td>\n",
       "      <td>6.680000e+02</td>\n",
       "      <td>6.680000e+02</td>\n",
       "      <td>6.680000e+02</td>\n",
       "      <td>668.0</td>\n",
       "      <td>6.680000e+02</td>\n",
       "      <td>6.680000e+02</td>\n",
       "      <td>6.680000e+02</td>\n",
       "      <td>6.680000e+02</td>\n",
       "      <td>6.680000e+02</td>\n",
       "    </tr>\n",
       "    <tr>\n",
       "      <th>mean</th>\n",
       "      <td>-3.015552e-15</td>\n",
       "      <td>-9.588139e-16</td>\n",
       "      <td>-2.514206e-16</td>\n",
       "      <td>4.250592e-16</td>\n",
       "      <td>0.0</td>\n",
       "      <td>-4.748364e-16</td>\n",
       "      <td>-6.024788e-17</td>\n",
       "      <td>1.035433e-15</td>\n",
       "      <td>-4.605223e-16</td>\n",
       "      <td>-1.921284e-16</td>\n",
       "    </tr>\n",
       "    <tr>\n",
       "      <th>std</th>\n",
       "      <td>1.000000e+00</td>\n",
       "      <td>1.000000e+00</td>\n",
       "      <td>1.000000e+00</td>\n",
       "      <td>1.000000e+00</td>\n",
       "      <td>0.0</td>\n",
       "      <td>1.000000e+00</td>\n",
       "      <td>1.000000e+00</td>\n",
       "      <td>1.000000e+00</td>\n",
       "      <td>1.000000e+00</td>\n",
       "      <td>1.000000e+00</td>\n",
       "    </tr>\n",
       "    <tr>\n",
       "      <th>min</th>\n",
       "      <td>-1.799751e+00</td>\n",
       "      <td>-6.415402e-01</td>\n",
       "      <td>-6.989218e-01</td>\n",
       "      <td>-2.252745e-01</td>\n",
       "      <td>0.0</td>\n",
       "      <td>-5.323731e-01</td>\n",
       "      <td>-4.673270e-01</td>\n",
       "      <td>-1.950457e-01</td>\n",
       "      <td>-2.055896e+00</td>\n",
       "      <td>-1.227749e+00</td>\n",
       "    </tr>\n",
       "    <tr>\n",
       "      <th>25%</th>\n",
       "      <td>-7.110510e-01</td>\n",
       "      <td>-4.267988e-01</td>\n",
       "      <td>-5.521124e-01</td>\n",
       "      <td>-2.252745e-01</td>\n",
       "      <td>0.0</td>\n",
       "      <td>-5.323731e-01</td>\n",
       "      <td>-4.153762e-01</td>\n",
       "      <td>-1.950457e-01</td>\n",
       "      <td>-6.453704e-01</td>\n",
       "      <td>-6.919606e-01</td>\n",
       "    </tr>\n",
       "    <tr>\n",
       "      <th>50%</th>\n",
       "      <td>-1.868432e-01</td>\n",
       "      <td>-2.677942e-01</td>\n",
       "      <td>-3.779924e-01</td>\n",
       "      <td>-2.046518e-01</td>\n",
       "      <td>0.0</td>\n",
       "      <td>-4.784667e-01</td>\n",
       "      <td>-2.826844e-01</td>\n",
       "      <td>-1.950457e-01</td>\n",
       "      <td>-2.206979e-01</td>\n",
       "      <td>-2.232506e-01</td>\n",
       "    </tr>\n",
       "    <tr>\n",
       "      <th>75%</th>\n",
       "      <td>4.840146e-01</td>\n",
       "      <td>7.589458e-02</td>\n",
       "      <td>9.986880e-02</td>\n",
       "      <td>-1.187687e-01</td>\n",
       "      <td>0.0</td>\n",
       "      <td>1.203361e-01</td>\n",
       "      <td>-3.156066e-02</td>\n",
       "      <td>-1.950457e-01</td>\n",
       "      <td>4.731923e-01</td>\n",
       "      <td>3.362896e-01</td>\n",
       "    </tr>\n",
       "    <tr>\n",
       "      <th>max</th>\n",
       "      <td>6.017927e+00</td>\n",
       "      <td>1.452851e+01</td>\n",
       "      <td>8.569220e+00</td>\n",
       "      <td>1.710277e+01</td>\n",
       "      <td>0.0</td>\n",
       "      <td>8.202107e+00</td>\n",
       "      <td>1.175696e+01</td>\n",
       "      <td>1.701178e+01</td>\n",
       "      <td>1.112505e+01</td>\n",
       "      <td>7.748902e+00</td>\n",
       "    </tr>\n",
       "  </tbody>\n",
       "</table>\n",
       "</div>"
      ],
      "text/plain": [
       "              25031         24711         20339         2042   25556  \\\n",
       "count  6.680000e+02  6.680000e+02  6.680000e+02  6.680000e+02  668.0   \n",
       "mean  -3.015552e-15 -9.588139e-16 -2.514206e-16  4.250592e-16    0.0   \n",
       "std    1.000000e+00  1.000000e+00  1.000000e+00  1.000000e+00    0.0   \n",
       "min   -1.799751e+00 -6.415402e-01 -6.989218e-01 -2.252745e-01    0.0   \n",
       "25%   -7.110510e-01 -4.267988e-01 -5.521124e-01 -2.252745e-01    0.0   \n",
       "50%   -1.868432e-01 -2.677942e-01 -3.779924e-01 -2.046518e-01    0.0   \n",
       "75%    4.840146e-01  7.589458e-02  9.986880e-02 -1.187687e-01    0.0   \n",
       "max    6.017927e+00  1.452851e+01  8.569220e+00  1.710277e+01    0.0   \n",
       "\n",
       "              10202         23390         22091         23313         6263   \n",
       "count  6.680000e+02  6.680000e+02  6.680000e+02  6.680000e+02  6.680000e+02  \n",
       "mean  -4.748364e-16 -6.024788e-17  1.035433e-15 -4.605223e-16 -1.921284e-16  \n",
       "std    1.000000e+00  1.000000e+00  1.000000e+00  1.000000e+00  1.000000e+00  \n",
       "min   -5.323731e-01 -4.673270e-01 -1.950457e-01 -2.055896e+00 -1.227749e+00  \n",
       "25%   -5.323731e-01 -4.153762e-01 -1.950457e-01 -6.453704e-01 -6.919606e-01  \n",
       "50%   -4.784667e-01 -2.826844e-01 -1.950457e-01 -2.206979e-01 -2.232506e-01  \n",
       "75%    1.203361e-01 -3.156066e-02 -1.950457e-01  4.731923e-01  3.362896e-01  \n",
       "max    8.202107e+00  1.175696e+01  1.701178e+01  1.112505e+01  7.748902e+00  "
      ]
     },
     "execution_count": 73,
     "metadata": {},
     "output_type": "execute_result"
    }
   ],
   "source": [
    "#Visualise\n",
    "x_rna_processed[np.random.choice(x_rna_processed.columns.values, size = 10, replace = False)].describe()"
   ]
  },
  {
   "cell_type": "code",
   "execution_count": 74,
   "metadata": {},
   "outputs": [
    {
     "data": {
      "text/html": [
       "<div>\n",
       "<style scoped>\n",
       "    .dataframe tbody tr th:only-of-type {\n",
       "        vertical-align: middle;\n",
       "    }\n",
       "\n",
       "    .dataframe tbody tr th {\n",
       "        vertical-align: top;\n",
       "    }\n",
       "\n",
       "    .dataframe thead th {\n",
       "        text-align: right;\n",
       "    }\n",
       "</style>\n",
       "<table border=\"1\" class=\"dataframe\">\n",
       "  <thead>\n",
       "    <tr style=\"text-align: right;\">\n",
       "      <th></th>\n",
       "      <th>78</th>\n",
       "      <th>19284</th>\n",
       "      <th>24391</th>\n",
       "      <th>16634</th>\n",
       "      <th>6411</th>\n",
       "      <th>17000</th>\n",
       "      <th>17307</th>\n",
       "      <th>11473</th>\n",
       "      <th>14274</th>\n",
       "      <th>10195</th>\n",
       "    </tr>\n",
       "  </thead>\n",
       "  <tbody>\n",
       "    <tr>\n",
       "      <th>count</th>\n",
       "      <td>6.680000e+02</td>\n",
       "      <td>6.680000e+02</td>\n",
       "      <td>6.680000e+02</td>\n",
       "      <td>6.680000e+02</td>\n",
       "      <td>6.680000e+02</td>\n",
       "      <td>6.680000e+02</td>\n",
       "      <td>6.680000e+02</td>\n",
       "      <td>6.680000e+02</td>\n",
       "      <td>6.680000e+02</td>\n",
       "      <td>6.680000e+02</td>\n",
       "    </tr>\n",
       "    <tr>\n",
       "      <th>mean</th>\n",
       "      <td>-2.887743e-16</td>\n",
       "      <td>1.966989e-16</td>\n",
       "      <td>9.972063e-19</td>\n",
       "      <td>-3.722904e-17</td>\n",
       "      <td>1.018812e-16</td>\n",
       "      <td>4.088546e-17</td>\n",
       "      <td>1.519078e-16</td>\n",
       "      <td>-3.732876e-16</td>\n",
       "      <td>5.750556e-17</td>\n",
       "      <td>-6.574914e-16</td>\n",
       "    </tr>\n",
       "    <tr>\n",
       "      <th>std</th>\n",
       "      <td>1.000000e+00</td>\n",
       "      <td>1.000000e+00</td>\n",
       "      <td>1.000000e+00</td>\n",
       "      <td>1.000000e+00</td>\n",
       "      <td>1.000000e+00</td>\n",
       "      <td>1.000000e+00</td>\n",
       "      <td>1.000000e+00</td>\n",
       "      <td>1.000000e+00</td>\n",
       "      <td>1.000000e+00</td>\n",
       "      <td>1.000000e+00</td>\n",
       "    </tr>\n",
       "    <tr>\n",
       "      <th>min</th>\n",
       "      <td>-2.928529e+00</td>\n",
       "      <td>-3.034655e+00</td>\n",
       "      <td>-3.331978e+00</td>\n",
       "      <td>-2.275024e+00</td>\n",
       "      <td>-3.236881e+00</td>\n",
       "      <td>-2.997208e+00</td>\n",
       "      <td>-2.441742e+00</td>\n",
       "      <td>-2.303250e+00</td>\n",
       "      <td>-4.525349e+00</td>\n",
       "      <td>-3.078891e+00</td>\n",
       "    </tr>\n",
       "    <tr>\n",
       "      <th>25%</th>\n",
       "      <td>-6.608156e-01</td>\n",
       "      <td>-6.275523e-01</td>\n",
       "      <td>-6.244311e-01</td>\n",
       "      <td>-6.795403e-01</td>\n",
       "      <td>-7.322270e-01</td>\n",
       "      <td>-6.123954e-01</td>\n",
       "      <td>-6.320894e-01</td>\n",
       "      <td>-6.166847e-01</td>\n",
       "      <td>-5.574981e-01</td>\n",
       "      <td>-6.375975e-01</td>\n",
       "    </tr>\n",
       "    <tr>\n",
       "      <th>50%</th>\n",
       "      <td>9.381721e-02</td>\n",
       "      <td>-4.613094e-02</td>\n",
       "      <td>1.950555e-02</td>\n",
       "      <td>5.168912e-02</td>\n",
       "      <td>5.003070e-02</td>\n",
       "      <td>-6.573807e-02</td>\n",
       "      <td>-1.258360e-01</td>\n",
       "      <td>4.618720e-02</td>\n",
       "      <td>-6.976906e-02</td>\n",
       "      <td>-1.157961e-01</td>\n",
       "    </tr>\n",
       "    <tr>\n",
       "      <th>75%</th>\n",
       "      <td>5.894547e-01</td>\n",
       "      <td>6.554109e-01</td>\n",
       "      <td>5.478158e-01</td>\n",
       "      <td>4.705373e-01</td>\n",
       "      <td>6.332291e-01</td>\n",
       "      <td>4.440966e-01</td>\n",
       "      <td>5.491144e-01</td>\n",
       "      <td>4.055298e-01</td>\n",
       "      <td>6.227346e-01</td>\n",
       "      <td>6.345004e-01</td>\n",
       "    </tr>\n",
       "    <tr>\n",
       "      <th>max</th>\n",
       "      <td>4.417968e+00</td>\n",
       "      <td>3.233232e+00</td>\n",
       "      <td>5.417243e+00</td>\n",
       "      <td>4.524598e+00</td>\n",
       "      <td>3.660945e+00</td>\n",
       "      <td>4.379963e+00</td>\n",
       "      <td>3.542402e+00</td>\n",
       "      <td>7.628642e+00</td>\n",
       "      <td>3.365628e+00</td>\n",
       "      <td>4.144223e+00</td>\n",
       "    </tr>\n",
       "  </tbody>\n",
       "</table>\n",
       "</div>"
      ],
      "text/plain": [
       "              78            19284         24391         16634         6411   \\\n",
       "count  6.680000e+02  6.680000e+02  6.680000e+02  6.680000e+02  6.680000e+02   \n",
       "mean  -2.887743e-16  1.966989e-16  9.972063e-19 -3.722904e-17  1.018812e-16   \n",
       "std    1.000000e+00  1.000000e+00  1.000000e+00  1.000000e+00  1.000000e+00   \n",
       "min   -2.928529e+00 -3.034655e+00 -3.331978e+00 -2.275024e+00 -3.236881e+00   \n",
       "25%   -6.608156e-01 -6.275523e-01 -6.244311e-01 -6.795403e-01 -7.322270e-01   \n",
       "50%    9.381721e-02 -4.613094e-02  1.950555e-02  5.168912e-02  5.003070e-02   \n",
       "75%    5.894547e-01  6.554109e-01  5.478158e-01  4.705373e-01  6.332291e-01   \n",
       "max    4.417968e+00  3.233232e+00  5.417243e+00  4.524598e+00  3.660945e+00   \n",
       "\n",
       "              17000         17307         11473         14274         10195  \n",
       "count  6.680000e+02  6.680000e+02  6.680000e+02  6.680000e+02  6.680000e+02  \n",
       "mean   4.088546e-17  1.519078e-16 -3.732876e-16  5.750556e-17 -6.574914e-16  \n",
       "std    1.000000e+00  1.000000e+00  1.000000e+00  1.000000e+00  1.000000e+00  \n",
       "min   -2.997208e+00 -2.441742e+00 -2.303250e+00 -4.525349e+00 -3.078891e+00  \n",
       "25%   -6.123954e-01 -6.320894e-01 -6.166847e-01 -5.574981e-01 -6.375975e-01  \n",
       "50%   -6.573807e-02 -1.258360e-01  4.618720e-02 -6.976906e-02 -1.157961e-01  \n",
       "75%    4.440966e-01  5.491144e-01  4.055298e-01  6.227346e-01  6.345004e-01  \n",
       "max    4.379963e+00  3.542402e+00  7.628642e+00  3.365628e+00  4.144223e+00  "
      ]
     },
     "execution_count": 74,
     "metadata": {},
     "output_type": "execute_result"
    }
   ],
   "source": [
    "x_cnv_processed[np.random.choice(x_cnv_processed.columns.values, size = 10, replace = False)].describe()"
   ]
  },
  {
   "cell_type": "code",
   "execution_count": 75,
   "metadata": {},
   "outputs": [
    {
     "name": "stdout",
     "output_type": "stream",
     "text": [
      "False\n",
      "False\n"
     ]
    }
   ],
   "source": [
    "#Check for NaN values\n",
    "print(x_rna_processed.isnull().any().any())\n",
    "print(x_cnv_processed.isnull().any().any())"
   ]
  },
  {
   "cell_type": "markdown",
   "metadata": {},
   "source": [
    "### Logistic Regression on CNV and RNAseq Individually (Unprocessed Data)"
   ]
  },
  {
   "cell_type": "code",
   "execution_count": 80,
   "metadata": {},
   "outputs": [],
   "source": [
    "from sklearn.model_selection import train_test_split\n",
    "from sklearn.linear_model import LogisticRegression"
   ]
  },
  {
   "cell_type": "code",
   "execution_count": 105,
   "metadata": {},
   "outputs": [
    {
     "data": {
      "text/plain": [
       "LogisticRegression(C=1.0, class_weight=None, dual=False, fit_intercept=True,\n",
       "          intercept_scaling=1, max_iter=100, multi_class='warn',\n",
       "          n_jobs=None, penalty='l1', random_state=None, solver='liblinear',\n",
       "          tol=0.0001, verbose=0, warm_start=False)"
      ]
     },
     "execution_count": 105,
     "metadata": {},
     "output_type": "execute_result"
    }
   ],
   "source": [
    "#Split data into training and test sets\n",
    "x_cnv_train, x_cnv_test, y_cnv_train, y_cnv_test = train_test_split(x_cnv_clean, y_cnv_clean.values.flatten(), test_size = 0.25, random_state = 0)\n",
    "x_rna_train, x_rna_test, y_rna_train, y_rna_test = train_test_split(x_rna, y.values.flatten(), test_size = 0.25, random_state = 0)\n",
    "\n",
    "CNV_regression = LogisticRegression(penalty = 'l1', solver = 'liblinear')\n",
    "RNA_regression = LogisticRegression(penalty = 'l1', solver = 'liblinear')\n",
    "\n",
    "#Fit train set\n",
    "CNV_regression.fit(x_cnv_train, y_cnv_train)\n",
    "RNA_regression.fit(x_rna_train, y_rna_train)"
   ]
  },
  {
   "cell_type": "code",
   "execution_count": 107,
   "metadata": {},
   "outputs": [
    {
     "name": "stdout",
     "output_type": "stream",
     "text": [
      "CNV accuracy: 0.7058823529411765\n",
      "RNA accurary: 0.7784431137724551\n"
     ]
    }
   ],
   "source": [
    "print('CNV accuracy:', CNV_regression.score(x_cnv_test, y_cnv_test))\n",
    "print('RNA accurary:', RNA_regression.score(x_rna_test, y_rna_test))"
   ]
  },
  {
   "cell_type": "markdown",
   "metadata": {},
   "source": [
    "### Logistic Regression on CNV and RNAseq Individually (Processed Data)\n",
    "Processing include imputation and scaling"
   ]
  },
  {
   "cell_type": "code",
   "execution_count": 103,
   "metadata": {},
   "outputs": [
    {
     "data": {
      "text/plain": [
       "LogisticRegression(C=1.0, class_weight=None, dual=False, fit_intercept=True,\n",
       "          intercept_scaling=1, max_iter=100, multi_class='warn',\n",
       "          n_jobs=None, penalty='l1', random_state=None, solver='liblinear',\n",
       "          tol=0.0001, verbose=0, warm_start=False)"
      ]
     },
     "execution_count": 103,
     "metadata": {},
     "output_type": "execute_result"
    }
   ],
   "source": [
    "#Split data into training and test sets\n",
    "x_cnv_processed_train, x_cnv_processed_test, y_cnv_processed_train, y_cnv_processed_test = train_test_split(\n",
    "    x_cnv_processed, y_cnv_processed.values.flatten(), test_size = 0.25, random_state = 0)\n",
    "x_rna_processed_train, x_rna_processed_test, y_rna_processed_train, y_rna_processed_test = train_test_split(\n",
    "    x_rna_processed, y_rna_processed.values.flatten(), test_size = 0.25, random_state = 0)\n",
    "\n",
    "CNV_processed_regression = LogisticRegression(penalty = 'l1', solver = 'liblinear')\n",
    "RNA_processed_regression = LogisticRegression(penalty = 'l1', solver = 'liblinear')\n",
    "\n",
    "#Fit train set\n",
    "CNV_processed_regression.fit(x_cnv_processed_train, y_cnv_processed_train)\n",
    "RNA_processed_regression.fit(x_rna_processed_train, y_rna_processed_train)"
   ]
  },
  {
   "cell_type": "code",
   "execution_count": 104,
   "metadata": {},
   "outputs": [
    {
     "name": "stdout",
     "output_type": "stream",
     "text": [
      "CNV processed accuracy: 0.7305389221556886\n",
      "RNA processed accurary: 0.8323353293413174\n"
     ]
    }
   ],
   "source": [
    "print('CNV processed accuracy:', CNV_processed_regression.score(x_cnv_processed_test, y_cnv_processed_test))\n",
    "print('RNA processed accurary:', RNA_processed_regression.score(x_rna_processed_test, y_rna_processed_test))"
   ]
  },
  {
   "cell_type": "markdown",
   "metadata": {},
   "source": [
    "### Logistic Regression on combined CNV and RNAseq data (processed)"
   ]
  },
  {
   "cell_type": "code",
   "execution_count": 95,
   "metadata": {},
   "outputs": [
    {
     "data": {
      "text/plain": [
       "(668, 52189)"
      ]
     },
     "execution_count": 95,
     "metadata": {},
     "output_type": "execute_result"
    }
   ],
   "source": [
    "x_combined = pd.concat([x_cnv_processed.reset_index(drop = True), x_rna_processed.reset_index(drop = True)] , axis = 1)\n",
    "y_combined = y[0]\n",
    "combined.shape"
   ]
  },
  {
   "cell_type": "code",
   "execution_count": 96,
   "metadata": {},
   "outputs": [
    {
     "data": {
      "text/html": [
       "<div>\n",
       "<style scoped>\n",
       "    .dataframe tbody tr th:only-of-type {\n",
       "        vertical-align: middle;\n",
       "    }\n",
       "\n",
       "    .dataframe tbody tr th {\n",
       "        vertical-align: top;\n",
       "    }\n",
       "\n",
       "    .dataframe thead th {\n",
       "        text-align: right;\n",
       "    }\n",
       "</style>\n",
       "<table border=\"1\" class=\"dataframe\">\n",
       "  <thead>\n",
       "    <tr style=\"text-align: right;\">\n",
       "      <th></th>\n",
       "      <th>0</th>\n",
       "      <th>1</th>\n",
       "      <th>2</th>\n",
       "      <th>3</th>\n",
       "      <th>4</th>\n",
       "      <th>5</th>\n",
       "      <th>6</th>\n",
       "      <th>7</th>\n",
       "      <th>8</th>\n",
       "      <th>9</th>\n",
       "      <th>...</th>\n",
       "      <th>26085</th>\n",
       "      <th>26086</th>\n",
       "      <th>26087</th>\n",
       "      <th>26088</th>\n",
       "      <th>26089</th>\n",
       "      <th>26090</th>\n",
       "      <th>26091</th>\n",
       "      <th>26092</th>\n",
       "      <th>26093</th>\n",
       "      <th>y</th>\n",
       "    </tr>\n",
       "  </thead>\n",
       "  <tbody>\n",
       "    <tr>\n",
       "      <th>0</th>\n",
       "      <td>-0.523163</td>\n",
       "      <td>-0.523163</td>\n",
       "      <td>-0.523163</td>\n",
       "      <td>-0.523163</td>\n",
       "      <td>-0.523163</td>\n",
       "      <td>-0.523163</td>\n",
       "      <td>-0.523163</td>\n",
       "      <td>-0.523163</td>\n",
       "      <td>-0.523163</td>\n",
       "      <td>-0.523163</td>\n",
       "      <td>...</td>\n",
       "      <td>0.107225</td>\n",
       "      <td>0.946796</td>\n",
       "      <td>1.244745</td>\n",
       "      <td>-0.238482</td>\n",
       "      <td>0.735332</td>\n",
       "      <td>-0.360789</td>\n",
       "      <td>0.233145</td>\n",
       "      <td>-0.310503</td>\n",
       "      <td>-0.811940</td>\n",
       "      <td>0</td>\n",
       "    </tr>\n",
       "    <tr>\n",
       "      <th>1</th>\n",
       "      <td>-0.233295</td>\n",
       "      <td>-0.233295</td>\n",
       "      <td>-0.233295</td>\n",
       "      <td>-0.233295</td>\n",
       "      <td>-0.233295</td>\n",
       "      <td>-0.233295</td>\n",
       "      <td>-0.233295</td>\n",
       "      <td>-0.233295</td>\n",
       "      <td>-0.233295</td>\n",
       "      <td>-0.233295</td>\n",
       "      <td>...</td>\n",
       "      <td>-0.093206</td>\n",
       "      <td>0.323596</td>\n",
       "      <td>0.753448</td>\n",
       "      <td>1.486041</td>\n",
       "      <td>-0.715673</td>\n",
       "      <td>0.053541</td>\n",
       "      <td>-0.570047</td>\n",
       "      <td>0.106635</td>\n",
       "      <td>-0.864980</td>\n",
       "      <td>0</td>\n",
       "    </tr>\n",
       "    <tr>\n",
       "      <th>2</th>\n",
       "      <td>-0.668243</td>\n",
       "      <td>-0.668243</td>\n",
       "      <td>-0.668243</td>\n",
       "      <td>-0.668243</td>\n",
       "      <td>-0.668243</td>\n",
       "      <td>-0.668243</td>\n",
       "      <td>-0.668243</td>\n",
       "      <td>-0.668243</td>\n",
       "      <td>-0.668243</td>\n",
       "      <td>-0.668243</td>\n",
       "      <td>...</td>\n",
       "      <td>1.042499</td>\n",
       "      <td>0.820289</td>\n",
       "      <td>-0.676087</td>\n",
       "      <td>0.413422</td>\n",
       "      <td>-1.037367</td>\n",
       "      <td>-0.375897</td>\n",
       "      <td>0.183390</td>\n",
       "      <td>0.019250</td>\n",
       "      <td>-0.309738</td>\n",
       "      <td>0</td>\n",
       "    </tr>\n",
       "    <tr>\n",
       "      <th>3</th>\n",
       "      <td>-1.929221</td>\n",
       "      <td>-1.929221</td>\n",
       "      <td>-1.929221</td>\n",
       "      <td>-1.929221</td>\n",
       "      <td>-1.929221</td>\n",
       "      <td>-1.929221</td>\n",
       "      <td>-1.929221</td>\n",
       "      <td>-1.929221</td>\n",
       "      <td>-1.929221</td>\n",
       "      <td>-1.929221</td>\n",
       "      <td>...</td>\n",
       "      <td>1.440989</td>\n",
       "      <td>0.739403</td>\n",
       "      <td>-0.680702</td>\n",
       "      <td>0.789668</td>\n",
       "      <td>-0.079546</td>\n",
       "      <td>-0.074477</td>\n",
       "      <td>-0.363443</td>\n",
       "      <td>0.044287</td>\n",
       "      <td>-0.399333</td>\n",
       "      <td>0</td>\n",
       "    </tr>\n",
       "    <tr>\n",
       "      <th>4</th>\n",
       "      <td>1.069856</td>\n",
       "      <td>1.069856</td>\n",
       "      <td>1.069856</td>\n",
       "      <td>1.069856</td>\n",
       "      <td>1.069856</td>\n",
       "      <td>1.069856</td>\n",
       "      <td>1.069856</td>\n",
       "      <td>1.069856</td>\n",
       "      <td>1.069856</td>\n",
       "      <td>1.069856</td>\n",
       "      <td>...</td>\n",
       "      <td>-0.075358</td>\n",
       "      <td>-0.869696</td>\n",
       "      <td>-0.126601</td>\n",
       "      <td>-0.016079</td>\n",
       "      <td>-0.637967</td>\n",
       "      <td>-0.297226</td>\n",
       "      <td>-0.488207</td>\n",
       "      <td>1.142189</td>\n",
       "      <td>-0.694951</td>\n",
       "      <td>0</td>\n",
       "    </tr>\n",
       "  </tbody>\n",
       "</table>\n",
       "<p>5 rows × 52189 columns</p>\n",
       "</div>"
      ],
      "text/plain": [
       "          0         1         2         3         4         5         6  \\\n",
       "0 -0.523163 -0.523163 -0.523163 -0.523163 -0.523163 -0.523163 -0.523163   \n",
       "1 -0.233295 -0.233295 -0.233295 -0.233295 -0.233295 -0.233295 -0.233295   \n",
       "2 -0.668243 -0.668243 -0.668243 -0.668243 -0.668243 -0.668243 -0.668243   \n",
       "3 -1.929221 -1.929221 -1.929221 -1.929221 -1.929221 -1.929221 -1.929221   \n",
       "4  1.069856  1.069856  1.069856  1.069856  1.069856  1.069856  1.069856   \n",
       "\n",
       "          7         8         9 ...     26085     26086     26087     26088  \\\n",
       "0 -0.523163 -0.523163 -0.523163 ...  0.107225  0.946796  1.244745 -0.238482   \n",
       "1 -0.233295 -0.233295 -0.233295 ... -0.093206  0.323596  0.753448  1.486041   \n",
       "2 -0.668243 -0.668243 -0.668243 ...  1.042499  0.820289 -0.676087  0.413422   \n",
       "3 -1.929221 -1.929221 -1.929221 ...  1.440989  0.739403 -0.680702  0.789668   \n",
       "4  1.069856  1.069856  1.069856 ... -0.075358 -0.869696 -0.126601 -0.016079   \n",
       "\n",
       "      26089     26090     26091     26092     26093  y  \n",
       "0  0.735332 -0.360789  0.233145 -0.310503 -0.811940  0  \n",
       "1 -0.715673  0.053541 -0.570047  0.106635 -0.864980  0  \n",
       "2 -1.037367 -0.375897  0.183390  0.019250 -0.309738  0  \n",
       "3 -0.079546 -0.074477 -0.363443  0.044287 -0.399333  0  \n",
       "4 -0.637967 -0.297226 -0.488207  1.142189 -0.694951  0  \n",
       "\n",
       "[5 rows x 52189 columns]"
      ]
     },
     "execution_count": 96,
     "metadata": {},
     "output_type": "execute_result"
    }
   ],
   "source": [
    "combined.head()"
   ]
  },
  {
   "cell_type": "code",
   "execution_count": 94,
   "metadata": {},
   "outputs": [
    {
     "data": {
      "text/html": [
       "<div>\n",
       "<style scoped>\n",
       "    .dataframe tbody tr th:only-of-type {\n",
       "        vertical-align: middle;\n",
       "    }\n",
       "\n",
       "    .dataframe tbody tr th {\n",
       "        vertical-align: top;\n",
       "    }\n",
       "\n",
       "    .dataframe thead th {\n",
       "        text-align: right;\n",
       "    }\n",
       "</style>\n",
       "<table border=\"1\" class=\"dataframe\">\n",
       "  <thead>\n",
       "    <tr style=\"text-align: right;\">\n",
       "      <th></th>\n",
       "      <th>6099</th>\n",
       "      <th>6099</th>\n",
       "      <th>10497</th>\n",
       "      <th>10497</th>\n",
       "      <th>12996</th>\n",
       "      <th>12996</th>\n",
       "      <th>11405</th>\n",
       "      <th>11405</th>\n",
       "      <th>18427</th>\n",
       "      <th>18427</th>\n",
       "    </tr>\n",
       "  </thead>\n",
       "  <tbody>\n",
       "    <tr>\n",
       "      <th>count</th>\n",
       "      <td>6.680000e+02</td>\n",
       "      <td>6.680000e+02</td>\n",
       "      <td>6.680000e+02</td>\n",
       "      <td>6.680000e+02</td>\n",
       "      <td>6.680000e+02</td>\n",
       "      <td>6.680000e+02</td>\n",
       "      <td>6.680000e+02</td>\n",
       "      <td>6.680000e+02</td>\n",
       "      <td>6.680000e+02</td>\n",
       "      <td>6.680000e+02</td>\n",
       "    </tr>\n",
       "    <tr>\n",
       "      <th>mean</th>\n",
       "      <td>-6.355528e-16</td>\n",
       "      <td>1.645806e-16</td>\n",
       "      <td>-3.024859e-16</td>\n",
       "      <td>-1.225733e-18</td>\n",
       "      <td>3.556703e-17</td>\n",
       "      <td>-1.246508e-18</td>\n",
       "      <td>-2.504650e-16</td>\n",
       "      <td>2.002556e-15</td>\n",
       "      <td>1.329608e-18</td>\n",
       "      <td>-2.953974e-15</td>\n",
       "    </tr>\n",
       "    <tr>\n",
       "      <th>std</th>\n",
       "      <td>1.000000e+00</td>\n",
       "      <td>1.000000e+00</td>\n",
       "      <td>1.000000e+00</td>\n",
       "      <td>1.000000e+00</td>\n",
       "      <td>1.000000e+00</td>\n",
       "      <td>1.000000e+00</td>\n",
       "      <td>1.000000e+00</td>\n",
       "      <td>1.000000e+00</td>\n",
       "      <td>1.000000e+00</td>\n",
       "      <td>1.000000e+00</td>\n",
       "    </tr>\n",
       "    <tr>\n",
       "      <th>min</th>\n",
       "      <td>-3.566857e+00</td>\n",
       "      <td>-3.170550e-01</td>\n",
       "      <td>-3.165486e+00</td>\n",
       "      <td>-4.501642e-02</td>\n",
       "      <td>-5.241609e+00</td>\n",
       "      <td>-1.277855e+00</td>\n",
       "      <td>-3.690970e+00</td>\n",
       "      <td>-1.008753e+00</td>\n",
       "      <td>-2.202390e+00</td>\n",
       "      <td>-1.689011e+00</td>\n",
       "    </tr>\n",
       "    <tr>\n",
       "      <th>25%</th>\n",
       "      <td>-6.747563e-01</td>\n",
       "      <td>-2.839991e-01</td>\n",
       "      <td>-5.754377e-01</td>\n",
       "      <td>-4.501642e-02</td>\n",
       "      <td>-6.176092e-01</td>\n",
       "      <td>-6.447860e-01</td>\n",
       "      <td>-6.603163e-01</td>\n",
       "      <td>-4.686475e-01</td>\n",
       "      <td>-6.203517e-01</td>\n",
       "      <td>-7.496393e-01</td>\n",
       "    </tr>\n",
       "    <tr>\n",
       "      <th>50%</th>\n",
       "      <td>6.686310e-02</td>\n",
       "      <td>-2.382796e-01</td>\n",
       "      <td>-6.178360e-02</td>\n",
       "      <td>-4.501642e-02</td>\n",
       "      <td>5.319860e-02</td>\n",
       "      <td>-2.476919e-01</td>\n",
       "      <td>-7.631572e-02</td>\n",
       "      <td>-1.656951e-01</td>\n",
       "      <td>-8.095864e-02</td>\n",
       "      <td>-1.708477e-01</td>\n",
       "    </tr>\n",
       "    <tr>\n",
       "      <th>75%</th>\n",
       "      <td>6.105370e-01</td>\n",
       "      <td>-1.291747e-01</td>\n",
       "      <td>6.873569e-01</td>\n",
       "      <td>-4.501642e-02</td>\n",
       "      <td>5.747659e-01</td>\n",
       "      <td>3.259826e-01</td>\n",
       "      <td>5.966636e-01</td>\n",
       "      <td>2.199472e-01</td>\n",
       "      <td>5.451191e-01</td>\n",
       "      <td>5.218052e-01</td>\n",
       "    </tr>\n",
       "    <tr>\n",
       "      <th>max</th>\n",
       "      <td>4.108496e+00</td>\n",
       "      <td>1.625288e+01</td>\n",
       "      <td>3.986695e+00</td>\n",
       "      <td>2.576135e+01</td>\n",
       "      <td>3.342930e+00</td>\n",
       "      <td>8.256115e+00</td>\n",
       "      <td>4.310587e+00</td>\n",
       "      <td>1.723828e+01</td>\n",
       "      <td>4.068646e+00</td>\n",
       "      <td>6.306747e+00</td>\n",
       "    </tr>\n",
       "  </tbody>\n",
       "</table>\n",
       "</div>"
      ],
      "text/plain": [
       "              6099          6099          10497         10497         12996  \\\n",
       "count  6.680000e+02  6.680000e+02  6.680000e+02  6.680000e+02  6.680000e+02   \n",
       "mean  -6.355528e-16  1.645806e-16 -3.024859e-16 -1.225733e-18  3.556703e-17   \n",
       "std    1.000000e+00  1.000000e+00  1.000000e+00  1.000000e+00  1.000000e+00   \n",
       "min   -3.566857e+00 -3.170550e-01 -3.165486e+00 -4.501642e-02 -5.241609e+00   \n",
       "25%   -6.747563e-01 -2.839991e-01 -5.754377e-01 -4.501642e-02 -6.176092e-01   \n",
       "50%    6.686310e-02 -2.382796e-01 -6.178360e-02 -4.501642e-02  5.319860e-02   \n",
       "75%    6.105370e-01 -1.291747e-01  6.873569e-01 -4.501642e-02  5.747659e-01   \n",
       "max    4.108496e+00  1.625288e+01  3.986695e+00  2.576135e+01  3.342930e+00   \n",
       "\n",
       "              12996         11405         11405         18427         18427  \n",
       "count  6.680000e+02  6.680000e+02  6.680000e+02  6.680000e+02  6.680000e+02  \n",
       "mean  -1.246508e-18 -2.504650e-16  2.002556e-15  1.329608e-18 -2.953974e-15  \n",
       "std    1.000000e+00  1.000000e+00  1.000000e+00  1.000000e+00  1.000000e+00  \n",
       "min   -1.277855e+00 -3.690970e+00 -1.008753e+00 -2.202390e+00 -1.689011e+00  \n",
       "25%   -6.447860e-01 -6.603163e-01 -4.686475e-01 -6.203517e-01 -7.496393e-01  \n",
       "50%   -2.476919e-01 -7.631572e-02 -1.656951e-01 -8.095864e-02 -1.708477e-01  \n",
       "75%    3.259826e-01  5.966636e-01  2.199472e-01  5.451191e-01  5.218052e-01  \n",
       "max    8.256115e+00  4.310587e+00  1.723828e+01  4.068646e+00  6.306747e+00  "
      ]
     },
     "execution_count": 94,
     "metadata": {},
     "output_type": "execute_result"
    }
   ],
   "source": [
    "#Visualise\n",
    "combined[np.random.choice(combined.columns.values, size = 5, replace = False)].describe()"
   ]
  },
  {
   "cell_type": "code",
   "execution_count": 111,
   "metadata": {},
   "outputs": [
    {
     "data": {
      "text/plain": [
       "0.844311377245509"
      ]
     },
     "execution_count": 111,
     "metadata": {},
     "output_type": "execute_result"
    }
   ],
   "source": [
    "#Split data into training and test sets\n",
    "x_combined_train, x_combined_test, y_combined_train, y_combined_test = train_test_split(\n",
    "    x_combined, y_combined.values.flatten(), test_size = 0.25, random_state = 0)\n",
    "\n",
    "Combined_regression = LogisticRegression(penalty = 'l1',solver = 'liblinear')\n",
    "Combined_regression.fit(x_combined_train, y_combined_train)\n",
    "Combined_regression.score(x_combined_test, y_combined_test)"
   ]
  },
  {
   "cell_type": "markdown",
   "metadata": {},
   "source": [
    "#### Grid Search"
   ]
  },
  {
   "cell_type": "code",
   "execution_count": 113,
   "metadata": {},
   "outputs": [],
   "source": [
    "from sklearn.model_selection import GridSearchCV"
   ]
  },
  {
   "cell_type": "code",
   "execution_count": 114,
   "metadata": {},
   "outputs": [],
   "source": [
    "parameters = {'C': [0.001, 0.01, 1, 10, 100, 1000]}\n",
    "clf = GridSearchCV( estimator = Combined_regression, param_grid = parameters)"
   ]
  },
  {
   "cell_type": "code",
   "execution_count": 115,
   "metadata": {},
   "outputs": [
    {
     "name": "stderr",
     "output_type": "stream",
     "text": [
      "/Users/a.su/anaconda3/lib/python3.6/site-packages/sklearn/model_selection/_split.py:1943: FutureWarning: You should specify a value for 'cv' instead of relying on the default value. The default value will change from 3 to 5 in version 0.22.\n",
      "  warnings.warn(CV_WARNING, FutureWarning)\n"
     ]
    },
    {
     "data": {
      "text/plain": [
       "GridSearchCV(cv='warn', error_score='raise-deprecating',\n",
       "       estimator=LogisticRegression(C=1.0, class_weight=None, dual=False, fit_intercept=True,\n",
       "          intercept_scaling=1, max_iter=100, multi_class='warn',\n",
       "          n_jobs=None, penalty='l1', random_state=None, solver='liblinear',\n",
       "          tol=0.0001, verbose=0, warm_start=False),\n",
       "       fit_params=None, iid='warn', n_jobs=None,\n",
       "       param_grid={'C': [0.001, 0.01, 1, 10, 100, 1000]},\n",
       "       pre_dispatch='2*n_jobs', refit=True, return_train_score='warn',\n",
       "       scoring=None, verbose=0)"
      ]
     },
     "execution_count": 115,
     "metadata": {},
     "output_type": "execute_result"
    }
   ],
   "source": [
    "clf.fit(x_combined_train, y_combined_train)"
   ]
  },
  {
   "cell_type": "code",
   "execution_count": 116,
   "metadata": {},
   "outputs": [
    {
     "data": {
      "text/plain": [
       "0.810379241516966"
      ]
     },
     "execution_count": 116,
     "metadata": {},
     "output_type": "execute_result"
    }
   ],
   "source": [
    "clf.best_score_"
   ]
  },
  {
   "cell_type": "code",
   "execution_count": 117,
   "metadata": {},
   "outputs": [
    {
     "data": {
      "text/plain": [
       "0.8502994011976048"
      ]
     },
     "execution_count": 117,
     "metadata": {},
     "output_type": "execute_result"
    }
   ],
   "source": [
    "clf.score(x_combined_test, y_combined_test)"
   ]
  },
  {
   "cell_type": "code",
   "execution_count": 118,
   "metadata": {},
   "outputs": [
    {
     "data": {
      "text/plain": [
       "{'C': 1}"
      ]
     },
     "execution_count": 118,
     "metadata": {},
     "output_type": "execute_result"
    }
   ],
   "source": [
    "clf.best_params_"
   ]
  },
  {
   "cell_type": "markdown",
   "metadata": {},
   "source": [
    "#### Elastic Net"
   ]
  },
  {
   "cell_type": "code",
   "execution_count": 119,
   "metadata": {},
   "outputs": [],
   "source": [
    "from sklearn.linear_model import SGDClassifier"
   ]
  },
  {
   "cell_type": "code",
   "execution_count": 137,
   "metadata": {},
   "outputs": [],
   "source": [
    "SGD = SGDClassifier(alpha = 0.1, epsilon = 0.01, loss = 'log', max_iter = 100, penalty = 'elasticnet')"
   ]
  },
  {
   "cell_type": "code",
   "execution_count": 138,
   "metadata": {},
   "outputs": [
    {
     "data": {
      "text/plain": [
       "SGDClassifier(alpha=0.1, average=False, class_weight=None,\n",
       "       early_stopping=True, epsilon=0.01, eta0=0.0, fit_intercept=True,\n",
       "       l1_ratio=0.15, learning_rate='optimal', loss='log', max_iter=100,\n",
       "       n_iter=None, n_iter_no_change=5, n_jobs=None, penalty='elasticnet',\n",
       "       power_t=0.5, random_state=None, shuffle=True, tol=None,\n",
       "       validation_fraction=0.25, verbose=0, warm_start=False)"
      ]
     },
     "execution_count": 138,
     "metadata": {},
     "output_type": "execute_result"
    }
   ],
   "source": [
    "SGD.fit(x_combined_train, y_combined_train)"
   ]
  },
  {
   "cell_type": "code",
   "execution_count": 139,
   "metadata": {},
   "outputs": [
    {
     "data": {
      "text/plain": [
       "0.7664670658682635"
      ]
     },
     "execution_count": 139,
     "metadata": {},
     "output_type": "execute_result"
    }
   ],
   "source": [
    "SGD.score(x_combined_test, y_combined_test)"
   ]
  },
  {
   "cell_type": "code",
   "execution_count": 143,
   "metadata": {},
   "outputs": [],
   "source": [
    "SGD_parameters = {'alpha': [0.001, 0.001, 0.01, 0.1, 1, 10, 100, 1000, 10000], 'penalty':['elasticnet'], \n",
    "                  'epsilon': [0.001, 0.01, 0.1, 1, 10]}"
   ]
  },
  {
   "cell_type": "code",
   "execution_count": 144,
   "metadata": {},
   "outputs": [],
   "source": [
    "SGD_search = GridSearchCV(estimator = SGD, param_grid= SGD_parameters)"
   ]
  },
  {
   "cell_type": "code",
   "execution_count": 145,
   "metadata": {},
   "outputs": [
    {
     "name": "stderr",
     "output_type": "stream",
     "text": [
      "/Users/a.su/anaconda3/lib/python3.6/site-packages/sklearn/model_selection/_split.py:1943: FutureWarning: You should specify a value for 'cv' instead of relying on the default value. The default value will change from 3 to 5 in version 0.22.\n",
      "  warnings.warn(CV_WARNING, FutureWarning)\n",
      "/Users/a.su/anaconda3/lib/python3.6/site-packages/sklearn/model_selection/_search.py:841: DeprecationWarning: The default of the `iid` parameter will change from True to False in version 0.22 and will be removed in 0.24. This will change numeric results when test-set sizes are unequal.\n",
      "  DeprecationWarning)\n"
     ]
    },
    {
     "data": {
      "text/plain": [
       "GridSearchCV(cv='warn', error_score='raise-deprecating',\n",
       "       estimator=SGDClassifier(alpha=0.0001, average=False, class_weight=None,\n",
       "       early_stopping=False, epsilon=0.1, eta0=0.0, fit_intercept=True,\n",
       "       l1_ratio=0.15, learning_rate='optimal', loss='log', max_iter=1000,\n",
       "       n_iter=None, n_iter_no_change=5, n_jobs=None, penalty='l2',\n",
       "       power_t=0.5, random_state=None, shuffle=True, tol=0.001,\n",
       "       validation_fraction=0.1, verbose=0, warm_start=False),\n",
       "       fit_params=None, iid='warn', n_jobs=None,\n",
       "       param_grid={'alpha': [0.001, 0.001, 0.01, 0.1, 1, 10, 100, 1000, 10000], 'penalty': ['elasticnet'], 'epsilon': [0.001, 0.01, 0.1, 1, 10]},\n",
       "       pre_dispatch='2*n_jobs', refit=True, return_train_score='warn',\n",
       "       scoring=None, verbose=0)"
      ]
     },
     "execution_count": 145,
     "metadata": {},
     "output_type": "execute_result"
    }
   ],
   "source": [
    "SGD_search.fit(x_combined_train, y_combined_train)"
   ]
  },
  {
   "cell_type": "code",
   "execution_count": 146,
   "metadata": {},
   "outputs": [
    {
     "data": {
      "text/plain": [
       "0.7941176470588235"
      ]
     },
     "execution_count": 146,
     "metadata": {},
     "output_type": "execute_result"
    }
   ],
   "source": [
    "SGD_search.score(x_combined_test, y_combined_test)"
   ]
  },
  {
   "cell_type": "code",
   "execution_count": 147,
   "metadata": {},
   "outputs": [
    {
     "data": {
      "text/plain": [
       "{'alpha': 0.1, 'epsilon': 0.01, 'penalty': 'elasticnet'}"
      ]
     },
     "execution_count": 147,
     "metadata": {},
     "output_type": "execute_result"
    }
   ],
   "source": [
    "SGD_search.best_params_"
   ]
  }
 ],
 "metadata": {
  "kernelspec": {
   "display_name": "Python 3",
   "language": "python",
   "name": "python3"
  },
  "language_info": {
   "codemirror_mode": {
    "name": "ipython",
    "version": 3
   },
   "file_extension": ".py",
   "mimetype": "text/x-python",
   "name": "python",
   "nbconvert_exporter": "python",
   "pygments_lexer": "ipython3",
   "version": "3.6.6"
  }
 },
 "nbformat": 4,
 "nbformat_minor": 2
}

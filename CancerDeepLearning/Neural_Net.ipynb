{
 "cells": [
  {
   "cell_type": "markdown",
   "metadata": {},
   "source": [
    "## Neural Net for combined Copy Number Variation and RNAseq"
   ]
  },
  {
   "cell_type": "code",
   "execution_count": 1,
   "metadata": {},
   "outputs": [],
   "source": [
    "import pandas as pd\n",
    "import numpy as np\n",
    "from sklearn.impute import SimpleImputer"
   ]
  },
  {
   "cell_type": "markdown",
   "metadata": {},
   "source": [
    "### Import and Process Data"
   ]
  },
  {
   "cell_type": "code",
   "execution_count": 2,
   "metadata": {},
   "outputs": [
    {
     "name": "stderr",
     "output_type": "stream",
     "text": [
      "/Users/a.su/anaconda3/lib/python3.6/site-packages/IPython/core/interactiveshell.py:3020: DtypeWarning: Columns (0) have mixed types. Specify dtype option on import or set low_memory=False.\n",
      "  interactivity=interactivity, compiler=compiler, result=result)\n"
     ]
    }
   ],
   "source": [
    "working_directory = '/Users/a.su/Documents/MultiClassCancer_RNAseq_CNV_lncRNA/'\n",
    "\n",
    "#Import Data\n",
    "y = pd.read_table(working_directory + 'CancerTypes_y_BinaryClass.txt', sep = '\\t', header = None)\n",
    "x_cnv = pd.read_table(working_directory + 'CNV_processed_multiClass.txt', sep = '\\t', header = 0)\n",
    "x_rna = pd.read_table(working_directory + 'RNAseq_processed_multiClass.txt', sep = '\\t', header = 0)\n",
    "x_lnc = pd.read_table(working_directory + 'lncRNA_processed_multiClass.txt', sep = '\\t', header = 0)"
   ]
  },
  {
   "cell_type": "code",
   "execution_count": 3,
   "metadata": {},
   "outputs": [
    {
     "name": "stdout",
     "output_type": "stream",
     "text": [
      "x_cnv shape is:(668, 26374)  x_rna shape is:(668, 26094)  x_lnc shape is:(668, 21770)\n",
      "y shape is: (668, 1)\n"
     ]
    }
   ],
   "source": [
    "# Remove GeneID Column\n",
    "x_cnv = x_cnv.drop('GeneID', axis = 1)\n",
    "x_rna = x_rna.drop('GeneID', axis = 1)\n",
    "x_lnc = x_lnc.drop('GeneID', axis = 1)\n",
    "\n",
    "# Transpose\n",
    "x_cnv = x_cnv.transpose()\n",
    "x_rna = x_rna.transpose()\n",
    "x_lnc = x_lnc.transpose()\n",
    "print('x_cnv shape is:{0}  x_rna shape is:{1}  x_lnc shape is:{2}'.format(x_cnv.shape, x_rna.shape, x_lnc.shape))\n",
    "print('y shape is:', y.shape)"
   ]
  },
  {
   "cell_type": "code",
   "execution_count": 4,
   "metadata": {},
   "outputs": [
    {
     "name": "stdout",
     "output_type": "stream",
     "text": [
      "Dropped 0 Columns from x_cnv\n",
      "Dropped 0 Columns from x_rna\n",
      "Dropped 0 Columns from x_lnc\n"
     ]
    }
   ],
   "source": [
    "drop_threshold = 0.5*len(x_cnv.index)\n",
    "\n",
    "#DropNa from columns with at least 50% NaN\n",
    "x_cnv_dropped = x_cnv.dropna(thresh = drop_threshold)\n",
    "x_rna_dropped = x_rna.dropna(thresh = drop_threshold)\n",
    "x_lnc_dropped = x_lnc.dropna(thresh = drop_threshold)\n",
    "\n",
    "#Columns dropped\n",
    "def print_dropped_columns(df, df_dropped, df_name):\n",
    "    print('Dropped {0} Columns from {1}'.format(len(df.columns) - len(df_dropped.columns), df_name))\n",
    "\n",
    "print_dropped_columns(x_cnv, x_cnv_dropped, 'x_cnv')\n",
    "print_dropped_columns(x_rna, x_rna_dropped, 'x_rna')\n",
    "print_dropped_columns(x_lnc, x_lnc_dropped, 'x_lnc')"
   ]
  },
  {
   "cell_type": "code",
   "execution_count": 5,
   "metadata": {},
   "outputs": [
    {
     "name": "stdout",
     "output_type": "stream",
     "text": [
      "False\n",
      "False\n",
      "False\n"
     ]
    }
   ],
   "source": [
    "#Impute \n",
    "impute_median = SimpleImputer(strategy = 'median')\n",
    "x_cnv_imputed = pd.DataFrame(impute_median.fit_transform(x_cnv_dropped))\n",
    "x_rna_imputed = pd.DataFrame(impute_median.fit_transform(x_rna_dropped))\n",
    "x_lnc_imputed = pd.DataFrame(impute_median.fit_transform(x_lnc_dropped))\n",
    "\n",
    "#Check for NaN values\n",
    "print(np.isnan(x_cnv_imputed).all().any())\n",
    "print(np.isnan(x_rna_imputed).all().any())\n",
    "print(np.isnan(x_lnc_imputed).all().any())"
   ]
  },
  {
   "cell_type": "code",
   "execution_count": 6,
   "metadata": {},
   "outputs": [
    {
     "name": "stdout",
     "output_type": "stream",
     "text": [
      "CNV: 0  RNA: 111  lnc: 374\n"
     ]
    }
   ],
   "source": [
    "def count_all_zeros (df, _axis_ = 0):\n",
    "    return len(df.columns) - np.count_nonzero(df.sum(axis = _axis_), axis = _axis_)\n",
    "\n",
    "#Count number of columns with all zeros\n",
    "print('CNV: {0}  RNA: {1}  lnc: {2}'.format(count_all_zeros(x_cnv_imputed, 0), count_all_zeros(x_rna_imputed, 0), count_all_zeros(x_lnc_imputed, 0)))"
   ]
  },
  {
   "cell_type": "code",
   "execution_count": 7,
   "metadata": {},
   "outputs": [
    {
     "name": "stdout",
     "output_type": "stream",
     "text": [
      "Dropped 0 Columns from x_cnv_imputed\n",
      "Dropped 111 Columns from x_rna_imputed\n",
      "Dropped 374 Columns from x_lnc_imputed\n"
     ]
    }
   ],
   "source": [
    "#Delete columns with all zeros\n",
    "x_cnv_nozero = x_cnv_imputed.loc[:, (x_cnv_imputed != 0).any(axis = 0)]\n",
    "x_rna_nozero = x_rna_imputed.loc[:, (x_rna_imputed != 0).any(axis = 0)]\n",
    "x_lnc_nozero = x_lnc_imputed.loc[:, (x_lnc_imputed != 0).any(axis = 0)]\n",
    "\n",
    "#Count number of column deletions\n",
    "print_dropped_columns(x_cnv_imputed, x_cnv_nozero, 'x_cnv_imputed')\n",
    "print_dropped_columns(x_rna_imputed, x_rna_nozero, 'x_rna_imputed')\n",
    "print_dropped_columns(x_lnc_imputed, x_lnc_nozero, 'x_lnc_imputed')"
   ]
  },
  {
   "cell_type": "code",
   "execution_count": 8,
   "metadata": {},
   "outputs": [
    {
     "name": "stdout",
     "output_type": "stream",
     "text": [
      "CNV: 0  RNA: 0  lnc: 0\n"
     ]
    }
   ],
   "source": [
    "#Count number of columns with all zeros\n",
    "print('CNV: {0}  RNA: {1}  lnc: {2}'.format(count_all_zeros(x_cnv_nozero, 0), count_all_zeros(x_rna_nozero, 0), count_all_zeros(x_lnc_nozero, 0)))"
   ]
  },
  {
   "cell_type": "code",
   "execution_count": 9,
   "metadata": {},
   "outputs": [],
   "source": [
    "#Scale data\n",
    "zscore = lambda x: (x-x.mean())/ x.std()\n",
    "\n",
    "x_rna_processed, x_cnv_processed, x_lnc_processed = x_rna_nozero.transform(zscore), x_cnv_nozero.transform(zscore), x_lnc_nozero.transform(zscore)"
   ]
  },
  {
   "cell_type": "code",
   "execution_count": 10,
   "metadata": {},
   "outputs": [
    {
     "data": {
      "text/html": [
       "<div>\n",
       "<style scoped>\n",
       "    .dataframe tbody tr th:only-of-type {\n",
       "        vertical-align: middle;\n",
       "    }\n",
       "\n",
       "    .dataframe tbody tr th {\n",
       "        vertical-align: top;\n",
       "    }\n",
       "\n",
       "    .dataframe thead th {\n",
       "        text-align: right;\n",
       "    }\n",
       "</style>\n",
       "<table border=\"1\" class=\"dataframe\">\n",
       "  <thead>\n",
       "    <tr style=\"text-align: right;\">\n",
       "      <th></th>\n",
       "      <th>14672</th>\n",
       "      <th>18052</th>\n",
       "      <th>20580</th>\n",
       "      <th>18549</th>\n",
       "      <th>2719</th>\n",
       "      <th>18332</th>\n",
       "      <th>9091</th>\n",
       "      <th>4592</th>\n",
       "      <th>12136</th>\n",
       "      <th>18279</th>\n",
       "    </tr>\n",
       "  </thead>\n",
       "  <tbody>\n",
       "    <tr>\n",
       "      <th>count</th>\n",
       "      <td>6.680000e+02</td>\n",
       "      <td>6.680000e+02</td>\n",
       "      <td>6.680000e+02</td>\n",
       "      <td>6.680000e+02</td>\n",
       "      <td>6.680000e+02</td>\n",
       "      <td>6.680000e+02</td>\n",
       "      <td>6.680000e+02</td>\n",
       "      <td>6.680000e+02</td>\n",
       "      <td>6.680000e+02</td>\n",
       "      <td>6.680000e+02</td>\n",
       "    </tr>\n",
       "    <tr>\n",
       "      <th>mean</th>\n",
       "      <td>1.020474e-16</td>\n",
       "      <td>2.227094e-16</td>\n",
       "      <td>7.813111e-16</td>\n",
       "      <td>4.175801e-17</td>\n",
       "      <td>-3.417094e-16</td>\n",
       "      <td>1.573259e-15</td>\n",
       "      <td>-4.356130e-16</td>\n",
       "      <td>3.639803e-16</td>\n",
       "      <td>-2.451466e-17</td>\n",
       "      <td>-1.349802e-15</td>\n",
       "    </tr>\n",
       "    <tr>\n",
       "      <th>std</th>\n",
       "      <td>1.000000e+00</td>\n",
       "      <td>1.000000e+00</td>\n",
       "      <td>1.000000e+00</td>\n",
       "      <td>1.000000e+00</td>\n",
       "      <td>1.000000e+00</td>\n",
       "      <td>1.000000e+00</td>\n",
       "      <td>1.000000e+00</td>\n",
       "      <td>1.000000e+00</td>\n",
       "      <td>1.000000e+00</td>\n",
       "      <td>1.000000e+00</td>\n",
       "    </tr>\n",
       "    <tr>\n",
       "      <th>min</th>\n",
       "      <td>-1.201311e+00</td>\n",
       "      <td>-3.993460e-01</td>\n",
       "      <td>-1.771311e+00</td>\n",
       "      <td>-2.388145e-01</td>\n",
       "      <td>-8.691430e-02</td>\n",
       "      <td>-1.563346e+00</td>\n",
       "      <td>-1.092004e+00</td>\n",
       "      <td>-2.737612e-01</td>\n",
       "      <td>-3.173229e-01</td>\n",
       "      <td>-1.610544e+00</td>\n",
       "    </tr>\n",
       "    <tr>\n",
       "      <th>25%</th>\n",
       "      <td>-7.329339e-01</td>\n",
       "      <td>-3.993460e-01</td>\n",
       "      <td>-5.956098e-01</td>\n",
       "      <td>-2.388145e-01</td>\n",
       "      <td>-8.691430e-02</td>\n",
       "      <td>-6.293582e-01</td>\n",
       "      <td>-5.589228e-01</td>\n",
       "      <td>-2.737612e-01</td>\n",
       "      <td>-3.173229e-01</td>\n",
       "      <td>-6.851349e-01</td>\n",
       "    </tr>\n",
       "    <tr>\n",
       "      <th>50%</th>\n",
       "      <td>-2.384287e-01</td>\n",
       "      <td>-3.993460e-01</td>\n",
       "      <td>-1.781259e-01</td>\n",
       "      <td>-2.183968e-01</td>\n",
       "      <td>-8.691430e-02</td>\n",
       "      <td>-2.080033e-01</td>\n",
       "      <td>-2.098671e-01</td>\n",
       "      <td>-2.704880e-01</td>\n",
       "      <td>-2.789276e-01</td>\n",
       "      <td>-1.818797e-01</td>\n",
       "    </tr>\n",
       "    <tr>\n",
       "      <th>75%</th>\n",
       "      <td>4.419763e-01</td>\n",
       "      <td>-2.656665e-01</td>\n",
       "      <td>3.451873e-01</td>\n",
       "      <td>-1.292290e-01</td>\n",
       "      <td>-8.691430e-02</td>\n",
       "      <td>3.658430e-01</td>\n",
       "      <td>2.618646e-01</td>\n",
       "      <td>-6.177871e-02</td>\n",
       "      <td>-1.052099e-01</td>\n",
       "      <td>4.084009e-01</td>\n",
       "    </tr>\n",
       "    <tr>\n",
       "      <th>max</th>\n",
       "      <td>4.670687e+00</td>\n",
       "      <td>7.892324e+00</td>\n",
       "      <td>1.290248e+01</td>\n",
       "      <td>1.951892e+01</td>\n",
       "      <td>1.873396e+01</td>\n",
       "      <td>1.096673e+01</td>\n",
       "      <td>1.193053e+01</td>\n",
       "      <td>1.390330e+01</td>\n",
       "      <td>1.635716e+01</td>\n",
       "      <td>7.075243e+00</td>\n",
       "    </tr>\n",
       "  </tbody>\n",
       "</table>\n",
       "</div>"
      ],
      "text/plain": [
       "              14672         18052         20580         18549         2719   \\\n",
       "count  6.680000e+02  6.680000e+02  6.680000e+02  6.680000e+02  6.680000e+02   \n",
       "mean   1.020474e-16  2.227094e-16  7.813111e-16  4.175801e-17 -3.417094e-16   \n",
       "std    1.000000e+00  1.000000e+00  1.000000e+00  1.000000e+00  1.000000e+00   \n",
       "min   -1.201311e+00 -3.993460e-01 -1.771311e+00 -2.388145e-01 -8.691430e-02   \n",
       "25%   -7.329339e-01 -3.993460e-01 -5.956098e-01 -2.388145e-01 -8.691430e-02   \n",
       "50%   -2.384287e-01 -3.993460e-01 -1.781259e-01 -2.183968e-01 -8.691430e-02   \n",
       "75%    4.419763e-01 -2.656665e-01  3.451873e-01 -1.292290e-01 -8.691430e-02   \n",
       "max    4.670687e+00  7.892324e+00  1.290248e+01  1.951892e+01  1.873396e+01   \n",
       "\n",
       "              18332         9091          4592          12136         18279  \n",
       "count  6.680000e+02  6.680000e+02  6.680000e+02  6.680000e+02  6.680000e+02  \n",
       "mean   1.573259e-15 -4.356130e-16  3.639803e-16 -2.451466e-17 -1.349802e-15  \n",
       "std    1.000000e+00  1.000000e+00  1.000000e+00  1.000000e+00  1.000000e+00  \n",
       "min   -1.563346e+00 -1.092004e+00 -2.737612e-01 -3.173229e-01 -1.610544e+00  \n",
       "25%   -6.293582e-01 -5.589228e-01 -2.737612e-01 -3.173229e-01 -6.851349e-01  \n",
       "50%   -2.080033e-01 -2.098671e-01 -2.704880e-01 -2.789276e-01 -1.818797e-01  \n",
       "75%    3.658430e-01  2.618646e-01 -6.177871e-02 -1.052099e-01  4.084009e-01  \n",
       "max    1.096673e+01  1.193053e+01  1.390330e+01  1.635716e+01  7.075243e+00  "
      ]
     },
     "execution_count": 10,
     "metadata": {},
     "output_type": "execute_result"
    }
   ],
   "source": [
    "#Visualise\n",
    "x_rna_processed[np.random.choice(x_rna_processed.columns.values, size = 10, replace = False)].describe()"
   ]
  },
  {
   "cell_type": "code",
   "execution_count": 11,
   "metadata": {},
   "outputs": [
    {
     "data": {
      "text/html": [
       "<div>\n",
       "<style scoped>\n",
       "    .dataframe tbody tr th:only-of-type {\n",
       "        vertical-align: middle;\n",
       "    }\n",
       "\n",
       "    .dataframe tbody tr th {\n",
       "        vertical-align: top;\n",
       "    }\n",
       "\n",
       "    .dataframe thead th {\n",
       "        text-align: right;\n",
       "    }\n",
       "</style>\n",
       "<table border=\"1\" class=\"dataframe\">\n",
       "  <thead>\n",
       "    <tr style=\"text-align: right;\">\n",
       "      <th></th>\n",
       "      <th>21076</th>\n",
       "      <th>6210</th>\n",
       "      <th>20854</th>\n",
       "      <th>4698</th>\n",
       "      <th>1768</th>\n",
       "      <th>21843</th>\n",
       "      <th>24096</th>\n",
       "      <th>2005</th>\n",
       "      <th>21675</th>\n",
       "      <th>24633</th>\n",
       "    </tr>\n",
       "  </thead>\n",
       "  <tbody>\n",
       "    <tr>\n",
       "      <th>count</th>\n",
       "      <td>6.680000e+02</td>\n",
       "      <td>6.680000e+02</td>\n",
       "      <td>6.680000e+02</td>\n",
       "      <td>6.680000e+02</td>\n",
       "      <td>6.680000e+02</td>\n",
       "      <td>6.680000e+02</td>\n",
       "      <td>6.680000e+02</td>\n",
       "      <td>6.680000e+02</td>\n",
       "      <td>6.680000e+02</td>\n",
       "      <td>6.680000e+02</td>\n",
       "    </tr>\n",
       "    <tr>\n",
       "      <th>mean</th>\n",
       "      <td>-3.397149e-16</td>\n",
       "      <td>-4.219845e-16</td>\n",
       "      <td>-5.337547e-16</td>\n",
       "      <td>-1.089448e-15</td>\n",
       "      <td>3.806004e-17</td>\n",
       "      <td>-3.643127e-16</td>\n",
       "      <td>-3.897415e-16</td>\n",
       "      <td>-3.084692e-16</td>\n",
       "      <td>-1.062025e-16</td>\n",
       "      <td>3.689663e-17</td>\n",
       "    </tr>\n",
       "    <tr>\n",
       "      <th>std</th>\n",
       "      <td>1.000000e+00</td>\n",
       "      <td>1.000000e+00</td>\n",
       "      <td>1.000000e+00</td>\n",
       "      <td>1.000000e+00</td>\n",
       "      <td>1.000000e+00</td>\n",
       "      <td>1.000000e+00</td>\n",
       "      <td>1.000000e+00</td>\n",
       "      <td>1.000000e+00</td>\n",
       "      <td>1.000000e+00</td>\n",
       "      <td>1.000000e+00</td>\n",
       "    </tr>\n",
       "    <tr>\n",
       "      <th>min</th>\n",
       "      <td>-3.381398e+00</td>\n",
       "      <td>-3.090586e+00</td>\n",
       "      <td>-1.986745e+00</td>\n",
       "      <td>-3.135119e+00</td>\n",
       "      <td>-2.604649e+00</td>\n",
       "      <td>-3.044525e+00</td>\n",
       "      <td>-3.058483e+00</td>\n",
       "      <td>-3.393235e+00</td>\n",
       "      <td>-2.028328e+00</td>\n",
       "      <td>-2.295783e+00</td>\n",
       "    </tr>\n",
       "    <tr>\n",
       "      <th>25%</th>\n",
       "      <td>-6.243816e-01</td>\n",
       "      <td>-6.339691e-01</td>\n",
       "      <td>-6.182360e-01</td>\n",
       "      <td>-6.784284e-01</td>\n",
       "      <td>-6.442062e-01</td>\n",
       "      <td>-6.757195e-01</td>\n",
       "      <td>-7.266223e-01</td>\n",
       "      <td>-6.095486e-01</td>\n",
       "      <td>-6.352684e-01</td>\n",
       "      <td>-6.346993e-01</td>\n",
       "    </tr>\n",
       "    <tr>\n",
       "      <th>50%</th>\n",
       "      <td>-1.182303e-01</td>\n",
       "      <td>8.924184e-02</td>\n",
       "      <td>-1.392608e-01</td>\n",
       "      <td>1.646195e-01</td>\n",
       "      <td>-1.585160e-01</td>\n",
       "      <td>7.224287e-02</td>\n",
       "      <td>-5.450844e-02</td>\n",
       "      <td>-1.257937e-01</td>\n",
       "      <td>3.055787e-03</td>\n",
       "      <td>-7.486381e-02</td>\n",
       "    </tr>\n",
       "    <tr>\n",
       "      <th>75%</th>\n",
       "      <td>5.092519e-01</td>\n",
       "      <td>5.891467e-01</td>\n",
       "      <td>4.776140e-01</td>\n",
       "      <td>6.441616e-01</td>\n",
       "      <td>5.401521e-01</td>\n",
       "      <td>5.620206e-01</td>\n",
       "      <td>6.533444e-01</td>\n",
       "      <td>5.894343e-01</td>\n",
       "      <td>4.615357e-01</td>\n",
       "      <td>3.985932e-01</td>\n",
       "    </tr>\n",
       "    <tr>\n",
       "      <th>max</th>\n",
       "      <td>4.463698e+00</td>\n",
       "      <td>4.177867e+00</td>\n",
       "      <td>8.399086e+00</td>\n",
       "      <td>2.828113e+00</td>\n",
       "      <td>4.123763e+00</td>\n",
       "      <td>4.148804e+00</td>\n",
       "      <td>4.713583e+00</td>\n",
       "      <td>3.407939e+00</td>\n",
       "      <td>7.191099e+00</td>\n",
       "      <td>6.717284e+00</td>\n",
       "    </tr>\n",
       "  </tbody>\n",
       "</table>\n",
       "</div>"
      ],
      "text/plain": [
       "              21076         6210          20854         4698          1768   \\\n",
       "count  6.680000e+02  6.680000e+02  6.680000e+02  6.680000e+02  6.680000e+02   \n",
       "mean  -3.397149e-16 -4.219845e-16 -5.337547e-16 -1.089448e-15  3.806004e-17   \n",
       "std    1.000000e+00  1.000000e+00  1.000000e+00  1.000000e+00  1.000000e+00   \n",
       "min   -3.381398e+00 -3.090586e+00 -1.986745e+00 -3.135119e+00 -2.604649e+00   \n",
       "25%   -6.243816e-01 -6.339691e-01 -6.182360e-01 -6.784284e-01 -6.442062e-01   \n",
       "50%   -1.182303e-01  8.924184e-02 -1.392608e-01  1.646195e-01 -1.585160e-01   \n",
       "75%    5.092519e-01  5.891467e-01  4.776140e-01  6.441616e-01  5.401521e-01   \n",
       "max    4.463698e+00  4.177867e+00  8.399086e+00  2.828113e+00  4.123763e+00   \n",
       "\n",
       "              21843         24096         2005          21675         24633  \n",
       "count  6.680000e+02  6.680000e+02  6.680000e+02  6.680000e+02  6.680000e+02  \n",
       "mean  -3.643127e-16 -3.897415e-16 -3.084692e-16 -1.062025e-16  3.689663e-17  \n",
       "std    1.000000e+00  1.000000e+00  1.000000e+00  1.000000e+00  1.000000e+00  \n",
       "min   -3.044525e+00 -3.058483e+00 -3.393235e+00 -2.028328e+00 -2.295783e+00  \n",
       "25%   -6.757195e-01 -7.266223e-01 -6.095486e-01 -6.352684e-01 -6.346993e-01  \n",
       "50%    7.224287e-02 -5.450844e-02 -1.257937e-01  3.055787e-03 -7.486381e-02  \n",
       "75%    5.620206e-01  6.533444e-01  5.894343e-01  4.615357e-01  3.985932e-01  \n",
       "max    4.148804e+00  4.713583e+00  3.407939e+00  7.191099e+00  6.717284e+00  "
      ]
     },
     "execution_count": 11,
     "metadata": {},
     "output_type": "execute_result"
    }
   ],
   "source": [
    "x_cnv_processed[np.random.choice(x_cnv_processed.columns.values, size = 10, replace = False)].describe()"
   ]
  },
  {
   "cell_type": "code",
   "execution_count": 12,
   "metadata": {},
   "outputs": [
    {
     "data": {
      "text/html": [
       "<div>\n",
       "<style scoped>\n",
       "    .dataframe tbody tr th:only-of-type {\n",
       "        vertical-align: middle;\n",
       "    }\n",
       "\n",
       "    .dataframe tbody tr th {\n",
       "        vertical-align: top;\n",
       "    }\n",
       "\n",
       "    .dataframe thead th {\n",
       "        text-align: right;\n",
       "    }\n",
       "</style>\n",
       "<table border=\"1\" class=\"dataframe\">\n",
       "  <thead>\n",
       "    <tr style=\"text-align: right;\">\n",
       "      <th></th>\n",
       "      <th>9170</th>\n",
       "      <th>16457</th>\n",
       "      <th>1703</th>\n",
       "      <th>33</th>\n",
       "      <th>14320</th>\n",
       "      <th>1991</th>\n",
       "      <th>6639</th>\n",
       "      <th>12017</th>\n",
       "      <th>5202</th>\n",
       "      <th>6811</th>\n",
       "    </tr>\n",
       "  </thead>\n",
       "  <tbody>\n",
       "    <tr>\n",
       "      <th>count</th>\n",
       "      <td>6.680000e+02</td>\n",
       "      <td>6.680000e+02</td>\n",
       "      <td>6.680000e+02</td>\n",
       "      <td>6.680000e+02</td>\n",
       "      <td>6.680000e+02</td>\n",
       "      <td>6.680000e+02</td>\n",
       "      <td>6.680000e+02</td>\n",
       "      <td>6.680000e+02</td>\n",
       "      <td>6.680000e+02</td>\n",
       "      <td>6.680000e+02</td>\n",
       "    </tr>\n",
       "    <tr>\n",
       "      <th>mean</th>\n",
       "      <td>1.989115e-16</td>\n",
       "      <td>-1.893030e-16</td>\n",
       "      <td>-8.442182e-16</td>\n",
       "      <td>4.783266e-16</td>\n",
       "      <td>8.569326e-16</td>\n",
       "      <td>6.245836e-16</td>\n",
       "      <td>2.660546e-15</td>\n",
       "      <td>-8.509494e-17</td>\n",
       "      <td>3.901570e-16</td>\n",
       "      <td>3.398812e-16</td>\n",
       "    </tr>\n",
       "    <tr>\n",
       "      <th>std</th>\n",
       "      <td>1.000000e+00</td>\n",
       "      <td>1.000000e+00</td>\n",
       "      <td>1.000000e+00</td>\n",
       "      <td>1.000000e+00</td>\n",
       "      <td>1.000000e+00</td>\n",
       "      <td>1.000000e+00</td>\n",
       "      <td>1.000000e+00</td>\n",
       "      <td>1.000000e+00</td>\n",
       "      <td>1.000000e+00</td>\n",
       "      <td>1.000000e+00</td>\n",
       "    </tr>\n",
       "    <tr>\n",
       "      <th>min</th>\n",
       "      <td>-9.940287e-02</td>\n",
       "      <td>-1.458500e-01</td>\n",
       "      <td>-1.468573e+00</td>\n",
       "      <td>-9.232185e-01</td>\n",
       "      <td>-9.084244e-01</td>\n",
       "      <td>-3.148980e-01</td>\n",
       "      <td>-2.023992e+00</td>\n",
       "      <td>-7.250077e-01</td>\n",
       "      <td>-6.568212e-01</td>\n",
       "      <td>-1.455076e-01</td>\n",
       "    </tr>\n",
       "    <tr>\n",
       "      <th>25%</th>\n",
       "      <td>-9.940287e-02</td>\n",
       "      <td>-1.458500e-01</td>\n",
       "      <td>-7.380860e-01</td>\n",
       "      <td>-6.525047e-01</td>\n",
       "      <td>-6.434925e-01</td>\n",
       "      <td>-3.148980e-01</td>\n",
       "      <td>-6.896770e-01</td>\n",
       "      <td>-5.909244e-01</td>\n",
       "      <td>-5.118673e-01</td>\n",
       "      <td>-1.455076e-01</td>\n",
       "    </tr>\n",
       "    <tr>\n",
       "      <th>50%</th>\n",
       "      <td>-9.711095e-02</td>\n",
       "      <td>-1.458500e-01</td>\n",
       "      <td>-2.059913e-01</td>\n",
       "      <td>-2.697507e-01</td>\n",
       "      <td>-3.296807e-01</td>\n",
       "      <td>-3.148980e-01</td>\n",
       "      <td>-1.145508e-01</td>\n",
       "      <td>-3.314364e-01</td>\n",
       "      <td>-2.730146e-01</td>\n",
       "      <td>-1.455076e-01</td>\n",
       "    </tr>\n",
       "    <tr>\n",
       "      <th>75%</th>\n",
       "      <td>-8.578878e-02</td>\n",
       "      <td>-1.106315e-01</td>\n",
       "      <td>4.755136e-01</td>\n",
       "      <td>2.764192e-01</td>\n",
       "      <td>2.638017e-01</td>\n",
       "      <td>-3.148980e-01</td>\n",
       "      <td>5.289162e-01</td>\n",
       "      <td>2.424804e-01</td>\n",
       "      <td>1.098308e-01</td>\n",
       "      <td>-1.455076e-01</td>\n",
       "    </tr>\n",
       "    <tr>\n",
       "      <th>max</th>\n",
       "      <td>1.917437e+01</td>\n",
       "      <td>2.083343e+01</td>\n",
       "      <td>6.293982e+00</td>\n",
       "      <td>7.454403e+00</td>\n",
       "      <td>6.899406e+00</td>\n",
       "      <td>1.290742e+01</td>\n",
       "      <td>4.383630e+00</td>\n",
       "      <td>1.013575e+01</td>\n",
       "      <td>1.044517e+01</td>\n",
       "      <td>2.029958e+01</td>\n",
       "    </tr>\n",
       "  </tbody>\n",
       "</table>\n",
       "</div>"
      ],
      "text/plain": [
       "              9170          16457         1703          33            14320  \\\n",
       "count  6.680000e+02  6.680000e+02  6.680000e+02  6.680000e+02  6.680000e+02   \n",
       "mean   1.989115e-16 -1.893030e-16 -8.442182e-16  4.783266e-16  8.569326e-16   \n",
       "std    1.000000e+00  1.000000e+00  1.000000e+00  1.000000e+00  1.000000e+00   \n",
       "min   -9.940287e-02 -1.458500e-01 -1.468573e+00 -9.232185e-01 -9.084244e-01   \n",
       "25%   -9.940287e-02 -1.458500e-01 -7.380860e-01 -6.525047e-01 -6.434925e-01   \n",
       "50%   -9.711095e-02 -1.458500e-01 -2.059913e-01 -2.697507e-01 -3.296807e-01   \n",
       "75%   -8.578878e-02 -1.106315e-01  4.755136e-01  2.764192e-01  2.638017e-01   \n",
       "max    1.917437e+01  2.083343e+01  6.293982e+00  7.454403e+00  6.899406e+00   \n",
       "\n",
       "              1991          6639          12017         5202          6811   \n",
       "count  6.680000e+02  6.680000e+02  6.680000e+02  6.680000e+02  6.680000e+02  \n",
       "mean   6.245836e-16  2.660546e-15 -8.509494e-17  3.901570e-16  3.398812e-16  \n",
       "std    1.000000e+00  1.000000e+00  1.000000e+00  1.000000e+00  1.000000e+00  \n",
       "min   -3.148980e-01 -2.023992e+00 -7.250077e-01 -6.568212e-01 -1.455076e-01  \n",
       "25%   -3.148980e-01 -6.896770e-01 -5.909244e-01 -5.118673e-01 -1.455076e-01  \n",
       "50%   -3.148980e-01 -1.145508e-01 -3.314364e-01 -2.730146e-01 -1.455076e-01  \n",
       "75%   -3.148980e-01  5.289162e-01  2.424804e-01  1.098308e-01 -1.455076e-01  \n",
       "max    1.290742e+01  4.383630e+00  1.013575e+01  1.044517e+01  2.029958e+01  "
      ]
     },
     "execution_count": 12,
     "metadata": {},
     "output_type": "execute_result"
    }
   ],
   "source": [
    "x_lnc_processed[np.random.choice(x_lnc_processed.columns.values, size = 10, replace = False)].describe()"
   ]
  },
  {
   "cell_type": "code",
   "execution_count": 13,
   "metadata": {},
   "outputs": [
    {
     "name": "stdout",
     "output_type": "stream",
     "text": [
      "CNV: False  RNA: False  lnc: False\n"
     ]
    }
   ],
   "source": [
    "#Check for NaN values\n",
    "print('CNV: {0}  RNA: {1}  lnc: {2}'.format(\n",
    "    x_cnv_processed.isnull().any().any(), x_rna_processed.isnull().any().any(), x_lnc_processed.isnull().any().any()))"
   ]
  },
  {
   "cell_type": "code",
   "execution_count": 14,
   "metadata": {},
   "outputs": [
    {
     "data": {
      "text/plain": [
       "<map at 0x1a1ab6def0>"
      ]
     },
     "execution_count": 14,
     "metadata": {},
     "output_type": "execute_result"
    }
   ],
   "source": [
    "#Reset Indexes for dataframes\n",
    "def reset_df_index(df):\n",
    "    df = df.reset_index(drop = True)\n",
    "map(reset_df_index, [x_cnv_processed, x_rna_processed, x_lnc_processed])"
   ]
  },
  {
   "cell_type": "code",
   "execution_count": 15,
   "metadata": {},
   "outputs": [
    {
     "name": "stdout",
     "output_type": "stream",
     "text": [
      "x_cr shape is:(668, 52357)  x_cl shape is:(668, 47770)  x_rl shape is:(668, 47379)\n"
     ]
    }
   ],
   "source": [
    "#Combine data as pairs\n",
    "x_cr = pd.concat([x_cnv_processed, x_rna_processed], axis = 1)\n",
    "x_cl = pd.concat([x_cnv_processed, x_lnc_processed], axis = 1)\n",
    "x_rl = pd.concat([x_rna_processed, x_lnc_processed], axis = 1)\n",
    "\n",
    "print('x_cr shape is:{0}  x_cl shape is:{1}  x_rl shape is:{2}'.format(x_cr.shape, x_cl.shape, x_rl.shape))"
   ]
  },
  {
   "cell_type": "code",
   "execution_count": 16,
   "metadata": {},
   "outputs": [
    {
     "data": {
      "text/plain": [
       "(668, 73753)"
      ]
     },
     "execution_count": 16,
     "metadata": {},
     "output_type": "execute_result"
    }
   ],
   "source": [
    "#Combine all data \n",
    "x_all = pd.concat([x_cnv_processed, x_rna_processed, x_lnc_processed], axis = 1)\n",
    "x_all.shape"
   ]
  },
  {
   "cell_type": "markdown",
   "metadata": {},
   "source": [
    "### Neural Net"
   ]
  },
  {
   "cell_type": "code",
   "execution_count": 19,
   "metadata": {},
   "outputs": [],
   "source": [
    "from sklearn.model_selection import train_test_split\n",
    "from keras.models import Sequential\n",
    "from keras.layers import Dense, Dropout\n",
    "from keras import regularizers"
   ]
  },
  {
   "cell_type": "code",
   "execution_count": 18,
   "metadata": {},
   "outputs": [],
   "source": [
    "#Split data into training and test sets\n",
    "x_combined_train, x_combined_test, y_combined_train, y_combined_test = train_test_split(\n",
    "    x_all, y.values.flatten(), test_size = 0.25, random_state = 0)"
   ]
  },
  {
   "cell_type": "code",
   "execution_count": 38,
   "metadata": {},
   "outputs": [],
   "source": [
    "\"\"\"\n",
    "Best settings so far are:\n",
    "\n",
    "model.add(Dense(256, activation = 'relu'))\n",
    "model.add(Dropout(0.25))\n",
    "model.add(Dense(128, activation = 'relu'))\n",
    "model.add(Dropout(0.25))\n",
    "model.add(Dense(128, activation = 'relu'))\n",
    "model.add(Dropout(0.25))\n",
    "model.add(Dense(1, activation = 'sigmoid'))\n",
    "\n",
    "model.add(Dense(16, activation = 'relu'))\n",
    "model.add(Dropout(0.3))\n",
    "model.add(Dense(1, activation = 'sigmoid'))\n",
    "\n",
    "Accuracy ~81.4%\n",
    "\n",
    "model.add(Dense(16, activation = 'tanh'))\n",
    "model.add(Dropout(0.3))\n",
    "model.add(Dense(16, activation = 'tanh'))\n",
    "model.add(Dropout(0.3))\n",
    "model.add(Dense(1, activation = 'sigmoid'))\n",
    "\n",
    "Accuracy ~82% with 150 epochs\n",
    "\"\"\"\n",
    "\n",
    "model = Sequential()\n",
    "#model.add(Dense(16, activation = 'tanh'))\n",
    "#model.add(Dropout(0.3))\n",
    "#model.add(Dense(16, activation = 'tanh'))\n",
    "#model.add(Dropout(0.3))\n",
    "#model.add(Dense(32, activation = 'relu'))\n",
    "#model.add(Dropout(0.3))\n",
    "model.add(Dense(1, activation = 'sigmoid', kernel_regularizer = regularizers.l1(0.1)))"
   ]
  },
  {
   "cell_type": "code",
   "execution_count": 39,
   "metadata": {},
   "outputs": [],
   "source": [
    "model.compile(loss = 'binary_crossentropy', optimizer = 'adam', metrics = ['accuracy'])"
   ]
  },
  {
   "cell_type": "code",
   "execution_count": null,
   "metadata": {},
   "outputs": [
    {
     "name": "stdout",
     "output_type": "stream",
     "text": [
      "Epoch 1/200\n",
      "501/501 [==============================] - 1s 3ms/step - loss: 20.5489 - acc: 0.5569\n",
      "Epoch 2/200\n",
      "501/501 [==============================] - 1s 2ms/step - loss: 7.4053 - acc: 0.6607\n",
      "Epoch 3/200\n",
      "501/501 [==============================] - 1s 2ms/step - loss: 5.2345 - acc: 0.6347\n",
      "Epoch 4/200\n",
      "501/501 [==============================] - 1s 2ms/step - loss: 3.6581 - acc: 0.5908\n",
      "Epoch 5/200\n",
      "501/501 [==============================] - 1s 2ms/step - loss: 2.9450 - acc: 0.5908\n",
      "Epoch 6/200\n",
      "501/501 [==============================] - 1s 2ms/step - loss: 2.5733 - acc: 0.5669\n",
      "Epoch 7/200\n",
      "501/501 [==============================] - 1s 2ms/step - loss: 2.3645 - acc: 0.5709\n",
      "Epoch 8/200\n",
      "501/501 [==============================] - 1s 2ms/step - loss: 2.2436 - acc: 0.5928\n",
      "Epoch 9/200\n",
      "501/501 [==============================] - 1s 2ms/step - loss: 2.2119 - acc: 0.5988\n",
      "Epoch 10/200\n",
      "501/501 [==============================] - 1s 2ms/step - loss: 2.2326 - acc: 0.5808\n",
      "Epoch 11/200\n",
      "501/501 [==============================] - 1s 2ms/step - loss: 2.1880 - acc: 0.5928\n",
      "Epoch 12/200\n",
      "501/501 [==============================] - 1s 2ms/step - loss: 2.1849 - acc: 0.6088\n",
      "Epoch 13/200\n",
      "501/501 [==============================] - 1s 2ms/step - loss: 2.1263 - acc: 0.6527\n",
      "Epoch 14/200\n",
      "501/501 [==============================] - 1s 2ms/step - loss: 2.1510 - acc: 0.6048\n",
      "Epoch 15/200\n",
      "501/501 [==============================] - 1s 2ms/step - loss: 2.1219 - acc: 0.6467\n",
      "Epoch 16/200\n",
      "501/501 [==============================] - 1s 2ms/step - loss: 2.1450 - acc: 0.6088\n",
      "Epoch 17/200\n",
      "501/501 [==============================] - 1s 2ms/step - loss: 2.1534 - acc: 0.6108\n",
      "Epoch 18/200\n",
      "501/501 [==============================] - 1s 2ms/step - loss: 2.1191 - acc: 0.6168\n",
      "Epoch 19/200\n",
      "501/501 [==============================] - 1s 2ms/step - loss: 2.0829 - acc: 0.6387\n",
      "Epoch 20/200\n",
      "501/501 [==============================] - 1s 2ms/step - loss: 2.1371 - acc: 0.6267\n",
      "Epoch 21/200\n",
      "501/501 [==============================] - 1s 2ms/step - loss: 2.1702 - acc: 0.6287\n",
      "Epoch 22/200\n",
      "501/501 [==============================] - 1s 2ms/step - loss: 2.1428 - acc: 0.6786\n",
      "Epoch 23/200\n",
      "501/501 [==============================] - 1s 2ms/step - loss: 2.1318 - acc: 0.6627\n",
      "Epoch 24/200\n",
      "501/501 [==============================] - 1s 2ms/step - loss: 2.1194 - acc: 0.6068\n",
      "Epoch 25/200\n",
      "501/501 [==============================] - 1s 2ms/step - loss: 2.1261 - acc: 0.6228\n",
      "Epoch 26/200\n",
      "501/501 [==============================] - 1s 2ms/step - loss: 2.1006 - acc: 0.6906\n",
      "Epoch 27/200\n",
      "501/501 [==============================] - 1s 2ms/step - loss: 2.1200 - acc: 0.6487\n",
      "Epoch 28/200\n",
      "501/501 [==============================] - 1s 2ms/step - loss: 2.0671 - acc: 0.6367\n",
      "Epoch 29/200\n",
      "501/501 [==============================] - 1s 2ms/step - loss: 2.1284 - acc: 0.6567\n",
      "Epoch 30/200\n",
      "501/501 [==============================] - 1s 2ms/step - loss: 2.1416 - acc: 0.6627\n",
      "Epoch 31/200\n",
      "501/501 [==============================] - 1s 2ms/step - loss: 2.0895 - acc: 0.7026\n",
      "Epoch 32/200\n",
      "501/501 [==============================] - 1s 2ms/step - loss: 2.0660 - acc: 0.7006\n",
      "Epoch 33/200\n",
      "501/501 [==============================] - 1s 2ms/step - loss: 2.0233 - acc: 0.6946\n",
      "Epoch 34/200\n",
      "501/501 [==============================] - 1s 2ms/step - loss: 2.0062 - acc: 0.6886\n",
      "Epoch 35/200\n",
      "501/501 [==============================] - 1s 2ms/step - loss: 2.0201 - acc: 0.6766\n",
      "Epoch 36/200\n",
      "501/501 [==============================] - 1s 2ms/step - loss: 2.0417 - acc: 0.6966\n",
      "Epoch 37/200\n",
      "501/501 [==============================] - 1s 2ms/step - loss: 2.0850 - acc: 0.6707\n",
      "Epoch 38/200\n",
      "501/501 [==============================] - 1s 2ms/step - loss: 2.0994 - acc: 0.6707\n",
      "Epoch 39/200\n",
      "501/501 [==============================] - 1s 2ms/step - loss: 2.0928 - acc: 0.6786\n",
      "Epoch 40/200\n",
      "501/501 [==============================] - 1s 2ms/step - loss: 2.0344 - acc: 0.7265\n",
      "Epoch 41/200\n",
      "501/501 [==============================] - 1s 2ms/step - loss: 2.0269 - acc: 0.6866\n",
      "Epoch 42/200\n",
      "501/501 [==============================] - 1s 2ms/step - loss: 2.0941 - acc: 0.6747\n",
      "Epoch 43/200\n",
      "501/501 [==============================] - 1s 2ms/step - loss: 2.1488 - acc: 0.6667\n",
      "Epoch 44/200\n",
      "501/501 [==============================] - 1s 2ms/step - loss: 2.0533 - acc: 0.6906\n",
      "Epoch 45/200\n",
      "501/501 [==============================] - 1s 2ms/step - loss: 2.0335 - acc: 0.6747\n",
      "Epoch 46/200\n",
      "501/501 [==============================] - 1s 2ms/step - loss: 2.0334 - acc: 0.7026\n",
      "Epoch 47/200\n",
      "501/501 [==============================] - 1s 2ms/step - loss: 2.0096 - acc: 0.7186\n",
      "Epoch 48/200\n",
      "501/501 [==============================] - 1s 2ms/step - loss: 1.9983 - acc: 0.6926\n",
      "Epoch 49/200\n",
      "501/501 [==============================] - 1s 2ms/step - loss: 1.9851 - acc: 0.7206\n",
      "Epoch 50/200\n",
      "501/501 [==============================] - 1s 2ms/step - loss: 1.9881 - acc: 0.7385\n",
      "Epoch 51/200\n",
      "501/501 [==============================] - 1s 2ms/step - loss: 1.9711 - acc: 0.6966\n",
      "Epoch 52/200\n",
      "501/501 [==============================] - 1s 2ms/step - loss: 2.0011 - acc: 0.6926\n",
      "Epoch 53/200\n",
      "501/501 [==============================] - 1s 2ms/step - loss: 1.9958 - acc: 0.6926\n",
      "Epoch 54/200\n",
      "501/501 [==============================] - 1s 2ms/step - loss: 1.9931 - acc: 0.7126\n",
      "Epoch 55/200\n",
      "501/501 [==============================] - 1s 2ms/step - loss: 2.0201 - acc: 0.6946\n",
      "Epoch 56/200\n",
      "501/501 [==============================] - 1s 2ms/step - loss: 1.9990 - acc: 0.7285\n",
      "Epoch 57/200\n",
      "501/501 [==============================] - 1s 2ms/step - loss: 2.0031 - acc: 0.6966\n",
      "Epoch 58/200\n",
      "501/501 [==============================] - 1s 2ms/step - loss: 2.0265 - acc: 0.6946\n",
      "Epoch 59/200\n",
      "501/501 [==============================] - 1s 2ms/step - loss: 2.0368 - acc: 0.6886\n",
      "Epoch 60/200\n",
      "501/501 [==============================] - 1s 2ms/step - loss: 1.9865 - acc: 0.7405\n",
      "Epoch 61/200\n",
      "501/501 [==============================] - 1s 2ms/step - loss: 1.9974 - acc: 0.7405\n",
      "Epoch 62/200\n",
      "501/501 [==============================] - 1s 2ms/step - loss: 1.9691 - acc: 0.7345\n",
      "Epoch 63/200\n",
      "501/501 [==============================] - 1s 2ms/step - loss: 1.9558 - acc: 0.7385\n",
      "Epoch 64/200\n",
      "501/501 [==============================] - 1s 2ms/step - loss: 2.0042 - acc: 0.6906\n",
      "Epoch 65/200\n",
      "501/501 [==============================] - 1s 2ms/step - loss: 2.0144 - acc: 0.6846\n",
      "Epoch 66/200\n",
      "501/501 [==============================] - 1s 2ms/step - loss: 1.9767 - acc: 0.7585\n",
      "Epoch 67/200\n",
      "501/501 [==============================] - 1s 2ms/step - loss: 2.0184 - acc: 0.6886\n",
      "Epoch 68/200\n",
      "501/501 [==============================] - 1s 2ms/step - loss: 1.9754 - acc: 0.7106\n",
      "Epoch 69/200\n",
      "501/501 [==============================] - 1s 2ms/step - loss: 2.0295 - acc: 0.7046\n",
      "Epoch 70/200\n",
      "501/501 [==============================] - 1s 2ms/step - loss: 2.0022 - acc: 0.7226\n",
      "Epoch 71/200\n",
      "501/501 [==============================] - 1s 2ms/step - loss: 2.0006 - acc: 0.6966\n",
      "Epoch 72/200\n",
      "501/501 [==============================] - 1s 2ms/step - loss: 1.9939 - acc: 0.7226\n",
      "Epoch 73/200\n",
      "501/501 [==============================] - 1s 2ms/step - loss: 1.9758 - acc: 0.7365\n",
      "Epoch 74/200\n",
      "501/501 [==============================] - 1s 2ms/step - loss: 1.9537 - acc: 0.7425\n",
      "Epoch 75/200\n",
      "501/501 [==============================] - 1s 2ms/step - loss: 1.9243 - acc: 0.7425\n",
      "Epoch 76/200\n",
      "501/501 [==============================] - 1s 2ms/step - loss: 1.9493 - acc: 0.7126\n",
      "Epoch 77/200\n",
      "501/501 [==============================] - 1s 2ms/step - loss: 1.9435 - acc: 0.7625\n",
      "Epoch 78/200\n",
      "501/501 [==============================] - 1s 2ms/step - loss: 1.9494 - acc: 0.7485\n",
      "Epoch 79/200\n",
      "501/501 [==============================] - 1s 2ms/step - loss: 1.9088 - acc: 0.7884\n",
      "Epoch 80/200\n",
      "501/501 [==============================] - 1s 2ms/step - loss: 1.8822 - acc: 0.7705\n",
      "Epoch 81/200\n",
      "501/501 [==============================] - 1s 2ms/step - loss: 1.9118 - acc: 0.7226\n",
      "Epoch 82/200\n",
      "501/501 [==============================] - 1s 2ms/step - loss: 1.9426 - acc: 0.7186\n",
      "Epoch 83/200\n",
      "501/501 [==============================] - 1s 2ms/step - loss: 1.9466 - acc: 0.7645\n",
      "Epoch 84/200\n",
      "501/501 [==============================] - 1s 2ms/step - loss: 1.9008 - acc: 0.7784\n",
      "Epoch 85/200\n",
      "501/501 [==============================] - 1s 2ms/step - loss: 1.9280 - acc: 0.7605\n",
      "Epoch 86/200\n",
      "501/501 [==============================] - 1s 2ms/step - loss: 1.9070 - acc: 0.7645\n",
      "Epoch 87/200\n",
      "501/501 [==============================] - 1s 2ms/step - loss: 1.8817 - acc: 0.7685\n",
      "Epoch 88/200\n",
      "501/501 [==============================] - 1s 2ms/step - loss: 1.8756 - acc: 0.7884\n",
      "Epoch 89/200\n",
      "501/501 [==============================] - 1s 2ms/step - loss: 1.8970 - acc: 0.7625\n",
      "Epoch 90/200\n",
      "501/501 [==============================] - 1s 2ms/step - loss: 1.8885 - acc: 0.7625\n",
      "Epoch 91/200\n",
      "501/501 [==============================] - 1s 2ms/step - loss: 1.8676 - acc: 0.7745\n",
      "Epoch 92/200\n",
      "501/501 [==============================] - 1s 2ms/step - loss: 1.8671 - acc: 0.7685\n",
      "Epoch 93/200\n",
      "501/501 [==============================] - 1s 2ms/step - loss: 1.8866 - acc: 0.7804\n",
      "Epoch 94/200\n",
      "501/501 [==============================] - 1s 2ms/step - loss: 1.8873 - acc: 0.7545\n",
      "Epoch 95/200\n",
      "501/501 [==============================] - 1s 2ms/step - loss: 1.8658 - acc: 0.7645\n",
      "Epoch 96/200\n",
      "501/501 [==============================] - 1s 2ms/step - loss: 1.8064 - acc: 0.7844\n",
      "Epoch 97/200\n",
      "501/501 [==============================] - 1s 2ms/step - loss: 1.8350 - acc: 0.7844\n",
      "Epoch 98/200\n",
      "501/501 [==============================] - 1s 2ms/step - loss: 1.8387 - acc: 0.7665\n",
      "Epoch 99/200\n",
      "501/501 [==============================] - 1s 2ms/step - loss: 1.8760 - acc: 0.7844\n",
      "Epoch 100/200\n",
      "501/501 [==============================] - 1s 2ms/step - loss: 1.8929 - acc: 0.7745\n",
      "Epoch 101/200\n",
      "501/501 [==============================] - 1s 2ms/step - loss: 1.9283 - acc: 0.7884\n",
      "Epoch 102/200\n",
      "501/501 [==============================] - 1s 2ms/step - loss: 1.8817 - acc: 0.7784\n",
      "Epoch 103/200\n",
      "501/501 [==============================] - 1s 2ms/step - loss: 1.8729 - acc: 0.7764\n",
      "Epoch 104/200\n",
      "501/501 [==============================] - 1s 2ms/step - loss: 1.8424 - acc: 0.8084\n",
      "Epoch 105/200\n",
      "501/501 [==============================] - 1s 2ms/step - loss: 1.8402 - acc: 0.7705\n",
      "Epoch 106/200\n",
      "501/501 [==============================] - 1s 2ms/step - loss: 1.8483 - acc: 0.7844\n",
      "Epoch 107/200\n",
      "501/501 [==============================] - 1s 2ms/step - loss: 1.8728 - acc: 0.7824\n",
      "Epoch 108/200\n",
      "501/501 [==============================] - 1s 2ms/step - loss: 1.8677 - acc: 0.7725\n",
      "Epoch 109/200\n",
      "501/501 [==============================] - 1s 2ms/step - loss: 1.8400 - acc: 0.7764\n",
      "Epoch 110/200\n",
      "501/501 [==============================] - 1s 2ms/step - loss: 1.7621 - acc: 0.7984\n",
      "Epoch 111/200\n",
      "501/501 [==============================] - 1s 2ms/step - loss: 1.7674 - acc: 0.8084\n",
      "Epoch 112/200\n",
      "501/501 [==============================] - 1s 2ms/step - loss: 1.8036 - acc: 0.7924\n",
      "Epoch 113/200\n",
      "501/501 [==============================] - 1s 2ms/step - loss: 1.8435 - acc: 0.7864\n",
      "Epoch 114/200\n",
      "501/501 [==============================] - 1s 2ms/step - loss: 1.8544 - acc: 0.7565\n",
      "Epoch 115/200\n",
      "501/501 [==============================] - 1s 2ms/step - loss: 1.8563 - acc: 0.7804\n",
      "Epoch 116/200\n",
      "501/501 [==============================] - 1s 2ms/step - loss: 1.8209 - acc: 0.7904\n",
      "Epoch 117/200\n",
      "501/501 [==============================] - 1s 2ms/step - loss: 1.8289 - acc: 0.7944\n",
      "Epoch 118/200\n",
      "501/501 [==============================] - 1s 2ms/step - loss: 1.8174 - acc: 0.7944\n",
      "Epoch 119/200\n",
      "501/501 [==============================] - 1s 2ms/step - loss: 1.7954 - acc: 0.7944\n",
      "Epoch 120/200\n",
      "501/501 [==============================] - 1s 2ms/step - loss: 1.8170 - acc: 0.7884\n",
      "Epoch 121/200\n",
      "501/501 [==============================] - 1s 2ms/step - loss: 1.8090 - acc: 0.8064\n",
      "Epoch 122/200\n",
      "501/501 [==============================] - 1s 2ms/step - loss: 1.8043 - acc: 0.8104\n",
      "Epoch 123/200\n",
      "501/501 [==============================] - 1s 2ms/step - loss: 1.7976 - acc: 0.7964\n",
      "Epoch 124/200\n",
      "501/501 [==============================] - 1s 2ms/step - loss: 1.8005 - acc: 0.7984\n",
      "Epoch 125/200\n",
      "501/501 [==============================] - 1s 2ms/step - loss: 1.8125 - acc: 0.8084\n",
      "Epoch 126/200\n",
      "501/501 [==============================] - 1s 2ms/step - loss: 1.7968 - acc: 0.8084\n",
      "Epoch 127/200\n",
      "501/501 [==============================] - 1s 2ms/step - loss: 1.8015 - acc: 0.7984\n",
      "Epoch 128/200\n",
      "501/501 [==============================] - 1s 2ms/step - loss: 1.8077 - acc: 0.7964\n",
      "Epoch 129/200\n",
      "501/501 [==============================] - 1s 2ms/step - loss: 1.8451 - acc: 0.7844\n",
      "Epoch 130/200\n",
      "501/501 [==============================] - 1s 2ms/step - loss: 1.8425 - acc: 0.7804\n",
      "Epoch 131/200\n",
      "501/501 [==============================] - 1s 2ms/step - loss: 1.7662 - acc: 0.7864\n",
      "Epoch 132/200\n",
      "501/501 [==============================] - 1s 2ms/step - loss: 1.7725 - acc: 0.8024\n",
      "Epoch 133/200\n",
      "501/501 [==============================] - 1s 2ms/step - loss: 1.7950 - acc: 0.8144\n",
      "Epoch 134/200\n",
      "501/501 [==============================] - 1s 2ms/step - loss: 1.8095 - acc: 0.8084\n",
      "Epoch 135/200\n",
      "128/501 [======>.......................] - ETA: 0s - loss: 1.8556 - acc: 0.8359"
     ]
    }
   ],
   "source": [
    "model.fit(x_combined_train.values, y_combined_train, epochs = 200, batch_size = 64, verbose = 1)"
   ]
  },
  {
   "cell_type": "code",
   "execution_count": 37,
   "metadata": {},
   "outputs": [
    {
     "name": "stdout",
     "output_type": "stream",
     "text": [
      "167/167 [==============================] - 0s 2ms/step\n"
     ]
    },
    {
     "data": {
      "text/plain": [
       "[1.2944372399838384, 0.8023952102946664]"
      ]
     },
     "execution_count": 37,
     "metadata": {},
     "output_type": "execute_result"
    }
   ],
   "source": [
    "model.evaluate(x_combined_test, y_combined_test)"
   ]
  },
  {
   "cell_type": "code",
   "execution_count": 32,
   "metadata": {},
   "outputs": [
    {
     "data": {
      "text/plain": [
       "['loss', 'acc']"
      ]
     },
     "execution_count": 32,
     "metadata": {},
     "output_type": "execute_result"
    }
   ],
   "source": [
    "model.metrics_names"
   ]
  },
  {
   "cell_type": "code",
   "execution_count": 28,
   "metadata": {},
   "outputs": [],
   "source": [
    "import matplotlib.pyplot as plt"
   ]
  },
  {
   "cell_type": "code",
   "execution_count": 33,
   "metadata": {},
   "outputs": [
    {
     "data": {
      "image/png": "[encoded data removed]",
      "text/plain": [
       "<Figure size 432x288 with 1 Axes>"
      ]
     },
     "metadata": {
      "needs_background": "light"
     },
     "output_type": "display_data"
    }
   ],
   "source": [
    "plt.plot(model.history.epoch, model.history.history['loss'])\n",
    "plt.show()"
   ]
  },
  {
   "cell_type": "markdown",
   "metadata": {},
   "source": [
    "### Comparison of different data sets with one model"
   ]
  },
  {
   "cell_type": "code",
   "execution_count": 26,
   "metadata": {},
   "outputs": [],
   "source": [
    "from sklearn.linear_model import LogisticRegression"
   ]
  },
  {
   "cell_type": "code",
   "execution_count": 27,
   "metadata": {},
   "outputs": [],
   "source": [
    "#Datasets and corresponding labels\n",
    "Datasets = [\n",
    "    [x_cnv_processed, 'CNV Only'],\n",
    "    [x_rna_processed, 'RNA Only'],\n",
    "    [x_lnc_processed, 'lnc Only'],\n",
    "    [x_cr, 'CNV and RNA'],\n",
    "    [x_cl, 'CNV and lnc'],\n",
    "    [x_rl, 'RNA and lnc'],\n",
    "    [x_all, 'CNV, RNA and lnc']\n",
    "]"
   ]
  },
  {
   "cell_type": "code",
   "execution_count": 38,
   "metadata": {},
   "outputs": [
    {
     "name": "stdout",
     "output_type": "stream",
     "text": [
      "CNV Only [0.6747740771242244, 0.7425149711306224]\n",
      "RNA Only [0.8499456329973872, 0.7245508985605068]\n",
      "lnc Only [1.2996799467566484, 0.598802396280323]\n",
      "CNV and RNA [0.5016457552681426, 0.7964071863425706]\n",
      "CNV and lnc [0.628189865343585, 0.7544910186778999]\n",
      "RNA and lnc [0.7763335169432406, 0.7065868274180475]\n",
      "CNV, RNA and lnc [0.5762685444540606, 0.7544910186778999]\n"
     ]
    }
   ],
   "source": [
    "for df, label in Datasets:\n",
    "    x_train, x_test, y_train, y_test = train_test_split(df, y.values.flatten(), test_size = 0.25, random_state = 0)\n",
    "    model = Sequential()\n",
    "    model.add(Dense(16, activation = 'tanh'))\n",
    "    model.add(Dropout(0.3))\n",
    "    model.add(Dense(16, activation = 'tanh'))\n",
    "    model.add(Dropout(0.3))\n",
    "    model.add(Dense(1, activation = 'sigmoid'))\n",
    "    model.compile(loss = 'binary_crossentropy', optimizer = 'adam', metrics = ['accuracy'])\n",
    "    model.fit(x_train.values, y_train, epochs = 150, batch_size = 128, verbose = 0)\n",
    "    print(label, model.evaluate(x_test, y_test, verbose = 0))\n",
    "    \n",
    "    "
   ]
  }
 ],
 "metadata": {
  "kernelspec": {
   "display_name": "Python 3",
   "language": "python",
   "name": "python3"
  },
  "language_info": {
   "codemirror_mode": {
    "name": "ipython",
    "version": 3
   },
   "file_extension": ".py",
   "mimetype": "text/x-python",
   "name": "python",
   "nbconvert_exporter": "python",
   "pygments_lexer": "ipython3",
   "version": "3.6.6"
  }
 },
 "nbformat": 4,
 "nbformat_minor": 2
}

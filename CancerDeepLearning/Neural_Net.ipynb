{
 "cells": [
  {
   "cell_type": "markdown",
   "metadata": {},
   "source": [
    "## Neural Net for combined Copy Number Variation and RNAseq"
   ]
  },
  {
   "cell_type": "code",
   "execution_count": 1,
   "metadata": {},
   "outputs": [],
   "source": [
    "import pandas as pd\n",
    "import numpy as np\n",
    "from sklearn.impute import SimpleImputer"
   ]
  },
  {
   "cell_type": "markdown",
   "metadata": {},
   "source": [
    "### Import and Process Data"
   ]
  },
  {
   "cell_type": "code",
   "execution_count": 2,
   "metadata": {},
   "outputs": [
    {
     "name": "stdout",
     "output_type": "stream",
     "text": [
      "x_cnv shape is: (668, 26094)\n",
      "x_rna shape is: (668, 26094)\n",
      "y shape is: (668, 1)\n"
     ]
    }
   ],
   "source": [
    "#Import Data\n",
    "y = pd.read_table('/Users/a.su/Documents/Cancer_RNAseq_CNV/CancerTypes_y.txt', sep = '\\t', header = None)\n",
    "x_cnv = pd.read_table('/Users/a.su/Documents/Cancer_RNAseq_CNV/CNV_processed.txt', sep = '\\t', header = 0)\n",
    "x_rna = pd.read_table('/Users/a.su/Documents/Cancer_RNAseq_CNV/RNAseq_processed.txt', sep = '\\t', header = 0)\n",
    "\n",
    "# Remove GeneID Column\n",
    "x_cnv = x_cnv.drop('GeneID', axis = 1)\n",
    "x_rna = x_rna.drop('GeneID', axis = 1)\n",
    "\n",
    "# Transpose\n",
    "x_cnv = x_cnv.transpose()\n",
    "x_rna = x_rna.transpose()\n",
    "print('x_cnv shape is:', x_cnv.shape)\n",
    "print('x_rna shape is:', x_rna.shape)\n",
    "print('y shape is:', y.shape)"
   ]
  },
  {
   "cell_type": "code",
   "execution_count": 3,
   "metadata": {},
   "outputs": [
    {
     "name": "stdout",
     "output_type": "stream",
     "text": [
      "Dropped 0 Columns\n"
     ]
    },
    {
     "data": {
      "text/plain": [
       "False"
      ]
     },
     "execution_count": 3,
     "metadata": {},
     "output_type": "execute_result"
    }
   ],
   "source": [
    "#DropNa from columns with at least 50% NaN\n",
    "x_cnv_dropped = x_cnv.dropna(thresh = 0.5*len(x_cnv.index))\n",
    "\n",
    "#Columns dropped\n",
    "print('Dropped {0} Columns'.format(len(x_cnv.columns) - len(x_cnv_dropped.columns)))\n",
    "\n",
    "#Impute \n",
    "impute_median = SimpleImputer(strategy = 'median')\n",
    "x_cnv_imputed = impute_median.fit_transform(x_cnv_dropped)\n",
    "x_cnv_imputed = pd.DataFrame(x_cnv_imputed)\n",
    "\n",
    "#Check for NaN values\n",
    "np.isnan(x_cnv_imputed).all().any()"
   ]
  },
  {
   "cell_type": "code",
   "execution_count": 4,
   "metadata": {},
   "outputs": [
    {
     "name": "stdout",
     "output_type": "stream",
     "text": [
      "RNA: 111  CNV: 0\n"
     ]
    }
   ],
   "source": [
    "def count_all_zeros (df, _axis_ = 0):\n",
    "    return len(df.columns) - np.count_nonzero(df.sum(axis = _axis_), axis = _axis_)\n",
    "\n",
    "#Count number of columns with all zeros\n",
    "print('RNA: {0}  CNV: {1}'.format(count_all_zeros(x_rna, 0), count_all_zeros(x_cnv_imputed, 0)))"
   ]
  },
  {
   "cell_type": "code",
   "execution_count": 5,
   "metadata": {},
   "outputs": [
    {
     "name": "stdout",
     "output_type": "stream",
     "text": [
      "RNA: 111\n",
      "CNV: 0\n"
     ]
    }
   ],
   "source": [
    "#Delete columns with all zeros\n",
    "x_cnv_nozero = x_cnv_imputed.loc[:, (x_cnv_imputed != 0).any(axis = 0)]\n",
    "x_rna_nozero = x_rna.loc[:, (x_rna != 0).any(axis = 0)]\n",
    "\n",
    "#Count number of column deletions\n",
    "print('RNA:', x_rna.shape[1] - x_rna_nozero.shape[1])\n",
    "print('CNV:', x_cnv_imputed.shape[1] - x_cnv_nozero.shape[1])"
   ]
  },
  {
   "cell_type": "code",
   "execution_count": 6,
   "metadata": {},
   "outputs": [
    {
     "name": "stdout",
     "output_type": "stream",
     "text": [
      "RNA: 0  CNV: 0\n"
     ]
    }
   ],
   "source": [
    "#Count number of columns with all zeros\n",
    "print('RNA: {0}  CNV: {1}'.format(count_all_zeros(x_rna_nozero, 0), count_all_zeros(x_cnv_nozero, 0)))"
   ]
  },
  {
   "cell_type": "code",
   "execution_count": 7,
   "metadata": {},
   "outputs": [],
   "source": [
    "#Scale data\n",
    "zscore = lambda x: (x-x.mean())/ x.std()\n",
    "\n",
    "x_rna_processed, x_cnv_processed = x_rna_nozero.transform(zscore), x_cnv_nozero.transform(zscore)"
   ]
  },
  {
   "cell_type": "code",
   "execution_count": 8,
   "metadata": {},
   "outputs": [
    {
     "data": {
      "text/html": [
       "<div>\n",
       "<style scoped>\n",
       "    .dataframe tbody tr th:only-of-type {\n",
       "        vertical-align: middle;\n",
       "    }\n",
       "\n",
       "    .dataframe tbody tr th {\n",
       "        vertical-align: top;\n",
       "    }\n",
       "\n",
       "    .dataframe thead th {\n",
       "        text-align: right;\n",
       "    }\n",
       "</style>\n",
       "<table border=\"1\" class=\"dataframe\">\n",
       "  <thead>\n",
       "    <tr style=\"text-align: right;\">\n",
       "      <th></th>\n",
       "      <th>16046</th>\n",
       "      <th>1236</th>\n",
       "      <th>17065</th>\n",
       "      <th>4638</th>\n",
       "      <th>19611</th>\n",
       "      <th>14269</th>\n",
       "      <th>20170</th>\n",
       "      <th>8579</th>\n",
       "      <th>1677</th>\n",
       "      <th>21218</th>\n",
       "    </tr>\n",
       "  </thead>\n",
       "  <tbody>\n",
       "    <tr>\n",
       "      <th>count</th>\n",
       "      <td>6.680000e+02</td>\n",
       "      <td>6.680000e+02</td>\n",
       "      <td>6.680000e+02</td>\n",
       "      <td>6.680000e+02</td>\n",
       "      <td>6.680000e+02</td>\n",
       "      <td>6.680000e+02</td>\n",
       "      <td>6.680000e+02</td>\n",
       "      <td>6.680000e+02</td>\n",
       "      <td>6.680000e+02</td>\n",
       "      <td>6.680000e+02</td>\n",
       "    </tr>\n",
       "    <tr>\n",
       "      <th>mean</th>\n",
       "      <td>2.001684e-16</td>\n",
       "      <td>2.054868e-16</td>\n",
       "      <td>-2.152636e-15</td>\n",
       "      <td>5.903461e-16</td>\n",
       "      <td>3.091340e-17</td>\n",
       "      <td>1.944552e-17</td>\n",
       "      <td>-1.907988e-16</td>\n",
       "      <td>3.310309e-16</td>\n",
       "      <td>-1.555642e-16</td>\n",
       "      <td>-7.859648e-16</td>\n",
       "    </tr>\n",
       "    <tr>\n",
       "      <th>std</th>\n",
       "      <td>1.000000e+00</td>\n",
       "      <td>1.000000e+00</td>\n",
       "      <td>1.000000e+00</td>\n",
       "      <td>1.000000e+00</td>\n",
       "      <td>1.000000e+00</td>\n",
       "      <td>1.000000e+00</td>\n",
       "      <td>1.000000e+00</td>\n",
       "      <td>1.000000e+00</td>\n",
       "      <td>1.000000e+00</td>\n",
       "      <td>1.000000e+00</td>\n",
       "    </tr>\n",
       "    <tr>\n",
       "      <th>min</th>\n",
       "      <td>-4.099321e-01</td>\n",
       "      <td>-5.062090e-02</td>\n",
       "      <td>-1.629005e+00</td>\n",
       "      <td>-1.313737e+00</td>\n",
       "      <td>-3.952953e-01</td>\n",
       "      <td>-2.628895e-01</td>\n",
       "      <td>-1.729910e+00</td>\n",
       "      <td>-3.619205e-01</td>\n",
       "      <td>-8.795716e-01</td>\n",
       "      <td>-1.474050e+00</td>\n",
       "    </tr>\n",
       "    <tr>\n",
       "      <th>25%</th>\n",
       "      <td>-4.054556e-01</td>\n",
       "      <td>-5.062090e-02</td>\n",
       "      <td>-7.018702e-01</td>\n",
       "      <td>-5.255807e-01</td>\n",
       "      <td>-3.437117e-01</td>\n",
       "      <td>-2.628895e-01</td>\n",
       "      <td>-6.869773e-01</td>\n",
       "      <td>-3.273578e-01</td>\n",
       "      <td>-6.681921e-01</td>\n",
       "      <td>-6.104550e-01</td>\n",
       "    </tr>\n",
       "    <tr>\n",
       "      <th>50%</th>\n",
       "      <td>-3.756354e-01</td>\n",
       "      <td>-5.062090e-02</td>\n",
       "      <td>-2.045003e-01</td>\n",
       "      <td>-2.082984e-01</td>\n",
       "      <td>-2.695236e-01</td>\n",
       "      <td>-2.628895e-01</td>\n",
       "      <td>-1.704542e-01</td>\n",
       "      <td>-2.823355e-01</td>\n",
       "      <td>-3.439054e-01</td>\n",
       "      <td>-2.622204e-01</td>\n",
       "    </tr>\n",
       "    <tr>\n",
       "      <th>75%</th>\n",
       "      <td>-1.083684e-01</td>\n",
       "      <td>-5.062090e-02</td>\n",
       "      <td>5.389657e-01</td>\n",
       "      <td>2.311593e-01</td>\n",
       "      <td>-5.055184e-02</td>\n",
       "      <td>-2.628895e-01</td>\n",
       "      <td>4.873515e-01</td>\n",
       "      <td>-1.615190e-01</td>\n",
       "      <td>4.385225e-01</td>\n",
       "      <td>3.172531e-01</td>\n",
       "    </tr>\n",
       "    <tr>\n",
       "      <th>max</th>\n",
       "      <td>7.876449e+00</td>\n",
       "      <td>2.382069e+01</td>\n",
       "      <td>6.904179e+00</td>\n",
       "      <td>9.357249e+00</td>\n",
       "      <td>1.612834e+01</td>\n",
       "      <td>1.503229e+01</td>\n",
       "      <td>5.304200e+00</td>\n",
       "      <td>1.153786e+01</td>\n",
       "      <td>6.824215e+00</td>\n",
       "      <td>6.525352e+00</td>\n",
       "    </tr>\n",
       "  </tbody>\n",
       "</table>\n",
       "</div>"
      ],
      "text/plain": [
       "              16046         1236          17065         4638          19611  \\\n",
       "count  6.680000e+02  6.680000e+02  6.680000e+02  6.680000e+02  6.680000e+02   \n",
       "mean   2.001684e-16  2.054868e-16 -2.152636e-15  5.903461e-16  3.091340e-17   \n",
       "std    1.000000e+00  1.000000e+00  1.000000e+00  1.000000e+00  1.000000e+00   \n",
       "min   -4.099321e-01 -5.062090e-02 -1.629005e+00 -1.313737e+00 -3.952953e-01   \n",
       "25%   -4.054556e-01 -5.062090e-02 -7.018702e-01 -5.255807e-01 -3.437117e-01   \n",
       "50%   -3.756354e-01 -5.062090e-02 -2.045003e-01 -2.082984e-01 -2.695236e-01   \n",
       "75%   -1.083684e-01 -5.062090e-02  5.389657e-01  2.311593e-01 -5.055184e-02   \n",
       "max    7.876449e+00  2.382069e+01  6.904179e+00  9.357249e+00  1.612834e+01   \n",
       "\n",
       "              14269         20170         8579          1677          21218  \n",
       "count  6.680000e+02  6.680000e+02  6.680000e+02  6.680000e+02  6.680000e+02  \n",
       "mean   1.944552e-17 -1.907988e-16  3.310309e-16 -1.555642e-16 -7.859648e-16  \n",
       "std    1.000000e+00  1.000000e+00  1.000000e+00  1.000000e+00  1.000000e+00  \n",
       "min   -2.628895e-01 -1.729910e+00 -3.619205e-01 -8.795716e-01 -1.474050e+00  \n",
       "25%   -2.628895e-01 -6.869773e-01 -3.273578e-01 -6.681921e-01 -6.104550e-01  \n",
       "50%   -2.628895e-01 -1.704542e-01 -2.823355e-01 -3.439054e-01 -2.622204e-01  \n",
       "75%   -2.628895e-01  4.873515e-01 -1.615190e-01  4.385225e-01  3.172531e-01  \n",
       "max    1.503229e+01  5.304200e+00  1.153786e+01  6.824215e+00  6.525352e+00  "
      ]
     },
     "execution_count": 8,
     "metadata": {},
     "output_type": "execute_result"
    }
   ],
   "source": [
    "#Visualise\n",
    "x_rna_processed[np.random.choice(x_rna_processed.columns.values, size = 10, replace = False)].describe()"
   ]
  },
  {
   "cell_type": "code",
   "execution_count": 9,
   "metadata": {},
   "outputs": [
    {
     "data": {
      "text/html": [
       "<div>\n",
       "<style scoped>\n",
       "    .dataframe tbody tr th:only-of-type {\n",
       "        vertical-align: middle;\n",
       "    }\n",
       "\n",
       "    .dataframe tbody tr th {\n",
       "        vertical-align: top;\n",
       "    }\n",
       "\n",
       "    .dataframe thead th {\n",
       "        text-align: right;\n",
       "    }\n",
       "</style>\n",
       "<table border=\"1\" class=\"dataframe\">\n",
       "  <thead>\n",
       "    <tr style=\"text-align: right;\">\n",
       "      <th></th>\n",
       "      <th>20665</th>\n",
       "      <th>11989</th>\n",
       "      <th>12631</th>\n",
       "      <th>16736</th>\n",
       "      <th>2416</th>\n",
       "      <th>24872</th>\n",
       "      <th>10883</th>\n",
       "      <th>8083</th>\n",
       "      <th>22498</th>\n",
       "      <th>7283</th>\n",
       "    </tr>\n",
       "  </thead>\n",
       "  <tbody>\n",
       "    <tr>\n",
       "      <th>count</th>\n",
       "      <td>6.680000e+02</td>\n",
       "      <td>6.680000e+02</td>\n",
       "      <td>6.680000e+02</td>\n",
       "      <td>6.680000e+02</td>\n",
       "      <td>6.680000e+02</td>\n",
       "      <td>6.680000e+02</td>\n",
       "      <td>6.680000e+02</td>\n",
       "      <td>6.680000e+02</td>\n",
       "      <td>6.680000e+02</td>\n",
       "      <td>6.680000e+02</td>\n",
       "    </tr>\n",
       "    <tr>\n",
       "      <th>mean</th>\n",
       "      <td>1.137646e-16</td>\n",
       "      <td>1.339996e-17</td>\n",
       "      <td>-5.153064e-16</td>\n",
       "      <td>-6.839173e-17</td>\n",
       "      <td>-4.951129e-16</td>\n",
       "      <td>4.188267e-17</td>\n",
       "      <td>1.027538e-16</td>\n",
       "      <td>3.889429e-17</td>\n",
       "      <td>-2.249531e-16</td>\n",
       "      <td>1.222616e-17</td>\n",
       "    </tr>\n",
       "    <tr>\n",
       "      <th>std</th>\n",
       "      <td>1.000000e+00</td>\n",
       "      <td>1.000000e+00</td>\n",
       "      <td>1.000000e+00</td>\n",
       "      <td>1.000000e+00</td>\n",
       "      <td>1.000000e+00</td>\n",
       "      <td>1.000000e+00</td>\n",
       "      <td>1.000000e+00</td>\n",
       "      <td>1.000000e+00</td>\n",
       "      <td>1.000000e+00</td>\n",
       "      <td>1.000000e+00</td>\n",
       "    </tr>\n",
       "    <tr>\n",
       "      <th>min</th>\n",
       "      <td>-3.513355e+00</td>\n",
       "      <td>-3.047426e+00</td>\n",
       "      <td>-2.723188e+00</td>\n",
       "      <td>-2.536881e+00</td>\n",
       "      <td>-2.650585e+00</td>\n",
       "      <td>-2.855066e+00</td>\n",
       "      <td>-2.764668e+00</td>\n",
       "      <td>-3.139909e+00</td>\n",
       "      <td>-2.767190e+00</td>\n",
       "      <td>-3.530641e+00</td>\n",
       "    </tr>\n",
       "    <tr>\n",
       "      <th>25%</th>\n",
       "      <td>-5.512655e-01</td>\n",
       "      <td>-6.530461e-01</td>\n",
       "      <td>-6.466873e-01</td>\n",
       "      <td>-6.279536e-01</td>\n",
       "      <td>-6.114195e-01</td>\n",
       "      <td>-6.834878e-01</td>\n",
       "      <td>-5.861491e-01</td>\n",
       "      <td>-5.659159e-01</td>\n",
       "      <td>-5.682198e-01</td>\n",
       "      <td>-5.518471e-01</td>\n",
       "    </tr>\n",
       "    <tr>\n",
       "      <th>50%</th>\n",
       "      <td>-5.431102e-02</td>\n",
       "      <td>6.541808e-04</td>\n",
       "      <td>8.836601e-02</td>\n",
       "      <td>-4.166704e-02</td>\n",
       "      <td>-8.013790e-02</td>\n",
       "      <td>6.602438e-02</td>\n",
       "      <td>-1.119096e-01</td>\n",
       "      <td>-5.370347e-03</td>\n",
       "      <td>-1.293190e-01</td>\n",
       "      <td>2.644476e-02</td>\n",
       "    </tr>\n",
       "    <tr>\n",
       "      <th>75%</th>\n",
       "      <td>5.953876e-01</td>\n",
       "      <td>5.837063e-01</td>\n",
       "      <td>6.100552e-01</td>\n",
       "      <td>5.185141e-01</td>\n",
       "      <td>5.358399e-01</td>\n",
       "      <td>5.385110e-01</td>\n",
       "      <td>6.708193e-01</td>\n",
       "      <td>5.975693e-01</td>\n",
       "      <td>5.289132e-01</td>\n",
       "      <td>5.686261e-01</td>\n",
       "    </tr>\n",
       "    <tr>\n",
       "      <th>max</th>\n",
       "      <td>3.189324e+00</td>\n",
       "      <td>2.910944e+00</td>\n",
       "      <td>3.134454e+00</td>\n",
       "      <td>4.699214e+00</td>\n",
       "      <td>4.088514e+00</td>\n",
       "      <td>3.186691e+00</td>\n",
       "      <td>3.666028e+00</td>\n",
       "      <td>3.027985e+00</td>\n",
       "      <td>5.779696e+00</td>\n",
       "      <td>3.862350e+00</td>\n",
       "    </tr>\n",
       "  </tbody>\n",
       "</table>\n",
       "</div>"
      ],
      "text/plain": [
       "              20665         11989         12631         16736         2416   \\\n",
       "count  6.680000e+02  6.680000e+02  6.680000e+02  6.680000e+02  6.680000e+02   \n",
       "mean   1.137646e-16  1.339996e-17 -5.153064e-16 -6.839173e-17 -4.951129e-16   \n",
       "std    1.000000e+00  1.000000e+00  1.000000e+00  1.000000e+00  1.000000e+00   \n",
       "min   -3.513355e+00 -3.047426e+00 -2.723188e+00 -2.536881e+00 -2.650585e+00   \n",
       "25%   -5.512655e-01 -6.530461e-01 -6.466873e-01 -6.279536e-01 -6.114195e-01   \n",
       "50%   -5.431102e-02  6.541808e-04  8.836601e-02 -4.166704e-02 -8.013790e-02   \n",
       "75%    5.953876e-01  5.837063e-01  6.100552e-01  5.185141e-01  5.358399e-01   \n",
       "max    3.189324e+00  2.910944e+00  3.134454e+00  4.699214e+00  4.088514e+00   \n",
       "\n",
       "              24872         10883         8083          22498         7283   \n",
       "count  6.680000e+02  6.680000e+02  6.680000e+02  6.680000e+02  6.680000e+02  \n",
       "mean   4.188267e-17  1.027538e-16  3.889429e-17 -2.249531e-16  1.222616e-17  \n",
       "std    1.000000e+00  1.000000e+00  1.000000e+00  1.000000e+00  1.000000e+00  \n",
       "min   -2.855066e+00 -2.764668e+00 -3.139909e+00 -2.767190e+00 -3.530641e+00  \n",
       "25%   -6.834878e-01 -5.861491e-01 -5.659159e-01 -5.682198e-01 -5.518471e-01  \n",
       "50%    6.602438e-02 -1.119096e-01 -5.370347e-03 -1.293190e-01  2.644476e-02  \n",
       "75%    5.385110e-01  6.708193e-01  5.975693e-01  5.289132e-01  5.686261e-01  \n",
       "max    3.186691e+00  3.666028e+00  3.027985e+00  5.779696e+00  3.862350e+00  "
      ]
     },
     "execution_count": 9,
     "metadata": {},
     "output_type": "execute_result"
    }
   ],
   "source": [
    "x_cnv_processed[np.random.choice(x_cnv_processed.columns.values, size = 10, replace = False)].describe()"
   ]
  },
  {
   "cell_type": "code",
   "execution_count": 10,
   "metadata": {},
   "outputs": [
    {
     "name": "stdout",
     "output_type": "stream",
     "text": [
      "RNA: False  CNV: False\n"
     ]
    }
   ],
   "source": [
    "#Check for NaN values\n",
    "print('RNA: {0}  CNV: {1}'.format(x_rna_processed.isnull().any().any(), x_cnv_processed.isnull().any().any()))"
   ]
  },
  {
   "cell_type": "code",
   "execution_count": 11,
   "metadata": {},
   "outputs": [
    {
     "data": {
      "text/plain": [
       "(668, 52077)"
      ]
     },
     "execution_count": 11,
     "metadata": {},
     "output_type": "execute_result"
    }
   ],
   "source": [
    "#Combine CNV and RNA data\n",
    "x_combined = pd.concat([x_cnv_processed.reset_index(drop = True), x_rna_processed.reset_index(drop = True)] , axis = 1)\n",
    "y_combined = y\n",
    "x_combined.shape"
   ]
  },
  {
   "cell_type": "markdown",
   "metadata": {},
   "source": [
    "### Neural Net"
   ]
  },
  {
   "cell_type": "code",
   "execution_count": 12,
   "metadata": {},
   "outputs": [
    {
     "name": "stderr",
     "output_type": "stream",
     "text": [
      "Using TensorFlow backend.\n"
     ]
    }
   ],
   "source": [
    "from sklearn.model_selection import train_test_split\n",
    "from keras.models import Sequential\n",
    "from keras.layers import Dense, Dropout"
   ]
  },
  {
   "cell_type": "code",
   "execution_count": 13,
   "metadata": {},
   "outputs": [],
   "source": [
    "#Split data into training and test sets\n",
    "x_combined_train, x_combined_test, y_combined_train, y_combined_test = train_test_split(\n",
    "    x_combined, y_combined.values.flatten(), test_size = 0.25, random_state = 0)"
   ]
  },
  {
   "cell_type": "code",
   "execution_count": 82,
   "metadata": {},
   "outputs": [],
   "source": [
    "\"\"\"\n",
    "Best setting so far are:\n",
    "\n",
    "model.add(Dense(256, activation = 'relu'))\n",
    "model.add(Dropout(0.25))\n",
    "model.add(Dense(128, activation = 'relu'))\n",
    "model.add(Dropout(0.25))\n",
    "model.add(Dense(128, activation = 'relu'))\n",
    "model.add(Dropout(0.25))\n",
    "model.add(Dense(1, activation = 'sigmoid'))\n",
    "\n",
    "Accuracy ~81.4%\n",
    "\"\"\"\n",
    "\n",
    "model = Sequential()\n",
    "model.add(Dense(512, activation = 'relu'))\n",
    "model.add(Dropout(0.25))\n",
    "model.add(Dense(256, activation = 'relu'))\n",
    "model.add(Dropout(0.25))\n",
    "model.add(Dense(256, activation = 'relu'))\n",
    "model.add(Dropout(0.25))\n",
    "model.add(Dense(1, activation = 'sigmoid'))"
   ]
  },
  {
   "cell_type": "code",
   "execution_count": 83,
   "metadata": {},
   "outputs": [],
   "source": [
    "model.compile(loss = 'binary_crossentropy', optimizer = 'adam', metrics = ['accuracy'])"
   ]
  },
  {
   "cell_type": "code",
   "execution_count": null,
   "metadata": {},
   "outputs": [
    {
     "name": "stdout",
     "output_type": "stream",
     "text": [
      "Epoch 1/100\n",
      "501/501 [==============================] - 17s 35ms/step - loss: 0.8413 - acc: 0.7305\n",
      "Epoch 2/100\n",
      "501/501 [==============================] - 14s 27ms/step - loss: 0.7103 - acc: 0.8363\n",
      "Epoch 3/100\n",
      "501/501 [==============================] - 14s 28ms/step - loss: 0.6316 - acc: 0.8603\n",
      "Epoch 4/100\n",
      "501/501 [==============================] - 13s 26ms/step - loss: 0.3226 - acc: 0.9281\n",
      "Epoch 5/100\n",
      "501/501 [==============================] - 2375s 5s/step - loss: 0.4707 - acc: 0.9082\n",
      "Epoch 6/100\n",
      "501/501 [==============================] - 14s 28ms/step - loss: 0.3128 - acc: 0.9341\n",
      "Epoch 7/100\n",
      "501/501 [==============================] - 14s 27ms/step - loss: 0.2165 - acc: 0.9601\n",
      "Epoch 8/100\n",
      "501/501 [==============================] - 15s 29ms/step - loss: 0.2741 - acc: 0.9601\n",
      "Epoch 9/100\n",
      "501/501 [==============================] - 13s 27ms/step - loss: 0.2389 - acc: 0.9601\n",
      "Epoch 10/100\n",
      "501/501 [==============================] - 14s 28ms/step - loss: 0.1346 - acc: 0.9780\n",
      "Epoch 11/100\n",
      "501/501 [==============================] - 14s 27ms/step - loss: 0.1667 - acc: 0.9721\n",
      "Epoch 12/100\n",
      "501/501 [==============================] - 13s 26ms/step - loss: 0.2958 - acc: 0.9621\n",
      "Epoch 13/100\n"
     ]
    }
   ],
   "source": [
    "model.fit(x_combined_train.values, y_combined_train, epochs = 100, batch_size = 256)"
   ]
  },
  {
   "cell_type": "code",
   "execution_count": 80,
   "metadata": {},
   "outputs": [
    {
     "name": "stdout",
     "output_type": "stream",
     "text": [
      "167/167 [==============================] - 3s 17ms/step\n"
     ]
    },
    {
     "data": {
      "text/plain": [
       "[3.2905049124163783, 0.7844311380814649]"
      ]
     },
     "execution_count": 80,
     "metadata": {},
     "output_type": "execute_result"
    }
   ],
   "source": [
    "model.evaluate(x_combined_test, y_combined_test)"
   ]
  },
  {
   "cell_type": "code",
   "execution_count": 53,
   "metadata": {},
   "outputs": [
    {
     "data": {
      "text/plain": [
       "['loss', 'acc']"
      ]
     },
     "execution_count": 53,
     "metadata": {},
     "output_type": "execute_result"
    }
   ],
   "source": [
    "model.metrics_names"
   ]
  },
  {
   "cell_type": "code",
   "execution_count": 26,
   "metadata": {},
   "outputs": [
    {
     "data": {
      "text/plain": [
       "[2.712361869697799,\n",
       " 2.842535646137839,\n",
       " 2.7175946806719202,\n",
       " 2.669288774450382,\n",
       " 2.341652239154199,\n",
       " 2.5074479242046914,\n",
       " 2.2964247691179227,\n",
       " 2.2870805886929144,\n",
       " 2.455936697904697,\n",
       " 2.39284881574665,\n",
       " 2.4461055332553125,\n",
       " 2.321954621112427,\n",
       " 2.176153286012585,\n",
       " 2.288134625809873,\n",
       " 2.0440334793098436,\n",
       " 1.9020685250173786,\n",
       " 2.102909130250622,\n",
       " 1.780704125665982,\n",
       " 1.6593140813404927,\n",
       " 1.7542160278308891]"
      ]
     },
     "execution_count": 26,
     "metadata": {},
     "output_type": "execute_result"
    }
   ],
   "source": [
    "model.history.history['loss']"
   ]
  },
  {
   "cell_type": "code",
   "execution_count": 29,
   "metadata": {},
   "outputs": [
    {
     "data": {
      "text/plain": [
       "[<matplotlib.lines.Line2D at 0x1a787b7048>]"
      ]
     },
     "execution_count": 29,
     "metadata": {},
     "output_type": "execute_result"
    }
   ],
   "source": [
    "import matplotlib.pyplot as plt"
   ]
  },
  {
   "cell_type": "code",
   "execution_count": 81,
   "metadata": {},
   "outputs": [
    {
     "data": {
      "image/png": "[encoded data removed]",
      "text/plain": [
       "<Figure size 432x288 with 1 Axes>"
      ]
     },
     "metadata": {
      "needs_background": "light"
     },
     "output_type": "display_data"
    }
   ],
   "source": [
    "plt.plot(model.history.epoch, model.history.history['loss'])\n",
    "plt.show()"
   ]
  }
 ],
 "metadata": {
  "kernelspec": {
   "display_name": "Python 3",
   "language": "python",
   "name": "python3"
  },
  "language_info": {
   "codemirror_mode": {
    "name": "ipython",
    "version": 3
   },
   "file_extension": ".py",
   "mimetype": "text/x-python",
   "name": "python",
   "nbconvert_exporter": "python",
   "pygments_lexer": "ipython3",
   "version": "3.6.6"
  }
 },
 "nbformat": 4,
 "nbformat_minor": 2
}
